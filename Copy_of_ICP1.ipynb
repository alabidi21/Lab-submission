{
  "nbformat": 4,
  "nbformat_minor": 0,
  "metadata": {
    "colab": {
      "name": "Copy of ICP1.ipynb",
      "provenance": [],
      "mount_file_id": "1Xdj-VE3DiS3nJtIao-R8T8M7AZhl0WuV",
      "authorship_tag": "ABX9TyNaGiYEWDmdP1AyVlKOB1ze",
      "include_colab_link": true
    },
    "kernelspec": {
      "name": "python3",
      "display_name": "Python 3"
    }
  },
  "cells": [
    {
      "cell_type": "markdown",
      "metadata": {
        "id": "view-in-github",
        "colab_type": "text"
      },
      "source": [
        "<a href=\"https://colab.research.google.com/github/alabidi21/Lab-submission/blob/main/Copy_of_ICP1.ipynb\" target=\"_parent\"><img src=\"https://colab.research.google.com/assets/colab-badge.svg\" alt=\"Open In Colab\"/></a>"
      ]
    },
    {
      "cell_type": "markdown",
      "metadata": {
        "id": "D7h9sri84IHM"
      },
      "source": [
        "\r\n",
        "## Import libraries \r\n",
        "---\r\n",
        "\r\n"
      ]
    },
    {
      "cell_type": "code",
      "metadata": {
        "colab": {
          "base_uri": "https://localhost:8080/"
        },
        "id": "vcNC3eqo4VL_",
        "outputId": "9e2e3f27-b674-463a-fb30-2b8afcb5e5d1"
      },
      "source": [
        "import nltk\r\n",
        "nltk.download('punkt')\r\n",
        "import pandas as pd\r\n",
        "from nltk.tokenize import sent_tokenize\r\n",
        "from nltk.tokenize import word_tokenize\r\n",
        "from nltk.probability import FreqDist\r\n",
        "import matplotlib.pyplot as plt"
      ],
      "execution_count": 1,
      "outputs": [
        {
          "output_type": "stream",
          "text": [
            "[nltk_data] Downloading package punkt to /root/nltk_data...\n",
            "[nltk_data]   Unzipping tokenizers/punkt.zip.\n"
          ],
          "name": "stdout"
        }
      ]
    },
    {
      "cell_type": "markdown",
      "metadata": {
        "id": "5zIS5TaK5gQl"
      },
      "source": [
        "Readind the files as a pandas datafram"
      ]
    },
    {
      "cell_type": "code",
      "metadata": {
        "colab": {
          "base_uri": "https://localhost:8080/",
          "height": 580
        },
        "id": "Vk5iX0uw6REj",
        "outputId": "2d07c0c4-54bb-461e-b05a-12622413bf11"
      },
      "source": [
        "dataset=pd.read_csv(\"/content/drive/MyDrive/data/ICP1_data_file.txt\",delimiter=\"\\t\")\r\n",
        "dataset"
      ],
      "execution_count": 2,
      "outputs": [
        {
          "output_type": "execute_result",
          "data": {
            "text/html": [
              "<div>\n",
              "<style scoped>\n",
              "    .dataframe tbody tr th:only-of-type {\n",
              "        vertical-align: middle;\n",
              "    }\n",
              "\n",
              "    .dataframe tbody tr th {\n",
              "        vertical-align: top;\n",
              "    }\n",
              "\n",
              "    .dataframe thead th {\n",
              "        text-align: right;\n",
              "    }\n",
              "</style>\n",
              "<table border=\"1\" class=\"dataframe\">\n",
              "  <thead>\n",
              "    <tr style=\"text-align: right;\">\n",
              "      <th></th>\n",
              "      <th>Acute kidney injury (AKI) after liver transplantation has been reported to be associated</th>\n",
              "    </tr>\n",
              "  </thead>\n",
              "  <tbody>\n",
              "    <tr>\n",
              "      <th>0</th>\n",
              "      <td>with increased mortality. Recently, machine le...</td>\n",
              "    </tr>\n",
              "    <tr>\n",
              "      <th>1</th>\n",
              "      <td>predictive ability than the classic statistica...</td>\n",
              "    </tr>\n",
              "    <tr>\n",
              "      <th>2</th>\n",
              "      <td>learning approaches with that of logistic regr...</td>\n",
              "    </tr>\n",
              "    <tr>\n",
              "      <th>3</th>\n",
              "      <td>We reviewed 1211 patients and preoperative and...</td>\n",
              "    </tr>\n",
              "    <tr>\n",
              "      <th>4</th>\n",
              "      <td>variables were obtained. The primary outcome w...</td>\n",
              "    </tr>\n",
              "    <tr>\n",
              "      <th>5</th>\n",
              "      <td>network criteria. The following machine learni...</td>\n",
              "    </tr>\n",
              "    <tr>\n",
              "      <th>6</th>\n",
              "      <td>gradient boosting machine, support vector mach...</td>\n",
              "    </tr>\n",
              "    <tr>\n",
              "      <th>7</th>\n",
              "      <td>belief networks. These techniques were compare...</td>\n",
              "    </tr>\n",
              "    <tr>\n",
              "      <th>8</th>\n",
              "      <td>area under the receiver-operating characterist...</td>\n",
              "    </tr>\n",
              "    <tr>\n",
              "      <th>9</th>\n",
              "      <td>(30.1%). The performance in terms of AUROC was...</td>\n",
              "    </tr>\n",
              "    <tr>\n",
              "      <th>10</th>\n",
              "      <td>analyses to predict AKI of all stages (0.90, 9...</td>\n",
              "    </tr>\n",
              "    <tr>\n",
              "      <th>11</th>\n",
              "      <td>The AUROC of logistic regression analysis was ...</td>\n",
              "    </tr>\n",
              "    <tr>\n",
              "      <th>12</th>\n",
              "      <td>forest techniques showed moderate performance ...</td>\n",
              "    </tr>\n",
              "    <tr>\n",
              "      <th>13</th>\n",
              "      <td>of support the vector machine, naïve Bayes, ne...</td>\n",
              "    </tr>\n",
              "    <tr>\n",
              "      <th>14</th>\n",
              "      <td>than that of the other models. In our comparis...</td>\n",
              "    </tr>\n",
              "    <tr>\n",
              "      <th>15</th>\n",
              "      <td>regression analysis, the gradient boosting mac...</td>\n",
              "    </tr>\n",
              "    <tr>\n",
              "      <th>16</th>\n",
              "      <td>AUROC. An internet-based risk estimator was de...</td>\n",
              "    </tr>\n",
              "    <tr>\n",
              "      <th>17</th>\n",
              "      <td>However, prospective studies are required to v...</td>\n",
              "    </tr>\n",
              "  </tbody>\n",
              "</table>\n",
              "</div>"
            ],
            "text/plain": [
              "   Acute kidney injury (AKI) after liver transplantation has been reported to be associated\n",
              "0   with increased mortality. Recently, machine le...                                      \n",
              "1   predictive ability than the classic statistica...                                      \n",
              "2   learning approaches with that of logistic regr...                                      \n",
              "3   We reviewed 1211 patients and preoperative and...                                      \n",
              "4   variables were obtained. The primary outcome w...                                      \n",
              "5   network criteria. The following machine learni...                                      \n",
              "6   gradient boosting machine, support vector mach...                                      \n",
              "7   belief networks. These techniques were compare...                                      \n",
              "8   area under the receiver-operating characterist...                                      \n",
              "9   (30.1%). The performance in terms of AUROC was...                                      \n",
              "10  analyses to predict AKI of all stages (0.90, 9...                                      \n",
              "11  The AUROC of logistic regression analysis was ...                                      \n",
              "12  forest techniques showed moderate performance ...                                      \n",
              "13  of support the vector machine, naïve Bayes, ne...                                      \n",
              "14  than that of the other models. In our comparis...                                      \n",
              "15  regression analysis, the gradient boosting mac...                                      \n",
              "16  AUROC. An internet-based risk estimator was de...                                      \n",
              "17  However, prospective studies are required to v...                                      "
            ]
          },
          "metadata": {
            "tags": []
          },
          "execution_count": 2
        }
      ]
    },
    {
      "cell_type": "markdown",
      "metadata": {
        "id": "LIEO9AAZ6pjz"
      },
      "source": [
        "## Converting the data frame to text"
      ]
    },
    {
      "cell_type": "code",
      "metadata": {
        "colab": {
          "base_uri": "https://localhost:8080/",
          "height": 120
        },
        "id": "DeG9JtiI646f",
        "outputId": "702ee51c-7c25-4933-e5f4-326811b4245c"
      },
      "source": [
        "text= dataset.to_string()\r\n",
        "text"
      ],
      "execution_count": 3,
      "outputs": [
        {
          "output_type": "execute_result",
          "data": {
            "application/vnd.google.colaboratory.intrinsic+json": {
              "type": "string"
            },
            "text/plain": [
              "'                     Acute kidney injury (AKI) after liver transplantation has been reported to be associated\\n0                with increased mortality. Recently, machine learning approaches were reported to have better\\n1            predictive ability than the classic statistical analysis. We compared the performance of machine\\n2   learning approaches with that of logistic regression analysis to predict AKI after liver transplantation.\\n3                We reviewed 1211 patients and preoperative and intraoperative anesthesia and surgery-related\\n4           variables were obtained. The primary outcome was postoperative AKI defined by acute kidney injury\\n5        network criteria. The following machine learning techniques were used: decision tree, random forest,\\n6             gradient boosting machine, support vector machine, naïve Bayes, multilayer perceptron, and deep\\n7             belief networks. These techniques were compared with logistic regression analysis regarding the\\n8               area under the receiver-operating characteristic curve (AUROC). AKI developed in 365 patients\\n9                  (30.1%). The performance in terms of AUROC was best in gradient boosting machine among all\\n10  analyses to predict AKI of all stages (0.90, 95% confidence interval [CI] 0.86–0.93) or stage 2 or 3 AKI.\\n11            The AUROC of logistic regression analysis was 0.61 (95% CI 0.56–0.66). Decision tree and random\\n12               forest techniques showed moderate performance (AUROC 0.86 and 0.85, respectively). The AUROC\\n13            of support the vector machine, naïve Bayes, neural network, and deep belief network was smaller\\n14        than that of the other models. In our comparison of seven machine learning approaches with logistic\\n15            regression analysis, the gradient boosting machine showed the best performance with the highest\\n16             AUROC. An internet-based risk estimator was developed based on our model of gradient boosting.\\n17                                         However, prospective studies are required to validate our results.'"
            ]
          },
          "metadata": {
            "tags": []
          },
          "execution_count": 3
        }
      ]
    },
    {
      "cell_type": "markdown",
      "metadata": {
        "id": "uWvmL6Wg7Czb"
      },
      "source": [
        "##Breading the text into sentences"
      ]
    },
    {
      "cell_type": "code",
      "metadata": {
        "colab": {
          "base_uri": "https://localhost:8080/"
        },
        "id": "fsz9LNXF7VQP",
        "outputId": "d3f7257c-912d-4645-becb-d2b723926882"
      },
      "source": [
        "tokenized_text = sent_tokenize(text)\r\n",
        "print(tokenized_text)"
      ],
      "execution_count": 5,
      "outputs": [
        {
          "output_type": "stream",
          "text": [
            "['                     Acute kidney injury (AKI) after liver transplantation has been reported to be associated\\n0                with increased mortality.', 'Recently, machine learning approaches were reported to have better\\n1            predictive ability than the classic statistical analysis.', 'We compared the performance of machine\\n2   learning approaches with that of logistic regression analysis to predict AKI after liver transplantation.', '3                We reviewed 1211 patients and preoperative and intraoperative anesthesia and surgery-related\\n4           variables were obtained.', 'The primary outcome was postoperative AKI defined by acute kidney injury\\n5        network criteria.', 'The following machine learning techniques were used: decision tree, random forest,\\n6             gradient boosting machine, support vector machine, naïve Bayes, multilayer perceptron, and deep\\n7             belief networks.', 'These techniques were compared with logistic regression analysis regarding the\\n8               area under the receiver-operating characteristic curve (AUROC).', 'AKI developed in 365 patients\\n9                  (30.1%).', 'The performance in terms of AUROC was best in gradient boosting machine among all\\n10  analyses to predict AKI of all stages (0.90, 95% confidence interval [CI] 0.86–0.93) or stage 2 or 3 AKI.', '11            The AUROC of logistic regression analysis was 0.61 (95% CI 0.56–0.66).', 'Decision tree and random\\n12               forest techniques showed moderate performance (AUROC 0.86 and 0.85, respectively).', 'The AUROC\\n13            of support the vector machine, naïve Bayes, neural network, and deep belief network was smaller\\n14        than that of the other models.', 'In our comparison of seven machine learning approaches with logistic\\n15            regression analysis, the gradient boosting machine showed the best performance with the highest\\n16             AUROC.', 'An internet-based risk estimator was developed based on our model of gradient boosting.', '17                                         However, prospective studies are required to validate our results.']\n"
          ],
          "name": "stdout"
        }
      ]
    },
    {
      "cell_type": "markdown",
      "metadata": {
        "id": "3qydM7dp7mo1"
      },
      "source": [
        "## Breaking the text into words"
      ]
    },
    {
      "cell_type": "code",
      "metadata": {
        "colab": {
          "base_uri": "https://localhost:8080/"
        },
        "id": "xxi2Fj2I75jV",
        "outputId": "505f7b9d-fd58-4222-f6dd-9bdd197eb085"
      },
      "source": [
        "tokenized_word=word_tokenize(text)\r\n",
        "print(tokenized_word)\r\n",
        "print(len(tokenized_word))"
      ],
      "execution_count": 6,
      "outputs": [
        {
          "output_type": "stream",
          "text": [
            "['Acute', 'kidney', 'injury', '(', 'AKI', ')', 'after', 'liver', 'transplantation', 'has', 'been', 'reported', 'to', 'be', 'associated', '0', 'with', 'increased', 'mortality', '.', 'Recently', ',', 'machine', 'learning', 'approaches', 'were', 'reported', 'to', 'have', 'better', '1', 'predictive', 'ability', 'than', 'the', 'classic', 'statistical', 'analysis', '.', 'We', 'compared', 'the', 'performance', 'of', 'machine', '2', 'learning', 'approaches', 'with', 'that', 'of', 'logistic', 'regression', 'analysis', 'to', 'predict', 'AKI', 'after', 'liver', 'transplantation', '.', '3', 'We', 'reviewed', '1211', 'patients', 'and', 'preoperative', 'and', 'intraoperative', 'anesthesia', 'and', 'surgery-related', '4', 'variables', 'were', 'obtained', '.', 'The', 'primary', 'outcome', 'was', 'postoperative', 'AKI', 'defined', 'by', 'acute', 'kidney', 'injury', '5', 'network', 'criteria', '.', 'The', 'following', 'machine', 'learning', 'techniques', 'were', 'used', ':', 'decision', 'tree', ',', 'random', 'forest', ',', '6', 'gradient', 'boosting', 'machine', ',', 'support', 'vector', 'machine', ',', 'naïve', 'Bayes', ',', 'multilayer', 'perceptron', ',', 'and', 'deep', '7', 'belief', 'networks', '.', 'These', 'techniques', 'were', 'compared', 'with', 'logistic', 'regression', 'analysis', 'regarding', 'the', '8', 'area', 'under', 'the', 'receiver-operating', 'characteristic', 'curve', '(', 'AUROC', ')', '.', 'AKI', 'developed', 'in', '365', 'patients', '9', '(', '30.1', '%', ')', '.', 'The', 'performance', 'in', 'terms', 'of', 'AUROC', 'was', 'best', 'in', 'gradient', 'boosting', 'machine', 'among', 'all', '10', 'analyses', 'to', 'predict', 'AKI', 'of', 'all', 'stages', '(', '0.90', ',', '95', '%', 'confidence', 'interval', '[', 'CI', ']', '0.86–0.93', ')', 'or', 'stage', '2', 'or', '3', 'AKI', '.', '11', 'The', 'AUROC', 'of', 'logistic', 'regression', 'analysis', 'was', '0.61', '(', '95', '%', 'CI', '0.56–0.66', ')', '.', 'Decision', 'tree', 'and', 'random', '12', 'forest', 'techniques', 'showed', 'moderate', 'performance', '(', 'AUROC', '0.86', 'and', '0.85', ',', 'respectively', ')', '.', 'The', 'AUROC', '13', 'of', 'support', 'the', 'vector', 'machine', ',', 'naïve', 'Bayes', ',', 'neural', 'network', ',', 'and', 'deep', 'belief', 'network', 'was', 'smaller', '14', 'than', 'that', 'of', 'the', 'other', 'models', '.', 'In', 'our', 'comparison', 'of', 'seven', 'machine', 'learning', 'approaches', 'with', 'logistic', '15', 'regression', 'analysis', ',', 'the', 'gradient', 'boosting', 'machine', 'showed', 'the', 'best', 'performance', 'with', 'the', 'highest', '16', 'AUROC', '.', 'An', 'internet-based', 'risk', 'estimator', 'was', 'developed', 'based', 'on', 'our', 'model', 'of', 'gradient', 'boosting', '.', '17', 'However', ',', 'prospective', 'studies', 'are', 'required', 'to', 'validate', 'our', 'results', '.']\n",
            "319\n"
          ],
          "name": "stdout"
        }
      ]
    },
    {
      "cell_type": "markdown",
      "metadata": {
        "id": "Lt7RuD7c7_Ro"
      },
      "source": [
        "## Finding the frequencies distribution"
      ]
    },
    {
      "cell_type": "code",
      "metadata": {
        "colab": {
          "base_uri": "https://localhost:8080/"
        },
        "id": "K0NOVCkq8MxQ",
        "outputId": "f40c57d8-d895-4292-ebbb-9d59bb89cbee"
      },
      "source": [
        "fdist = FreqDist(tokenized_word)\r\n",
        "print(fdist)"
      ],
      "execution_count": 7,
      "outputs": [
        {
          "output_type": "stream",
          "text": [
            "<FreqDist with 159 samples and 319 outcomes>\n"
          ],
          "name": "stdout"
        }
      ]
    },
    {
      "cell_type": "markdown",
      "metadata": {
        "id": "6-G90G9m8Zs3"
      },
      "source": [
        "## Finding the two most common words"
      ]
    },
    {
      "cell_type": "code",
      "metadata": {
        "colab": {
          "base_uri": "https://localhost:8080/"
        },
        "id": "UoxtfSoy8hKN",
        "outputId": "c8b21113-6391-4c4b-8f81-e99074ccb5d8"
      },
      "source": [
        "fdist.most_common(20)"
      ],
      "execution_count": 8,
      "outputs": [
        {
          "output_type": "execute_result",
          "data": {
            "text/plain": [
              "[('.', 15),\n",
              " (',', 14),\n",
              " ('machine', 9),\n",
              " ('the', 9),\n",
              " ('of', 9),\n",
              " ('and', 7),\n",
              " ('(', 6),\n",
              " ('AKI', 6),\n",
              " (')', 6),\n",
              " ('AUROC', 6),\n",
              " ('to', 5),\n",
              " ('with', 5),\n",
              " ('analysis', 5),\n",
              " ('The', 5),\n",
              " ('was', 5),\n",
              " ('learning', 4),\n",
              " ('were', 4),\n",
              " ('performance', 4),\n",
              " ('logistic', 4),\n",
              " ('regression', 4)]"
            ]
          },
          "metadata": {
            "tags": []
          },
          "execution_count": 8
        }
      ]
    },
    {
      "cell_type": "markdown",
      "metadata": {
        "id": "qcE-zse38tO0"
      },
      "source": [
        "##Plot of the frequencies distribution"
      ]
    },
    {
      "cell_type": "code",
      "metadata": {
        "colab": {
          "base_uri": "https://localhost:8080/",
          "height": 346
        },
        "id": "DozJaC8K84mI",
        "outputId": "f17e4bd2-dfed-4863-dead-2c6916607178"
      },
      "source": [
        "v=fdist.plot(40,cumulative=False)\r\n",
        "plt.show()"
      ],
      "execution_count": 9,
      "outputs": [
        {
          "output_type": "display_data",
          "data": {
            "image/png": "[encoded data removed]",
            "text/plain": [
              "<Figure size 432x288 with 1 Axes>"
            ]
          },
          "metadata": {
            "tags": [],
            "needs_background": "light"
          }
        }
      ]
    },
    {
      "cell_type": "markdown",
      "metadata": {
        "id": "enkQT8yvxfOF"
      },
      "source": [
        "## Stemming of sentences"
      ]
    },
    {
      "cell_type": "code",
      "metadata": {
        "colab": {
          "base_uri": "https://localhost:8080/"
        },
        "id": "yp1cIciSxopL",
        "outputId": "9502044f-f335-445a-e690-9ca6b8961f78"
      },
      "source": [
        "from nltk.stem import PorterStemmer\r\n",
        "from nltk.tokenize import sent_tokenize, word_tokenize\r\n",
        "ps=PorterStemmer()\r\n",
        "example_text = \"\"\"Acute kidney injury (AKI) after liver transplantation has been reported to be associated\r\n",
        "with increased mortality. Recently, machine learning approaches were reported to have better\r\n",
        "predictive ability than the classic statistical analysis. \"\"\"\r\n",
        "\r\n",
        "words= word_tokenize(example_text)\r\n",
        "for w in words:\r\n",
        "  print (ps.stem(w))\r\n",
        "\r\n",
        "\r\n"
      ],
      "execution_count": 10,
      "outputs": [
        {
          "output_type": "stream",
          "text": [
            "acut\n",
            "kidney\n",
            "injuri\n",
            "(\n",
            "aki\n",
            ")\n",
            "after\n",
            "liver\n",
            "transplant\n",
            "ha\n",
            "been\n",
            "report\n",
            "to\n",
            "be\n",
            "associ\n",
            "with\n",
            "increas\n",
            "mortal\n",
            ".\n",
            "recent\n",
            ",\n",
            "machin\n",
            "learn\n",
            "approach\n",
            "were\n",
            "report\n",
            "to\n",
            "have\n",
            "better\n",
            "predict\n",
            "abil\n",
            "than\n",
            "the\n",
            "classic\n",
            "statist\n",
            "analysi\n",
            ".\n"
          ],
          "name": "stdout"
        }
      ]
    },
    {
      "cell_type": "markdown",
      "metadata": {
        "id": "58UiQO7tnsDW"
      },
      "source": [
        "## The primary target of Part-of-Speech (POS) Tagging"
      ]
    },
    {
      "cell_type": "code",
      "metadata": {
        "colab": {
          "base_uri": "https://localhost:8080/"
        },
        "id": "o-RDKWwaoPxh",
        "outputId": "d704c224-e133-4e70-a69f-9e77c2186977"
      },
      "source": [
        "import nltk\r\n",
        "nltk.download('averaged_perceptron_tagger')\r\n",
        "nltk.pos_tag(tokenized_word)"
      ],
      "execution_count": 11,
      "outputs": [
        {
          "output_type": "stream",
          "text": [
            "[nltk_data] Downloading package averaged_perceptron_tagger to\n",
            "[nltk_data]     /root/nltk_data...\n",
            "[nltk_data]   Unzipping taggers/averaged_perceptron_tagger.zip.\n"
          ],
          "name": "stdout"
        },
        {
          "output_type": "execute_result",
          "data": {
            "text/plain": [
              "[('Acute', 'NNP'),\n",
              " ('kidney', 'NN'),\n",
              " ('injury', 'NN'),\n",
              " ('(', '('),\n",
              " ('AKI', 'NNP'),\n",
              " (')', ')'),\n",
              " ('after', 'IN'),\n",
              " ('liver', 'NN'),\n",
              " ('transplantation', 'NN'),\n",
              " ('has', 'VBZ'),\n",
              " ('been', 'VBN'),\n",
              " ('reported', 'VBN'),\n",
              " ('to', 'TO'),\n",
              " ('be', 'VB'),\n",
              " ('associated', 'VBN'),\n",
              " ('0', 'CD'),\n",
              " ('with', 'IN'),\n",
              " ('increased', 'VBN'),\n",
              " ('mortality', 'NN'),\n",
              " ('.', '.'),\n",
              " ('Recently', 'RB'),\n",
              " (',', ','),\n",
              " ('machine', 'NN'),\n",
              " ('learning', 'NN'),\n",
              " ('approaches', 'NNS'),\n",
              " ('were', 'VBD'),\n",
              " ('reported', 'VBN'),\n",
              " ('to', 'TO'),\n",
              " ('have', 'VB'),\n",
              " ('better', 'JJR'),\n",
              " ('1', 'CD'),\n",
              " ('predictive', 'JJ'),\n",
              " ('ability', 'NN'),\n",
              " ('than', 'IN'),\n",
              " ('the', 'DT'),\n",
              " ('classic', 'JJ'),\n",
              " ('statistical', 'JJ'),\n",
              " ('analysis', 'NN'),\n",
              " ('.', '.'),\n",
              " ('We', 'PRP'),\n",
              " ('compared', 'VBN'),\n",
              " ('the', 'DT'),\n",
              " ('performance', 'NN'),\n",
              " ('of', 'IN'),\n",
              " ('machine', 'NN'),\n",
              " ('2', 'CD'),\n",
              " ('learning', 'NN'),\n",
              " ('approaches', 'NNS'),\n",
              " ('with', 'IN'),\n",
              " ('that', 'DT'),\n",
              " ('of', 'IN'),\n",
              " ('logistic', 'JJ'),\n",
              " ('regression', 'NN'),\n",
              " ('analysis', 'NN'),\n",
              " ('to', 'TO'),\n",
              " ('predict', 'VB'),\n",
              " ('AKI', 'NNP'),\n",
              " ('after', 'IN'),\n",
              " ('liver', 'JJ'),\n",
              " ('transplantation', 'NN'),\n",
              " ('.', '.'),\n",
              " ('3', 'CD'),\n",
              " ('We', 'PRP'),\n",
              " ('reviewed', 'VBD'),\n",
              " ('1211', 'CD'),\n",
              " ('patients', 'NNS'),\n",
              " ('and', 'CC'),\n",
              " ('preoperative', 'JJ'),\n",
              " ('and', 'CC'),\n",
              " ('intraoperative', 'JJ'),\n",
              " ('anesthesia', 'NN'),\n",
              " ('and', 'CC'),\n",
              " ('surgery-related', 'JJ'),\n",
              " ('4', 'CD'),\n",
              " ('variables', 'NNS'),\n",
              " ('were', 'VBD'),\n",
              " ('obtained', 'VBN'),\n",
              " ('.', '.'),\n",
              " ('The', 'DT'),\n",
              " ('primary', 'JJ'),\n",
              " ('outcome', 'NN'),\n",
              " ('was', 'VBD'),\n",
              " ('postoperative', 'JJ'),\n",
              " ('AKI', 'NNP'),\n",
              " ('defined', 'VBN'),\n",
              " ('by', 'IN'),\n",
              " ('acute', 'JJ'),\n",
              " ('kidney', 'NN'),\n",
              " ('injury', 'NN'),\n",
              " ('5', 'CD'),\n",
              " ('network', 'NN'),\n",
              " ('criteria', 'NNS'),\n",
              " ('.', '.'),\n",
              " ('The', 'DT'),\n",
              " ('following', 'JJ'),\n",
              " ('machine', 'NN'),\n",
              " ('learning', 'VBG'),\n",
              " ('techniques', 'NNS'),\n",
              " ('were', 'VBD'),\n",
              " ('used', 'VBN'),\n",
              " (':', ':'),\n",
              " ('decision', 'NN'),\n",
              " ('tree', 'NN'),\n",
              " (',', ','),\n",
              " ('random', 'JJ'),\n",
              " ('forest', 'JJS'),\n",
              " (',', ','),\n",
              " ('6', 'CD'),\n",
              " ('gradient', 'NN'),\n",
              " ('boosting', 'NN'),\n",
              " ('machine', 'NN'),\n",
              " (',', ','),\n",
              " ('support', 'NN'),\n",
              " ('vector', 'NN'),\n",
              " ('machine', 'NN'),\n",
              " (',', ','),\n",
              " ('naïve', 'JJ'),\n",
              " ('Bayes', 'NNP'),\n",
              " (',', ','),\n",
              " ('multilayer', 'NN'),\n",
              " ('perceptron', 'NN'),\n",
              " (',', ','),\n",
              " ('and', 'CC'),\n",
              " ('deep', 'JJ'),\n",
              " ('7', 'CD'),\n",
              " ('belief', 'NN'),\n",
              " ('networks', 'NNS'),\n",
              " ('.', '.'),\n",
              " ('These', 'DT'),\n",
              " ('techniques', 'NNS'),\n",
              " ('were', 'VBD'),\n",
              " ('compared', 'VBN'),\n",
              " ('with', 'IN'),\n",
              " ('logistic', 'JJ'),\n",
              " ('regression', 'NN'),\n",
              " ('analysis', 'NN'),\n",
              " ('regarding', 'VBG'),\n",
              " ('the', 'DT'),\n",
              " ('8', 'CD'),\n",
              " ('area', 'NN'),\n",
              " ('under', 'IN'),\n",
              " ('the', 'DT'),\n",
              " ('receiver-operating', 'JJ'),\n",
              " ('characteristic', 'JJ'),\n",
              " ('curve', 'NN'),\n",
              " ('(', '('),\n",
              " ('AUROC', 'NNP'),\n",
              " (')', ')'),\n",
              " ('.', '.'),\n",
              " ('AKI', 'NNP'),\n",
              " ('developed', 'VBD'),\n",
              " ('in', 'IN'),\n",
              " ('365', 'CD'),\n",
              " ('patients', 'NNS'),\n",
              " ('9', 'CD'),\n",
              " ('(', '('),\n",
              " ('30.1', 'CD'),\n",
              " ('%', 'NN'),\n",
              " (')', ')'),\n",
              " ('.', '.'),\n",
              " ('The', 'DT'),\n",
              " ('performance', 'NN'),\n",
              " ('in', 'IN'),\n",
              " ('terms', 'NNS'),\n",
              " ('of', 'IN'),\n",
              " ('AUROC', 'NNP'),\n",
              " ('was', 'VBD'),\n",
              " ('best', 'JJS'),\n",
              " ('in', 'IN'),\n",
              " ('gradient', 'NN'),\n",
              " ('boosting', 'NN'),\n",
              " ('machine', 'NN'),\n",
              " ('among', 'IN'),\n",
              " ('all', 'DT'),\n",
              " ('10', 'CD'),\n",
              " ('analyses', 'NNS'),\n",
              " ('to', 'TO'),\n",
              " ('predict', 'VB'),\n",
              " ('AKI', 'NNP'),\n",
              " ('of', 'IN'),\n",
              " ('all', 'DT'),\n",
              " ('stages', 'NNS'),\n",
              " ('(', '('),\n",
              " ('0.90', 'CD'),\n",
              " (',', ','),\n",
              " ('95', 'CD'),\n",
              " ('%', 'NN'),\n",
              " ('confidence', 'NN'),\n",
              " ('interval', 'NN'),\n",
              " ('[', 'NNP'),\n",
              " ('CI', 'NNP'),\n",
              " (']', 'NNP'),\n",
              " ('0.86–0.93', 'CD'),\n",
              " (')', ')'),\n",
              " ('or', 'CC'),\n",
              " ('stage', 'VB'),\n",
              " ('2', 'CD'),\n",
              " ('or', 'CC'),\n",
              " ('3', 'CD'),\n",
              " ('AKI', 'NNP'),\n",
              " ('.', '.'),\n",
              " ('11', 'CD'),\n",
              " ('The', 'DT'),\n",
              " ('AUROC', 'NNP'),\n",
              " ('of', 'IN'),\n",
              " ('logistic', 'JJ'),\n",
              " ('regression', 'NN'),\n",
              " ('analysis', 'NN'),\n",
              " ('was', 'VBD'),\n",
              " ('0.61', 'CD'),\n",
              " ('(', '('),\n",
              " ('95', 'CD'),\n",
              " ('%', 'NN'),\n",
              " ('CI', 'NNP'),\n",
              " ('0.56–0.66', 'CD'),\n",
              " (')', ')'),\n",
              " ('.', '.'),\n",
              " ('Decision', 'NNP'),\n",
              " ('tree', 'NN'),\n",
              " ('and', 'CC'),\n",
              " ('random', 'VB'),\n",
              " ('12', 'CD'),\n",
              " ('forest', 'JJS'),\n",
              " ('techniques', 'NNS'),\n",
              " ('showed', 'VBD'),\n",
              " ('moderate', 'JJ'),\n",
              " ('performance', 'NN'),\n",
              " ('(', '('),\n",
              " ('AUROC', 'NNP'),\n",
              " ('0.86', 'CD'),\n",
              " ('and', 'CC'),\n",
              " ('0.85', 'CD'),\n",
              " (',', ','),\n",
              " ('respectively', 'RB'),\n",
              " (')', ')'),\n",
              " ('.', '.'),\n",
              " ('The', 'DT'),\n",
              " ('AUROC', 'NNP'),\n",
              " ('13', 'CD'),\n",
              " ('of', 'IN'),\n",
              " ('support', 'NN'),\n",
              " ('the', 'DT'),\n",
              " ('vector', 'NN'),\n",
              " ('machine', 'NN'),\n",
              " (',', ','),\n",
              " ('naïve', 'JJ'),\n",
              " ('Bayes', 'NNP'),\n",
              " (',', ','),\n",
              " ('neural', 'JJ'),\n",
              " ('network', 'NN'),\n",
              " (',', ','),\n",
              " ('and', 'CC'),\n",
              " ('deep', 'JJ'),\n",
              " ('belief', 'NN'),\n",
              " ('network', 'NN'),\n",
              " ('was', 'VBD'),\n",
              " ('smaller', 'JJR'),\n",
              " ('14', 'CD'),\n",
              " ('than', 'IN'),\n",
              " ('that', 'DT'),\n",
              " ('of', 'IN'),\n",
              " ('the', 'DT'),\n",
              " ('other', 'JJ'),\n",
              " ('models', 'NNS'),\n",
              " ('.', '.'),\n",
              " ('In', 'IN'),\n",
              " ('our', 'PRP$'),\n",
              " ('comparison', 'NN'),\n",
              " ('of', 'IN'),\n",
              " ('seven', 'CD'),\n",
              " ('machine', 'NN'),\n",
              " ('learning', 'VBG'),\n",
              " ('approaches', 'NNS'),\n",
              " ('with', 'IN'),\n",
              " ('logistic', 'JJ'),\n",
              " ('15', 'CD'),\n",
              " ('regression', 'NN'),\n",
              " ('analysis', 'NN'),\n",
              " (',', ','),\n",
              " ('the', 'DT'),\n",
              " ('gradient', 'NN'),\n",
              " ('boosting', 'NN'),\n",
              " ('machine', 'NN'),\n",
              " ('showed', 'VBD'),\n",
              " ('the', 'DT'),\n",
              " ('best', 'JJS'),\n",
              " ('performance', 'NN'),\n",
              " ('with', 'IN'),\n",
              " ('the', 'DT'),\n",
              " ('highest', 'JJS'),\n",
              " ('16', 'CD'),\n",
              " ('AUROC', 'NNP'),\n",
              " ('.', '.'),\n",
              " ('An', 'DT'),\n",
              " ('internet-based', 'JJ'),\n",
              " ('risk', 'NN'),\n",
              " ('estimator', 'NN'),\n",
              " ('was', 'VBD'),\n",
              " ('developed', 'VBN'),\n",
              " ('based', 'VBN'),\n",
              " ('on', 'IN'),\n",
              " ('our', 'PRP$'),\n",
              " ('model', 'NN'),\n",
              " ('of', 'IN'),\n",
              " ('gradient', 'JJ'),\n",
              " ('boosting', 'NN'),\n",
              " ('.', '.'),\n",
              " ('17', 'CD'),\n",
              " ('However', 'RB'),\n",
              " (',', ','),\n",
              " ('prospective', 'JJ'),\n",
              " ('studies', 'NNS'),\n",
              " ('are', 'VBP'),\n",
              " ('required', 'VBN'),\n",
              " ('to', 'TO'),\n",
              " ('validate', 'VB'),\n",
              " ('our', 'PRP$'),\n",
              " ('results', 'NNS'),\n",
              " ('.', '.')]"
            ]
          },
          "metadata": {
            "tags": []
          },
          "execution_count": 11
        }
      ]
    },
    {
      "cell_type": "markdown",
      "metadata": {
        "id": "_7LLhr357Sa_"
      },
      "source": [
        "### Named identity recognition "
      ]
    },
    {
      "cell_type": "code",
      "metadata": {
        "colab": {
          "base_uri": "https://localhost:8080/"
        },
        "id": "sZI3V4lI7ko4",
        "outputId": "a82810ba-8852-46d0-d11e-fa585418436f"
      },
      "source": [
        "import nltk\r\n",
        "nltk.download('maxent_ne_chunker')\r\n",
        "nltk.download('words')\r\n",
        "from nltk import ne_chunk\r\n",
        "tags= nltk.pos_tag(tokenized_word)\r\n",
        "chunk= ne_chunk(tags)\r\n",
        "print (chunk)"
      ],
      "execution_count": 12,
      "outputs": [
        {
          "output_type": "stream",
          "text": [
            "[nltk_data] Downloading package maxent_ne_chunker to\n",
            "[nltk_data]     /root/nltk_data...\n",
            "[nltk_data]   Unzipping chunkers/maxent_ne_chunker.zip.\n",
            "[nltk_data] Downloading package words to /root/nltk_data...\n",
            "[nltk_data]   Unzipping corpora/words.zip.\n",
            "(S\n",
            "  (GPE Acute/NNP)\n",
            "  kidney/NN\n",
            "  injury/NN\n",
            "  (/(\n",
            "  (ORGANIZATION AKI/NNP)\n",
            "  )/)\n",
            "  after/IN\n",
            "  liver/NN\n",
            "  transplantation/NN\n",
            "  has/VBZ\n",
            "  been/VBN\n",
            "  reported/VBN\n",
            "  to/TO\n",
            "  be/VB\n",
            "  associated/VBN\n",
            "  0/CD\n",
            "  with/IN\n",
            "  increased/VBN\n",
            "  mortality/NN\n",
            "  ./.\n",
            "  Recently/RB\n",
            "  ,/,\n",
            "  machine/NN\n",
            "  learning/NN\n",
            "  approaches/NNS\n",
            "  were/VBD\n",
            "  reported/VBN\n",
            "  to/TO\n",
            "  have/VB\n",
            "  better/JJR\n",
            "  1/CD\n",
            "  predictive/JJ\n",
            "  ability/NN\n",
            "  than/IN\n",
            "  the/DT\n",
            "  classic/JJ\n",
            "  statistical/JJ\n",
            "  analysis/NN\n",
            "  ./.\n",
            "  We/PRP\n",
            "  compared/VBN\n",
            "  the/DT\n",
            "  performance/NN\n",
            "  of/IN\n",
            "  machine/NN\n",
            "  2/CD\n",
            "  learning/NN\n",
            "  approaches/NNS\n",
            "  with/IN\n",
            "  that/DT\n",
            "  of/IN\n",
            "  logistic/JJ\n",
            "  regression/NN\n",
            "  analysis/NN\n",
            "  to/TO\n",
            "  predict/VB\n",
            "  (ORGANIZATION AKI/NNP)\n",
            "  after/IN\n",
            "  liver/JJ\n",
            "  transplantation/NN\n",
            "  ./.\n",
            "  3/CD\n",
            "  We/PRP\n",
            "  reviewed/VBD\n",
            "  1211/CD\n",
            "  patients/NNS\n",
            "  and/CC\n",
            "  preoperative/JJ\n",
            "  and/CC\n",
            "  intraoperative/JJ\n",
            "  anesthesia/NN\n",
            "  and/CC\n",
            "  surgery-related/JJ\n",
            "  4/CD\n",
            "  variables/NNS\n",
            "  were/VBD\n",
            "  obtained/VBN\n",
            "  ./.\n",
            "  The/DT\n",
            "  primary/JJ\n",
            "  outcome/NN\n",
            "  was/VBD\n",
            "  postoperative/JJ\n",
            "  (ORGANIZATION AKI/NNP)\n",
            "  defined/VBN\n",
            "  by/IN\n",
            "  acute/JJ\n",
            "  kidney/NN\n",
            "  injury/NN\n",
            "  5/CD\n",
            "  network/NN\n",
            "  criteria/NNS\n",
            "  ./.\n",
            "  The/DT\n",
            "  following/JJ\n",
            "  machine/NN\n",
            "  learning/VBG\n",
            "  techniques/NNS\n",
            "  were/VBD\n",
            "  used/VBN\n",
            "  :/:\n",
            "  decision/NN\n",
            "  tree/NN\n",
            "  ,/,\n",
            "  random/JJ\n",
            "  forest/JJS\n",
            "  ,/,\n",
            "  6/CD\n",
            "  gradient/NN\n",
            "  boosting/NN\n",
            "  machine/NN\n",
            "  ,/,\n",
            "  support/NN\n",
            "  vector/NN\n",
            "  machine/NN\n",
            "  ,/,\n",
            "  naïve/JJ\n",
            "  Bayes/NNP\n",
            "  ,/,\n",
            "  multilayer/NN\n",
            "  perceptron/NN\n",
            "  ,/,\n",
            "  and/CC\n",
            "  deep/JJ\n",
            "  7/CD\n",
            "  belief/NN\n",
            "  networks/NNS\n",
            "  ./.\n",
            "  These/DT\n",
            "  techniques/NNS\n",
            "  were/VBD\n",
            "  compared/VBN\n",
            "  with/IN\n",
            "  logistic/JJ\n",
            "  regression/NN\n",
            "  analysis/NN\n",
            "  regarding/VBG\n",
            "  the/DT\n",
            "  8/CD\n",
            "  area/NN\n",
            "  under/IN\n",
            "  the/DT\n",
            "  receiver-operating/JJ\n",
            "  characteristic/JJ\n",
            "  curve/NN\n",
            "  (/(\n",
            "  (ORGANIZATION AUROC/NNP)\n",
            "  )/)\n",
            "  ./.\n",
            "  (ORGANIZATION AKI/NNP)\n",
            "  developed/VBD\n",
            "  in/IN\n",
            "  365/CD\n",
            "  patients/NNS\n",
            "  9/CD\n",
            "  (/(\n",
            "  30.1/CD\n",
            "  %/NN\n",
            "  )/)\n",
            "  ./.\n",
            "  The/DT\n",
            "  performance/NN\n",
            "  in/IN\n",
            "  terms/NNS\n",
            "  of/IN\n",
            "  (ORGANIZATION AUROC/NNP)\n",
            "  was/VBD\n",
            "  best/JJS\n",
            "  in/IN\n",
            "  gradient/NN\n",
            "  boosting/NN\n",
            "  machine/NN\n",
            "  among/IN\n",
            "  all/DT\n",
            "  10/CD\n",
            "  analyses/NNS\n",
            "  to/TO\n",
            "  predict/VB\n",
            "  (ORGANIZATION AKI/NNP)\n",
            "  of/IN\n",
            "  all/DT\n",
            "  stages/NNS\n",
            "  (/(\n",
            "  0.90/CD\n",
            "  ,/,\n",
            "  95/CD\n",
            "  %/NN\n",
            "  confidence/NN\n",
            "  interval/NN\n",
            "  [/NNP\n",
            "  CI/NNP\n",
            "  ]/NNP\n",
            "  0.86–0.93/CD\n",
            "  )/)\n",
            "  or/CC\n",
            "  stage/VB\n",
            "  2/CD\n",
            "  or/CC\n",
            "  3/CD\n",
            "  AKI/NNP\n",
            "  ./.\n",
            "  11/CD\n",
            "  The/DT\n",
            "  (ORGANIZATION AUROC/NNP)\n",
            "  of/IN\n",
            "  logistic/JJ\n",
            "  regression/NN\n",
            "  analysis/NN\n",
            "  was/VBD\n",
            "  0.61/CD\n",
            "  (/(\n",
            "  95/CD\n",
            "  %/NN\n",
            "  CI/NNP\n",
            "  0.56–0.66/CD\n",
            "  )/)\n",
            "  ./.\n",
            "  Decision/NNP\n",
            "  tree/NN\n",
            "  and/CC\n",
            "  random/VB\n",
            "  12/CD\n",
            "  forest/JJS\n",
            "  techniques/NNS\n",
            "  showed/VBD\n",
            "  moderate/JJ\n",
            "  performance/NN\n",
            "  (/(\n",
            "  (ORGANIZATION AUROC/NNP)\n",
            "  0.86/CD\n",
            "  and/CC\n",
            "  0.85/CD\n",
            "  ,/,\n",
            "  respectively/RB\n",
            "  )/)\n",
            "  ./.\n",
            "  The/DT\n",
            "  (ORGANIZATION AUROC/NNP)\n",
            "  13/CD\n",
            "  of/IN\n",
            "  support/NN\n",
            "  the/DT\n",
            "  vector/NN\n",
            "  machine/NN\n",
            "  ,/,\n",
            "  naïve/JJ\n",
            "  Bayes/NNP\n",
            "  ,/,\n",
            "  neural/JJ\n",
            "  network/NN\n",
            "  ,/,\n",
            "  and/CC\n",
            "  deep/JJ\n",
            "  belief/NN\n",
            "  network/NN\n",
            "  was/VBD\n",
            "  smaller/JJR\n",
            "  14/CD\n",
            "  than/IN\n",
            "  that/DT\n",
            "  of/IN\n",
            "  the/DT\n",
            "  other/JJ\n",
            "  models/NNS\n",
            "  ./.\n",
            "  In/IN\n",
            "  our/PRP$\n",
            "  comparison/NN\n",
            "  of/IN\n",
            "  seven/CD\n",
            "  machine/NN\n",
            "  learning/VBG\n",
            "  approaches/NNS\n",
            "  with/IN\n",
            "  logistic/JJ\n",
            "  15/CD\n",
            "  regression/NN\n",
            "  analysis/NN\n",
            "  ,/,\n",
            "  the/DT\n",
            "  gradient/NN\n",
            "  boosting/NN\n",
            "  machine/NN\n",
            "  showed/VBD\n",
            "  the/DT\n",
            "  best/JJS\n",
            "  performance/NN\n",
            "  with/IN\n",
            "  the/DT\n",
            "  highest/JJS\n",
            "  16/CD\n",
            "  AUROC/NNP\n",
            "  ./.\n",
            "  An/DT\n",
            "  internet-based/JJ\n",
            "  risk/NN\n",
            "  estimator/NN\n",
            "  was/VBD\n",
            "  developed/VBN\n",
            "  based/VBN\n",
            "  on/IN\n",
            "  our/PRP$\n",
            "  model/NN\n",
            "  of/IN\n",
            "  gradient/JJ\n",
            "  boosting/NN\n",
            "  ./.\n",
            "  17/CD\n",
            "  However/RB\n",
            "  ,/,\n",
            "  prospective/JJ\n",
            "  studies/NNS\n",
            "  are/VBP\n",
            "  required/VBN\n",
            "  to/TO\n",
            "  validate/VB\n",
            "  our/PRP$\n",
            "  results/NNS\n",
            "  ./.)\n"
          ],
          "name": "stdout"
        }
      ]
    },
    {
      "cell_type": "markdown",
      "metadata": {
        "id": "fDJA7LYI__-w"
      },
      "source": [
        "### Bigram, Trigrams, Ngrams"
      ]
    },
    {
      "cell_type": "code",
      "metadata": {
        "id": "I63mP8YWAJg5"
      },
      "source": [
        "from nltk.util import bigrams, trigrams, ngrams"
      ],
      "execution_count": 13,
      "outputs": []
    },
    {
      "cell_type": "code",
      "metadata": {
        "colab": {
          "base_uri": "https://localhost:8080/"
        },
        "id": "3U1gM3eoAZcK",
        "outputId": "7467a58f-e777-46b4-d1b0-b918e4838230"
      },
      "source": [
        "text_bigrams=list(nltk.bigrams(tokenized_word))\r\n",
        "print(text_bigrams)"
      ],
      "execution_count": 14,
      "outputs": [
        {
          "output_type": "stream",
          "text": [
            "[('Acute', 'kidney'), ('kidney', 'injury'), ('injury', '('), ('(', 'AKI'), ('AKI', ')'), (')', 'after'), ('after', 'liver'), ('liver', 'transplantation'), ('transplantation', 'has'), ('has', 'been'), ('been', 'reported'), ('reported', 'to'), ('to', 'be'), ('be', 'associated'), ('associated', '0'), ('0', 'with'), ('with', 'increased'), ('increased', 'mortality'), ('mortality', '.'), ('.', 'Recently'), ('Recently', ','), (',', 'machine'), ('machine', 'learning'), ('learning', 'approaches'), ('approaches', 'were'), ('were', 'reported'), ('reported', 'to'), ('to', 'have'), ('have', 'better'), ('better', '1'), ('1', 'predictive'), ('predictive', 'ability'), ('ability', 'than'), ('than', 'the'), ('the', 'classic'), ('classic', 'statistical'), ('statistical', 'analysis'), ('analysis', '.'), ('.', 'We'), ('We', 'compared'), ('compared', 'the'), ('the', 'performance'), ('performance', 'of'), ('of', 'machine'), ('machine', '2'), ('2', 'learning'), ('learning', 'approaches'), ('approaches', 'with'), ('with', 'that'), ('that', 'of'), ('of', 'logistic'), ('logistic', 'regression'), ('regression', 'analysis'), ('analysis', 'to'), ('to', 'predict'), ('predict', 'AKI'), ('AKI', 'after'), ('after', 'liver'), ('liver', 'transplantation'), ('transplantation', '.'), ('.', '3'), ('3', 'We'), ('We', 'reviewed'), ('reviewed', '1211'), ('1211', 'patients'), ('patients', 'and'), ('and', 'preoperative'), ('preoperative', 'and'), ('and', 'intraoperative'), ('intraoperative', 'anesthesia'), ('anesthesia', 'and'), ('and', 'surgery-related'), ('surgery-related', '4'), ('4', 'variables'), ('variables', 'were'), ('were', 'obtained'), ('obtained', '.'), ('.', 'The'), ('The', 'primary'), ('primary', 'outcome'), ('outcome', 'was'), ('was', 'postoperative'), ('postoperative', 'AKI'), ('AKI', 'defined'), ('defined', 'by'), ('by', 'acute'), ('acute', 'kidney'), ('kidney', 'injury'), ('injury', '5'), ('5', 'network'), ('network', 'criteria'), ('criteria', '.'), ('.', 'The'), ('The', 'following'), ('following', 'machine'), ('machine', 'learning'), ('learning', 'techniques'), ('techniques', 'were'), ('were', 'used'), ('used', ':'), (':', 'decision'), ('decision', 'tree'), ('tree', ','), (',', 'random'), ('random', 'forest'), ('forest', ','), (',', '6'), ('6', 'gradient'), ('gradient', 'boosting'), ('boosting', 'machine'), ('machine', ','), (',', 'support'), ('support', 'vector'), ('vector', 'machine'), ('machine', ','), (',', 'naïve'), ('naïve', 'Bayes'), ('Bayes', ','), (',', 'multilayer'), ('multilayer', 'perceptron'), ('perceptron', ','), (',', 'and'), ('and', 'deep'), ('deep', '7'), ('7', 'belief'), ('belief', 'networks'), ('networks', '.'), ('.', 'These'), ('These', 'techniques'), ('techniques', 'were'), ('were', 'compared'), ('compared', 'with'), ('with', 'logistic'), ('logistic', 'regression'), ('regression', 'analysis'), ('analysis', 'regarding'), ('regarding', 'the'), ('the', '8'), ('8', 'area'), ('area', 'under'), ('under', 'the'), ('the', 'receiver-operating'), ('receiver-operating', 'characteristic'), ('characteristic', 'curve'), ('curve', '('), ('(', 'AUROC'), ('AUROC', ')'), (')', '.'), ('.', 'AKI'), ('AKI', 'developed'), ('developed', 'in'), ('in', '365'), ('365', 'patients'), ('patients', '9'), ('9', '('), ('(', '30.1'), ('30.1', '%'), ('%', ')'), (')', '.'), ('.', 'The'), ('The', 'performance'), ('performance', 'in'), ('in', 'terms'), ('terms', 'of'), ('of', 'AUROC'), ('AUROC', 'was'), ('was', 'best'), ('best', 'in'), ('in', 'gradient'), ('gradient', 'boosting'), ('boosting', 'machine'), ('machine', 'among'), ('among', 'all'), ('all', '10'), ('10', 'analyses'), ('analyses', 'to'), ('to', 'predict'), ('predict', 'AKI'), ('AKI', 'of'), ('of', 'all'), ('all', 'stages'), ('stages', '('), ('(', '0.90'), ('0.90', ','), (',', '95'), ('95', '%'), ('%', 'confidence'), ('confidence', 'interval'), ('interval', '['), ('[', 'CI'), ('CI', ']'), (']', '0.86–0.93'), ('0.86–0.93', ')'), (')', 'or'), ('or', 'stage'), ('stage', '2'), ('2', 'or'), ('or', '3'), ('3', 'AKI'), ('AKI', '.'), ('.', '11'), ('11', 'The'), ('The', 'AUROC'), ('AUROC', 'of'), ('of', 'logistic'), ('logistic', 'regression'), ('regression', 'analysis'), ('analysis', 'was'), ('was', '0.61'), ('0.61', '('), ('(', '95'), ('95', '%'), ('%', 'CI'), ('CI', '0.56–0.66'), ('0.56–0.66', ')'), (')', '.'), ('.', 'Decision'), ('Decision', 'tree'), ('tree', 'and'), ('and', 'random'), ('random', '12'), ('12', 'forest'), ('forest', 'techniques'), ('techniques', 'showed'), ('showed', 'moderate'), ('moderate', 'performance'), ('performance', '('), ('(', 'AUROC'), ('AUROC', '0.86'), ('0.86', 'and'), ('and', '0.85'), ('0.85', ','), (',', 'respectively'), ('respectively', ')'), (')', '.'), ('.', 'The'), ('The', 'AUROC'), ('AUROC', '13'), ('13', 'of'), ('of', 'support'), ('support', 'the'), ('the', 'vector'), ('vector', 'machine'), ('machine', ','), (',', 'naïve'), ('naïve', 'Bayes'), ('Bayes', ','), (',', 'neural'), ('neural', 'network'), ('network', ','), (',', 'and'), ('and', 'deep'), ('deep', 'belief'), ('belief', 'network'), ('network', 'was'), ('was', 'smaller'), ('smaller', '14'), ('14', 'than'), ('than', 'that'), ('that', 'of'), ('of', 'the'), ('the', 'other'), ('other', 'models'), ('models', '.'), ('.', 'In'), ('In', 'our'), ('our', 'comparison'), ('comparison', 'of'), ('of', 'seven'), ('seven', 'machine'), ('machine', 'learning'), ('learning', 'approaches'), ('approaches', 'with'), ('with', 'logistic'), ('logistic', '15'), ('15', 'regression'), ('regression', 'analysis'), ('analysis', ','), (',', 'the'), ('the', 'gradient'), ('gradient', 'boosting'), ('boosting', 'machine'), ('machine', 'showed'), ('showed', 'the'), ('the', 'best'), ('best', 'performance'), ('performance', 'with'), ('with', 'the'), ('the', 'highest'), ('highest', '16'), ('16', 'AUROC'), ('AUROC', '.'), ('.', 'An'), ('An', 'internet-based'), ('internet-based', 'risk'), ('risk', 'estimator'), ('estimator', 'was'), ('was', 'developed'), ('developed', 'based'), ('based', 'on'), ('on', 'our'), ('our', 'model'), ('model', 'of'), ('of', 'gradient'), ('gradient', 'boosting'), ('boosting', '.'), ('.', '17'), ('17', 'However'), ('However', ','), (',', 'prospective'), ('prospective', 'studies'), ('studies', 'are'), ('are', 'required'), ('required', 'to'), ('to', 'validate'), ('validate', 'our'), ('our', 'results'), ('results', '.')]\n"
          ],
          "name": "stdout"
        }
      ]
    },
    {
      "cell_type": "code",
      "metadata": {
        "colab": {
          "base_uri": "https://localhost:8080/"
        },
        "id": "ZrDPMi1bqx9h",
        "outputId": "47a6f43d-87f7-4c4a-fa1a-a06ccfbdf711"
      },
      "source": [
        "text_trigrams=list(nltk.trigrams(tokenized_word))\r\n",
        "print(text_trigrams)"
      ],
      "execution_count": 15,
      "outputs": [
        {
          "output_type": "stream",
          "text": [
            "[('Acute', 'kidney', 'injury'), ('kidney', 'injury', '('), ('injury', '(', 'AKI'), ('(', 'AKI', ')'), ('AKI', ')', 'after'), (')', 'after', 'liver'), ('after', 'liver', 'transplantation'), ('liver', 'transplantation', 'has'), ('transplantation', 'has', 'been'), ('has', 'been', 'reported'), ('been', 'reported', 'to'), ('reported', 'to', 'be'), ('to', 'be', 'associated'), ('be', 'associated', '0'), ('associated', '0', 'with'), ('0', 'with', 'increased'), ('with', 'increased', 'mortality'), ('increased', 'mortality', '.'), ('mortality', '.', 'Recently'), ('.', 'Recently', ','), ('Recently', ',', 'machine'), (',', 'machine', 'learning'), ('machine', 'learning', 'approaches'), ('learning', 'approaches', 'were'), ('approaches', 'were', 'reported'), ('were', 'reported', 'to'), ('reported', 'to', 'have'), ('to', 'have', 'better'), ('have', 'better', '1'), ('better', '1', 'predictive'), ('1', 'predictive', 'ability'), ('predictive', 'ability', 'than'), ('ability', 'than', 'the'), ('than', 'the', 'classic'), ('the', 'classic', 'statistical'), ('classic', 'statistical', 'analysis'), ('statistical', 'analysis', '.'), ('analysis', '.', 'We'), ('.', 'We', 'compared'), ('We', 'compared', 'the'), ('compared', 'the', 'performance'), ('the', 'performance', 'of'), ('performance', 'of', 'machine'), ('of', 'machine', '2'), ('machine', '2', 'learning'), ('2', 'learning', 'approaches'), ('learning', 'approaches', 'with'), ('approaches', 'with', 'that'), ('with', 'that', 'of'), ('that', 'of', 'logistic'), ('of', 'logistic', 'regression'), ('logistic', 'regression', 'analysis'), ('regression', 'analysis', 'to'), ('analysis', 'to', 'predict'), ('to', 'predict', 'AKI'), ('predict', 'AKI', 'after'), ('AKI', 'after', 'liver'), ('after', 'liver', 'transplantation'), ('liver', 'transplantation', '.'), ('transplantation', '.', '3'), ('.', '3', 'We'), ('3', 'We', 'reviewed'), ('We', 'reviewed', '1211'), ('reviewed', '1211', 'patients'), ('1211', 'patients', 'and'), ('patients', 'and', 'preoperative'), ('and', 'preoperative', 'and'), ('preoperative', 'and', 'intraoperative'), ('and', 'intraoperative', 'anesthesia'), ('intraoperative', 'anesthesia', 'and'), ('anesthesia', 'and', 'surgery-related'), ('and', 'surgery-related', '4'), ('surgery-related', '4', 'variables'), ('4', 'variables', 'were'), ('variables', 'were', 'obtained'), ('were', 'obtained', '.'), ('obtained', '.', 'The'), ('.', 'The', 'primary'), ('The', 'primary', 'outcome'), ('primary', 'outcome', 'was'), ('outcome', 'was', 'postoperative'), ('was', 'postoperative', 'AKI'), ('postoperative', 'AKI', 'defined'), ('AKI', 'defined', 'by'), ('defined', 'by', 'acute'), ('by', 'acute', 'kidney'), ('acute', 'kidney', 'injury'), ('kidney', 'injury', '5'), ('injury', '5', 'network'), ('5', 'network', 'criteria'), ('network', 'criteria', '.'), ('criteria', '.', 'The'), ('.', 'The', 'following'), ('The', 'following', 'machine'), ('following', 'machine', 'learning'), ('machine', 'learning', 'techniques'), ('learning', 'techniques', 'were'), ('techniques', 'were', 'used'), ('were', 'used', ':'), ('used', ':', 'decision'), (':', 'decision', 'tree'), ('decision', 'tree', ','), ('tree', ',', 'random'), (',', 'random', 'forest'), ('random', 'forest', ','), ('forest', ',', '6'), (',', '6', 'gradient'), ('6', 'gradient', 'boosting'), ('gradient', 'boosting', 'machine'), ('boosting', 'machine', ','), ('machine', ',', 'support'), (',', 'support', 'vector'), ('support', 'vector', 'machine'), ('vector', 'machine', ','), ('machine', ',', 'naïve'), (',', 'naïve', 'Bayes'), ('naïve', 'Bayes', ','), ('Bayes', ',', 'multilayer'), (',', 'multilayer', 'perceptron'), ('multilayer', 'perceptron', ','), ('perceptron', ',', 'and'), (',', 'and', 'deep'), ('and', 'deep', '7'), ('deep', '7', 'belief'), ('7', 'belief', 'networks'), ('belief', 'networks', '.'), ('networks', '.', 'These'), ('.', 'These', 'techniques'), ('These', 'techniques', 'were'), ('techniques', 'were', 'compared'), ('were', 'compared', 'with'), ('compared', 'with', 'logistic'), ('with', 'logistic', 'regression'), ('logistic', 'regression', 'analysis'), ('regression', 'analysis', 'regarding'), ('analysis', 'regarding', 'the'), ('regarding', 'the', '8'), ('the', '8', 'area'), ('8', 'area', 'under'), ('area', 'under', 'the'), ('under', 'the', 'receiver-operating'), ('the', 'receiver-operating', 'characteristic'), ('receiver-operating', 'characteristic', 'curve'), ('characteristic', 'curve', '('), ('curve', '(', 'AUROC'), ('(', 'AUROC', ')'), ('AUROC', ')', '.'), (')', '.', 'AKI'), ('.', 'AKI', 'developed'), ('AKI', 'developed', 'in'), ('developed', 'in', '365'), ('in', '365', 'patients'), ('365', 'patients', '9'), ('patients', '9', '('), ('9', '(', '30.1'), ('(', '30.1', '%'), ('30.1', '%', ')'), ('%', ')', '.'), (')', '.', 'The'), ('.', 'The', 'performance'), ('The', 'performance', 'in'), ('performance', 'in', 'terms'), ('in', 'terms', 'of'), ('terms', 'of', 'AUROC'), ('of', 'AUROC', 'was'), ('AUROC', 'was', 'best'), ('was', 'best', 'in'), ('best', 'in', 'gradient'), ('in', 'gradient', 'boosting'), ('gradient', 'boosting', 'machine'), ('boosting', 'machine', 'among'), ('machine', 'among', 'all'), ('among', 'all', '10'), ('all', '10', 'analyses'), ('10', 'analyses', 'to'), ('analyses', 'to', 'predict'), ('to', 'predict', 'AKI'), ('predict', 'AKI', 'of'), ('AKI', 'of', 'all'), ('of', 'all', 'stages'), ('all', 'stages', '('), ('stages', '(', '0.90'), ('(', '0.90', ','), ('0.90', ',', '95'), (',', '95', '%'), ('95', '%', 'confidence'), ('%', 'confidence', 'interval'), ('confidence', 'interval', '['), ('interval', '[', 'CI'), ('[', 'CI', ']'), ('CI', ']', '0.86–0.93'), (']', '0.86–0.93', ')'), ('0.86–0.93', ')', 'or'), (')', 'or', 'stage'), ('or', 'stage', '2'), ('stage', '2', 'or'), ('2', 'or', '3'), ('or', '3', 'AKI'), ('3', 'AKI', '.'), ('AKI', '.', '11'), ('.', '11', 'The'), ('11', 'The', 'AUROC'), ('The', 'AUROC', 'of'), ('AUROC', 'of', 'logistic'), ('of', 'logistic', 'regression'), ('logistic', 'regression', 'analysis'), ('regression', 'analysis', 'was'), ('analysis', 'was', '0.61'), ('was', '0.61', '('), ('0.61', '(', '95'), ('(', '95', '%'), ('95', '%', 'CI'), ('%', 'CI', '0.56–0.66'), ('CI', '0.56–0.66', ')'), ('0.56–0.66', ')', '.'), (')', '.', 'Decision'), ('.', 'Decision', 'tree'), ('Decision', 'tree', 'and'), ('tree', 'and', 'random'), ('and', 'random', '12'), ('random', '12', 'forest'), ('12', 'forest', 'techniques'), ('forest', 'techniques', 'showed'), ('techniques', 'showed', 'moderate'), ('showed', 'moderate', 'performance'), ('moderate', 'performance', '('), ('performance', '(', 'AUROC'), ('(', 'AUROC', '0.86'), ('AUROC', '0.86', 'and'), ('0.86', 'and', '0.85'), ('and', '0.85', ','), ('0.85', ',', 'respectively'), (',', 'respectively', ')'), ('respectively', ')', '.'), (')', '.', 'The'), ('.', 'The', 'AUROC'), ('The', 'AUROC', '13'), ('AUROC', '13', 'of'), ('13', 'of', 'support'), ('of', 'support', 'the'), ('support', 'the', 'vector'), ('the', 'vector', 'machine'), ('vector', 'machine', ','), ('machine', ',', 'naïve'), (',', 'naïve', 'Bayes'), ('naïve', 'Bayes', ','), ('Bayes', ',', 'neural'), (',', 'neural', 'network'), ('neural', 'network', ','), ('network', ',', 'and'), (',', 'and', 'deep'), ('and', 'deep', 'belief'), ('deep', 'belief', 'network'), ('belief', 'network', 'was'), ('network', 'was', 'smaller'), ('was', 'smaller', '14'), ('smaller', '14', 'than'), ('14', 'than', 'that'), ('than', 'that', 'of'), ('that', 'of', 'the'), ('of', 'the', 'other'), ('the', 'other', 'models'), ('other', 'models', '.'), ('models', '.', 'In'), ('.', 'In', 'our'), ('In', 'our', 'comparison'), ('our', 'comparison', 'of'), ('comparison', 'of', 'seven'), ('of', 'seven', 'machine'), ('seven', 'machine', 'learning'), ('machine', 'learning', 'approaches'), ('learning', 'approaches', 'with'), ('approaches', 'with', 'logistic'), ('with', 'logistic', '15'), ('logistic', '15', 'regression'), ('15', 'regression', 'analysis'), ('regression', 'analysis', ','), ('analysis', ',', 'the'), (',', 'the', 'gradient'), ('the', 'gradient', 'boosting'), ('gradient', 'boosting', 'machine'), ('boosting', 'machine', 'showed'), ('machine', 'showed', 'the'), ('showed', 'the', 'best'), ('the', 'best', 'performance'), ('best', 'performance', 'with'), ('performance', 'with', 'the'), ('with', 'the', 'highest'), ('the', 'highest', '16'), ('highest', '16', 'AUROC'), ('16', 'AUROC', '.'), ('AUROC', '.', 'An'), ('.', 'An', 'internet-based'), ('An', 'internet-based', 'risk'), ('internet-based', 'risk', 'estimator'), ('risk', 'estimator', 'was'), ('estimator', 'was', 'developed'), ('was', 'developed', 'based'), ('developed', 'based', 'on'), ('based', 'on', 'our'), ('on', 'our', 'model'), ('our', 'model', 'of'), ('model', 'of', 'gradient'), ('of', 'gradient', 'boosting'), ('gradient', 'boosting', '.'), ('boosting', '.', '17'), ('.', '17', 'However'), ('17', 'However', ','), ('However', ',', 'prospective'), (',', 'prospective', 'studies'), ('prospective', 'studies', 'are'), ('studies', 'are', 'required'), ('are', 'required', 'to'), ('required', 'to', 'validate'), ('to', 'validate', 'our'), ('validate', 'our', 'results'), ('our', 'results', '.')]\n"
          ],
          "name": "stdout"
        }
      ]
    },
    {
      "cell_type": "markdown",
      "metadata": {
        "id": "OR5a3d765Q0e"
      },
      "source": [
        "## Bag of words"
      ]
    },
    {
      "cell_type": "code",
      "metadata": {
        "id": "sKHWJUnTwMif"
      },
      "source": [
        "import sklearn\r\n",
        "from sklearn.feature_extraction.text import CountVectorizer\r\n",
        "vectorizer= CountVectorizer()"
      ],
      "execution_count": 16,
      "outputs": []
    },
    {
      "cell_type": "code",
      "metadata": {
        "id": "N-IT1x120tHK"
      },
      "source": [
        "document1=\"Acute kidney injury (AKI) after liver transplan\"\r\n",
        "document2=\"increased mortality\"\r\n",
        "document3=\"machine learning approaches were reported to have better\""
      ],
      "execution_count": 17,
      "outputs": []
    },
    {
      "cell_type": "code",
      "metadata": {
        "id": "-lpozVFQ0sf0"
      },
      "source": [
        "listofdocuments = [document1,document2,document3]"
      ],
      "execution_count": 18,
      "outputs": []
    },
    {
      "cell_type": "code",
      "metadata": {
        "id": "CTAdNx7g1nJ6"
      },
      "source": [
        "bag_of_words = vectorizer.fit(listofdocuments)"
      ],
      "execution_count": 19,
      "outputs": []
    },
    {
      "cell_type": "code",
      "metadata": {
        "colab": {
          "base_uri": "https://localhost:8080/"
        },
        "id": "Cy44KSNy17-7",
        "outputId": "7228b989-382f-4289-a780-84c13740aaf6"
      },
      "source": [
        "bag_of_words"
      ],
      "execution_count": 20,
      "outputs": [
        {
          "output_type": "execute_result",
          "data": {
            "text/plain": [
              "CountVectorizer(analyzer='word', binary=False, decode_error='strict',\n",
              "                dtype=<class 'numpy.int64'>, encoding='utf-8', input='content',\n",
              "                lowercase=True, max_df=1.0, max_features=None, min_df=1,\n",
              "                ngram_range=(1, 1), preprocessor=None, stop_words=None,\n",
              "                strip_accents=None, token_pattern='(?u)\\\\b\\\\w\\\\w+\\\\b',\n",
              "                tokenizer=None, vocabulary=None)"
            ]
          },
          "metadata": {
            "tags": []
          },
          "execution_count": 20
        }
      ]
    },
    {
      "cell_type": "code",
      "metadata": {
        "colab": {
          "base_uri": "https://localhost:8080/"
        },
        "id": "qvyDvDOL2Oaw",
        "outputId": "d4709017-8f61-4eec-f60c-ec439c41f8f0"
      },
      "source": [
        "bag_of_words = vectorizer.transform(listofdocuments)\r\n",
        "print (bag_of_words)"
      ],
      "execution_count": 22,
      "outputs": [
        {
          "output_type": "stream",
          "text": [
            "  (0, 0)\t1\n",
            "  (0, 1)\t1\n",
            "  (0, 2)\t1\n",
            "  (0, 7)\t1\n",
            "  (0, 8)\t1\n",
            "  (0, 10)\t1\n",
            "  (0, 15)\t1\n",
            "  (1, 6)\t1\n",
            "  (1, 12)\t1\n",
            "  (2, 3)\t1\n",
            "  (2, 4)\t1\n",
            "  (2, 5)\t1\n",
            "  (2, 9)\t1\n",
            "  (2, 11)\t1\n",
            "  (2, 13)\t1\n",
            "  (2, 14)\t1\n",
            "  (2, 16)\t1\n"
          ],
          "name": "stdout"
        }
      ]
    },
    {
      "cell_type": "code",
      "metadata": {
        "colab": {
          "base_uri": "https://localhost:8080/"
        },
        "id": "q5-PXlUK2OA8",
        "outputId": "74bab677-b071-488f-bb4e-d2236e459701"
      },
      "source": [
        "type(bag_of_words)"
      ],
      "execution_count": 23,
      "outputs": [
        {
          "output_type": "execute_result",
          "data": {
            "text/plain": [
              "scipy.sparse.csr.csr_matrix"
            ]
          },
          "metadata": {
            "tags": []
          },
          "execution_count": 23
        }
      ]
    }
  ]
}