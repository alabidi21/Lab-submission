{
  "nbformat": 4,
  "nbformat_minor": 0,
  "metadata": {
    "colab": {
      "name": "ICP2.ipynb",
      "provenance": [],
      "toc_visible": true
    },
    "kernelspec": {
      "name": "python3",
      "display_name": "Python 3"
    }
  },
  "cells": [
    {
      "cell_type": "markdown",
      "metadata": {
        "id": "wPpb2sN05uP3"
      },
      "source": [
        "#Installing libraries"
      ]
    },
    {
      "cell_type": "code",
      "metadata": {
        "colab": {
          "base_uri": "https://localhost:8080/"
        },
        "id": "83XhnBOLzcMP",
        "outputId": "fd8f9e9f-dddf-4d5b-9aec-16aa2b7e5610"
      },
      "source": [
        "import nltk\r\n",
        "nltk.download('punkt')\r\n",
        "import pandas as pd\r\n",
        "from nltk.tokenize import sent_tokenize\r\n",
        "from nltk.tokenize import word_tokenize\r\n",
        "        "
      ],
      "execution_count": 41,
      "outputs": [
        {
          "output_type": "stream",
          "text": [
            "[nltk_data] Downloading package punkt to /root/nltk_data...\n",
            "[nltk_data]   Unzipping tokenizers/punkt.zip.\n"
          ],
          "name": "stdout"
        }
      ]
    },
    {
      "cell_type": "markdown",
      "metadata": {
        "id": "v9cRHktr3ZP8"
      },
      "source": [
        "# Downloading the Data \r\n"
      ]
    },
    {
      "cell_type": "code",
      "metadata": {
        "colab": {
          "base_uri": "https://localhost:8080/",
          "height": 114
        },
        "id": "AtRmdtLr37rx",
        "outputId": "40e1084e-5deb-494a-b484-0ce895c055b7"
      },
      "source": [
        "dataset=pd.read_csv(\"/content/drive/MyDrive/data/ICP2_Data_File.txt\",delimiter=\"\\t\")\r\n",
        "dataset"
      ],
      "execution_count": 42,
      "outputs": [
        {
          "output_type": "execute_result",
          "data": {
            "text/html": [
              "<div>\n",
              "<style scoped>\n",
              "    .dataframe tbody tr th:only-of-type {\n",
              "        vertical-align: middle;\n",
              "    }\n",
              "\n",
              "    .dataframe tbody tr th {\n",
              "        vertical-align: top;\n",
              "    }\n",
              "\n",
              "    .dataframe thead th {\n",
              "        text-align: right;\n",
              "    }\n",
              "</style>\n",
              "<table border=\"1\" class=\"dataframe\">\n",
              "  <thead>\n",
              "    <tr style=\"text-align: right;\">\n",
              "      <th></th>\n",
              "      <th>‘Xi Jinping is a Chinese politician who has served as General Secretary of the Chinese Communist Party (CCP) and Chairman of the Central Military Commission (CMC) since 2012, and President of the People's Republic of China (PRC) since 2013. He has been the paramount leader of China, the most prominent political leader in the country, since 2012. The son of Chinese Communist veteran Xi Zhongxun, he was exiled to rural Yanchuan County as a teenager following his father's purge during the Cultural Revolutionandlived in a cave in the village of Liangjiahe, where he joined the CCP and worked as the party secretary.’</th>\n",
              "    </tr>\n",
              "  </thead>\n",
              "  <tbody>\n",
              "  </tbody>\n",
              "</table>\n",
              "</div>"
            ],
            "text/plain": [
              "Empty DataFrame\n",
              "Columns: [‘Xi Jinping is a Chinese politician who has served as General Secretary of the Chinese Communist Party (CCP) and Chairman of the Central Military Commission (CMC) since 2012, and President of the People's Republic of China (PRC) since 2013. He has been the paramount leader of China, the most prominent political leader in the country, since 2012. The son of Chinese Communist veteran Xi Zhongxun, he was exiled to rural Yanchuan County as a teenager following his father's purge during the Cultural Revolutionandlived in a cave in the village of Liangjiahe, where he joined the CCP and worked as the party secretary.’]\n",
              "Index: []"
            ]
          },
          "metadata": {
            "tags": []
          },
          "execution_count": 42
        }
      ]
    },
    {
      "cell_type": "code",
      "metadata": {
        "colab": {
          "base_uri": "https://localhost:8080/",
          "height": 102
        },
        "id": "RpHJqCQY4Wrk",
        "outputId": "acd1bb2d-3b7d-401a-effd-98dfc96b169a"
      },
      "source": [
        "text= dataset.to_string()\r\n",
        "text"
      ],
      "execution_count": 43,
      "outputs": [
        {
          "output_type": "execute_result",
          "data": {
            "application/vnd.google.colaboratory.intrinsic+json": {
              "type": "string"
            },
            "text/plain": [
              "\"Empty DataFrame\\nColumns: [‘Xi Jinping is a Chinese politician who has served as General Secretary of the Chinese Communist Party (CCP) and Chairman of the Central Military Commission (CMC) since 2012, and President of the People's Republic of China (PRC) since 2013. He has been the paramount leader of China, the most prominent political leader in the country, since 2012. The son of Chinese Communist veteran Xi Zhongxun, he was exiled to rural Yanchuan County as a teenager following his father's purge during the Cultural Revolutionandlived in a cave in the village of Liangjiahe, where he joined the CCP and worked as the party secretary.’]\\nIndex: []\""
            ]
          },
          "metadata": {
            "tags": []
          },
          "execution_count": 43
        }
      ]
    },
    {
      "cell_type": "markdown",
      "metadata": {
        "id": "LKPovpA94obJ"
      },
      "source": [
        "#Tokenizing the Data\r\n"
      ]
    },
    {
      "cell_type": "code",
      "metadata": {
        "colab": {
          "base_uri": "https://localhost:8080/"
        },
        "id": "mmGIZzqF6GDy",
        "outputId": "d3545c71-422b-42f7-8c57-4f8abd89e741"
      },
      "source": [
        "tokenized_text = sent_tokenize(text)\r\n",
        "print(tokenized_text)"
      ],
      "execution_count": 44,
      "outputs": [
        {
          "output_type": "stream",
          "text": [
            "[\"Empty DataFrame\\nColumns: [‘Xi Jinping is a Chinese politician who has served as General Secretary of the Chinese Communist Party (CCP) and Chairman of the Central Military Commission (CMC) since 2012, and President of the People's Republic of China (PRC) since 2013.\", 'He has been the paramount leader of China, the most prominent political leader in the country, since 2012.', \"The son of Chinese Communist veteran Xi Zhongxun, he was exiled to rural Yanchuan County as a teenager following his father's purge during the Cultural Revolutionandlived in a cave in the village of Liangjiahe, where he joined the CCP and worked as the party secretary.’]\\nIndex: []\"]\n"
          ],
          "name": "stdout"
        }
      ]
    },
    {
      "cell_type": "code",
      "metadata": {
        "colab": {
          "base_uri": "https://localhost:8080/"
        },
        "id": "uK6SEarx6PYD",
        "outputId": "340b86cc-9252-48f6-f49e-88a8b08072a3"
      },
      "source": [
        "tokenized_word=word_tokenize(text)\r\n",
        "print(tokenized_word)\r\n",
        "print(len(tokenized_word))"
      ],
      "execution_count": 45,
      "outputs": [
        {
          "output_type": "stream",
          "text": [
            "['Empty', 'DataFrame', 'Columns', ':', '[', '‘', 'Xi', 'Jinping', 'is', 'a', 'Chinese', 'politician', 'who', 'has', 'served', 'as', 'General', 'Secretary', 'of', 'the', 'Chinese', 'Communist', 'Party', '(', 'CCP', ')', 'and', 'Chairman', 'of', 'the', 'Central', 'Military', 'Commission', '(', 'CMC', ')', 'since', '2012', ',', 'and', 'President', 'of', 'the', 'People', \"'s\", 'Republic', 'of', 'China', '(', 'PRC', ')', 'since', '2013', '.', 'He', 'has', 'been', 'the', 'paramount', 'leader', 'of', 'China', ',', 'the', 'most', 'prominent', 'political', 'leader', 'in', 'the', 'country', ',', 'since', '2012', '.', 'The', 'son', 'of', 'Chinese', 'Communist', 'veteran', 'Xi', 'Zhongxun', ',', 'he', 'was', 'exiled', 'to', 'rural', 'Yanchuan', 'County', 'as', 'a', 'teenager', 'following', 'his', 'father', \"'s\", 'purge', 'during', 'the', 'Cultural', 'Revolutionandlived', 'in', 'a', 'cave', 'in', 'the', 'village', 'of', 'Liangjiahe', ',', 'where', 'he', 'joined', 'the', 'CCP', 'and', 'worked', 'as', 'the', 'party', 'secretary.', '’', ']', 'Index', ':', '[', ']']\n",
            "129\n"
          ],
          "name": "stdout"
        }
      ]
    },
    {
      "cell_type": "markdown",
      "metadata": {
        "id": "NXSMH-e95cga"
      },
      "source": [
        "## Part-Of-Speech (POS) tager"
      ]
    },
    {
      "cell_type": "code",
      "metadata": {
        "colab": {
          "base_uri": "https://localhost:8080/"
        },
        "id": "Ezeqblv166HL",
        "outputId": "cbc23d73-4aff-489f-b396-d49468132ee6"
      },
      "source": [
        "import nltk\r\n",
        "nltk.download('averaged_perceptron_tagger')\r\n",
        "nltk.pos_tag(tokenized_word)"
      ],
      "execution_count": 46,
      "outputs": [
        {
          "output_type": "stream",
          "text": [
            "[nltk_data] Downloading package averaged_perceptron_tagger to\n",
            "[nltk_data]     /root/nltk_data...\n",
            "[nltk_data]   Unzipping taggers/averaged_perceptron_tagger.zip.\n"
          ],
          "name": "stdout"
        },
        {
          "output_type": "execute_result",
          "data": {
            "text/plain": [
              "[('Empty', 'NNP'),\n",
              " ('DataFrame', 'NNP'),\n",
              " ('Columns', 'NNP'),\n",
              " (':', ':'),\n",
              " ('[', 'NN'),\n",
              " ('‘', 'NNP'),\n",
              " ('Xi', 'NNP'),\n",
              " ('Jinping', 'NNP'),\n",
              " ('is', 'VBZ'),\n",
              " ('a', 'DT'),\n",
              " ('Chinese', 'JJ'),\n",
              " ('politician', 'NN'),\n",
              " ('who', 'WP'),\n",
              " ('has', 'VBZ'),\n",
              " ('served', 'VBN'),\n",
              " ('as', 'IN'),\n",
              " ('General', 'NNP'),\n",
              " ('Secretary', 'NNP'),\n",
              " ('of', 'IN'),\n",
              " ('the', 'DT'),\n",
              " ('Chinese', 'NNP'),\n",
              " ('Communist', 'NNP'),\n",
              " ('Party', 'NNP'),\n",
              " ('(', '('),\n",
              " ('CCP', 'NNP'),\n",
              " (')', ')'),\n",
              " ('and', 'CC'),\n",
              " ('Chairman', 'NNP'),\n",
              " ('of', 'IN'),\n",
              " ('the', 'DT'),\n",
              " ('Central', 'NNP'),\n",
              " ('Military', 'NNP'),\n",
              " ('Commission', 'NNP'),\n",
              " ('(', '('),\n",
              " ('CMC', 'NNP'),\n",
              " (')', ')'),\n",
              " ('since', 'IN'),\n",
              " ('2012', 'CD'),\n",
              " (',', ','),\n",
              " ('and', 'CC'),\n",
              " ('President', 'NNP'),\n",
              " ('of', 'IN'),\n",
              " ('the', 'DT'),\n",
              " ('People', 'NNP'),\n",
              " (\"'s\", 'POS'),\n",
              " ('Republic', 'NNP'),\n",
              " ('of', 'IN'),\n",
              " ('China', 'NNP'),\n",
              " ('(', '('),\n",
              " ('PRC', 'NNP'),\n",
              " (')', ')'),\n",
              " ('since', 'IN'),\n",
              " ('2013', 'CD'),\n",
              " ('.', '.'),\n",
              " ('He', 'PRP'),\n",
              " ('has', 'VBZ'),\n",
              " ('been', 'VBN'),\n",
              " ('the', 'DT'),\n",
              " ('paramount', 'JJ'),\n",
              " ('leader', 'NN'),\n",
              " ('of', 'IN'),\n",
              " ('China', 'NNP'),\n",
              " (',', ','),\n",
              " ('the', 'DT'),\n",
              " ('most', 'RBS'),\n",
              " ('prominent', 'JJ'),\n",
              " ('political', 'JJ'),\n",
              " ('leader', 'NN'),\n",
              " ('in', 'IN'),\n",
              " ('the', 'DT'),\n",
              " ('country', 'NN'),\n",
              " (',', ','),\n",
              " ('since', 'IN'),\n",
              " ('2012', 'CD'),\n",
              " ('.', '.'),\n",
              " ('The', 'DT'),\n",
              " ('son', 'NN'),\n",
              " ('of', 'IN'),\n",
              " ('Chinese', 'JJ'),\n",
              " ('Communist', 'NNP'),\n",
              " ('veteran', 'NN'),\n",
              " ('Xi', 'NNP'),\n",
              " ('Zhongxun', 'NNP'),\n",
              " (',', ','),\n",
              " ('he', 'PRP'),\n",
              " ('was', 'VBD'),\n",
              " ('exiled', 'VBN'),\n",
              " ('to', 'TO'),\n",
              " ('rural', 'JJ'),\n",
              " ('Yanchuan', 'NNP'),\n",
              " ('County', 'NNP'),\n",
              " ('as', 'IN'),\n",
              " ('a', 'DT'),\n",
              " ('teenager', 'NN'),\n",
              " ('following', 'VBG'),\n",
              " ('his', 'PRP$'),\n",
              " ('father', 'NN'),\n",
              " (\"'s\", 'POS'),\n",
              " ('purge', 'NN'),\n",
              " ('during', 'IN'),\n",
              " ('the', 'DT'),\n",
              " ('Cultural', 'NNP'),\n",
              " ('Revolutionandlived', 'NNP'),\n",
              " ('in', 'IN'),\n",
              " ('a', 'DT'),\n",
              " ('cave', 'NN'),\n",
              " ('in', 'IN'),\n",
              " ('the', 'DT'),\n",
              " ('village', 'NN'),\n",
              " ('of', 'IN'),\n",
              " ('Liangjiahe', 'NNP'),\n",
              " (',', ','),\n",
              " ('where', 'WRB'),\n",
              " ('he', 'PRP'),\n",
              " ('joined', 'VBD'),\n",
              " ('the', 'DT'),\n",
              " ('CCP', 'NNP'),\n",
              " ('and', 'CC'),\n",
              " ('worked', 'VBD'),\n",
              " ('as', 'IN'),\n",
              " ('the', 'DT'),\n",
              " ('party', 'NN'),\n",
              " ('secretary.', 'NN'),\n",
              " ('’', 'NNP'),\n",
              " (']', 'NNP'),\n",
              " ('Index', 'NNP'),\n",
              " (':', ':'),\n",
              " ('[', 'NN'),\n",
              " (']', 'NN')]"
            ]
          },
          "metadata": {
            "tags": []
          },
          "execution_count": 46
        }
      ]
    },
    {
      "cell_type": "markdown",
      "metadata": {
        "id": "-prs-Lke77y_"
      },
      "source": [
        "#Named entity recognizer (NER)"
      ]
    },
    {
      "cell_type": "code",
      "metadata": {
        "colab": {
          "base_uri": "https://localhost:8080/"
        },
        "id": "vxDgUE9l8Dia",
        "outputId": "a881f14c-9e0b-4ea4-e3c5-66e864883a0f"
      },
      "source": [
        "import nltk\r\n",
        "nltk.download('maxent_ne_chunker')\r\n",
        "nltk.download('words')\r\n",
        "from nltk import ne_chunk\r\n",
        "tags= nltk.pos_tag(tokenized_word)\r\n",
        "chunk= ne_chunk(tags)\r\n",
        "print (chunk)"
      ],
      "execution_count": 47,
      "outputs": [
        {
          "output_type": "stream",
          "text": [
            "[nltk_data] Downloading package maxent_ne_chunker to\n",
            "[nltk_data]     /root/nltk_data...\n",
            "[nltk_data]   Unzipping chunkers/maxent_ne_chunker.zip.\n",
            "[nltk_data] Downloading package words to /root/nltk_data...\n",
            "[nltk_data]   Unzipping corpora/words.zip.\n",
            "(S\n",
            "  (PERSON Empty/NNP)\n",
            "  (ORGANIZATION DataFrame/NNP)\n",
            "  Columns/NNP\n",
            "  :/:\n",
            "  [/NN\n",
            "  ‘/NNP\n",
            "  Xi/NNP\n",
            "  Jinping/NNP\n",
            "  is/VBZ\n",
            "  a/DT\n",
            "  (GPE Chinese/JJ)\n",
            "  politician/NN\n",
            "  who/WP\n",
            "  has/VBZ\n",
            "  served/VBN\n",
            "  as/IN\n",
            "  (ORGANIZATION General/NNP)\n",
            "  Secretary/NNP\n",
            "  of/IN\n",
            "  the/DT\n",
            "  (ORGANIZATION Chinese/NNP)\n",
            "  (ORGANIZATION Communist/NNP Party/NNP)\n",
            "  (/(\n",
            "  (ORGANIZATION CCP/NNP)\n",
            "  )/)\n",
            "  and/CC\n",
            "  Chairman/NNP\n",
            "  of/IN\n",
            "  the/DT\n",
            "  (ORGANIZATION Central/NNP)\n",
            "  Military/NNP\n",
            "  Commission/NNP\n",
            "  (/(\n",
            "  (ORGANIZATION CMC/NNP)\n",
            "  )/)\n",
            "  since/IN\n",
            "  2012/CD\n",
            "  ,/,\n",
            "  and/CC\n",
            "  President/NNP\n",
            "  of/IN\n",
            "  the/DT\n",
            "  (ORGANIZATION People/NNP)\n",
            "  's/POS\n",
            "  (ORGANIZATION Republic/NNP)\n",
            "  of/IN\n",
            "  (GPE China/NNP)\n",
            "  (/(\n",
            "  (ORGANIZATION PRC/NNP)\n",
            "  )/)\n",
            "  since/IN\n",
            "  2013/CD\n",
            "  ./.\n",
            "  He/PRP\n",
            "  has/VBZ\n",
            "  been/VBN\n",
            "  the/DT\n",
            "  paramount/JJ\n",
            "  leader/NN\n",
            "  of/IN\n",
            "  (GPE China/NNP)\n",
            "  ,/,\n",
            "  the/DT\n",
            "  most/RBS\n",
            "  prominent/JJ\n",
            "  political/JJ\n",
            "  leader/NN\n",
            "  in/IN\n",
            "  the/DT\n",
            "  country/NN\n",
            "  ,/,\n",
            "  since/IN\n",
            "  2012/CD\n",
            "  ./.\n",
            "  The/DT\n",
            "  son/NN\n",
            "  of/IN\n",
            "  (GPE Chinese/JJ)\n",
            "  (ORGANIZATION Communist/NNP)\n",
            "  veteran/NN\n",
            "  Xi/NNP\n",
            "  Zhongxun/NNP\n",
            "  ,/,\n",
            "  he/PRP\n",
            "  was/VBD\n",
            "  exiled/VBN\n",
            "  to/TO\n",
            "  rural/JJ\n",
            "  (ORGANIZATION Yanchuan/NNP County/NNP)\n",
            "  as/IN\n",
            "  a/DT\n",
            "  teenager/NN\n",
            "  following/VBG\n",
            "  his/PRP$\n",
            "  father/NN\n",
            "  's/POS\n",
            "  purge/NN\n",
            "  during/IN\n",
            "  the/DT\n",
            "  Cultural/NNP\n",
            "  Revolutionandlived/NNP\n",
            "  in/IN\n",
            "  a/DT\n",
            "  cave/NN\n",
            "  in/IN\n",
            "  the/DT\n",
            "  village/NN\n",
            "  of/IN\n",
            "  (GPE Liangjiahe/NNP)\n",
            "  ,/,\n",
            "  where/WRB\n",
            "  he/PRP\n",
            "  joined/VBD\n",
            "  the/DT\n",
            "  (ORGANIZATION CCP/NNP)\n",
            "  and/CC\n",
            "  worked/VBD\n",
            "  as/IN\n",
            "  the/DT\n",
            "  party/NN\n",
            "  secretary./NN\n",
            "  ’/NNP\n",
            "  ]/NNP\n",
            "  Index/NNP\n",
            "  :/:\n",
            "  [/NN\n",
            "  ]/NN)\n"
          ],
          "name": "stdout"
        }
      ]
    },
    {
      "cell_type": "markdown",
      "metadata": {
        "id": "RYOhT6aBvykS"
      },
      "source": [
        "## Coreference resolution\r\n"
      ]
    },
    {
      "cell_type": "markdown",
      "metadata": {
        "id": "JyXkA8kqXYzv"
      },
      "source": [
        "Resolving coreference with neuralcoref\r\n",
        "Source \"https://www.kaggle.com/mamamot/resolving-coreference-with-neuralcoref\""
      ]
    },
    {
      "cell_type": "code",
      "metadata": {
        "id": "vM7khyoLOsN6"
      },
      "source": [
        "import numpy as np \r\n",
        "import pandas as pd \r\n",
        "from tqdm import tqdm_notebook"
      ],
      "execution_count": 48,
      "outputs": []
    },
    {
      "cell_type": "code",
      "metadata": {
        "id": "YHrJnAeKM6l-"
      },
      "source": [
        "MODEL_URL = \"https://github.com/huggingface/neuralcoref-models/releases/\" \\\r\n",
        "            \"download/en_coref_md-3.0.0/en_coref_md-3.0.0.tar.gz\""
      ],
      "execution_count": 49,
      "outputs": []
    },
    {
      "cell_type": "code",
      "metadata": {
        "colab": {
          "base_uri": "https://localhost:8080/"
        },
        "id": "uK6uIh8lNIx-",
        "outputId": "a9ddcbff-918e-483d-94d2-48c1894221e6"
      },
      "source": [
        "!pip install spacy==2.0.12"
      ],
      "execution_count": 50,
      "outputs": [
        {
          "output_type": "stream",
          "text": [
            "Requirement already satisfied: spacy==2.0.12 in /usr/local/lib/python3.6/dist-packages (2.0.12)\n",
            "Requirement already satisfied: plac<1.0.0,>=0.9.6 in /usr/local/lib/python3.6/dist-packages (from spacy==2.0.12) (0.9.6)\n",
            "Requirement already satisfied: ujson>=1.35 in /usr/local/lib/python3.6/dist-packages (from spacy==2.0.12) (4.0.2)\n",
            "Requirement already satisfied: preshed<2.0.0,>=1.0.0 in /usr/local/lib/python3.6/dist-packages (from spacy==2.0.12) (1.0.1)\n",
            "Requirement already satisfied: thinc<6.11.0,>=6.10.3 in /usr/local/lib/python3.6/dist-packages (from spacy==2.0.12) (6.10.3)\n",
            "Requirement already satisfied: murmurhash<0.29,>=0.28 in /usr/local/lib/python3.6/dist-packages (from spacy==2.0.12) (0.28.0)\n",
            "Requirement already satisfied: cymem<1.32,>=1.30 in /usr/local/lib/python3.6/dist-packages (from spacy==2.0.12) (1.31.2)\n",
            "Requirement already satisfied: numpy>=1.7 in /usr/local/lib/python3.6/dist-packages (from spacy==2.0.12) (1.19.5)\n",
            "Requirement already satisfied: requests<3.0.0,>=2.13.0 in /usr/local/lib/python3.6/dist-packages (from spacy==2.0.12) (2.23.0)\n",
            "Requirement already satisfied: dill<0.3,>=0.2 in /usr/local/lib/python3.6/dist-packages (from spacy==2.0.12) (0.2.9)\n",
            "Requirement already satisfied: regex==2017.4.5 in /usr/local/lib/python3.6/dist-packages (from spacy==2.0.12) (2017.4.5)\n",
            "Requirement already satisfied: cytoolz<0.10,>=0.9.0 in /usr/local/lib/python3.6/dist-packages (from thinc<6.11.0,>=6.10.3->spacy==2.0.12) (0.9.0.1)\n",
            "Requirement already satisfied: msgpack-numpy<1.0.0,>=0.4.1 in /usr/local/lib/python3.6/dist-packages (from thinc<6.11.0,>=6.10.3->spacy==2.0.12) (0.4.7.1)\n",
            "Requirement already satisfied: six<2.0.0,>=1.10.0 in /usr/local/lib/python3.6/dist-packages (from thinc<6.11.0,>=6.10.3->spacy==2.0.12) (1.15.0)\n",
            "Requirement already satisfied: tqdm<5.0.0,>=4.10.0 in /usr/local/lib/python3.6/dist-packages (from thinc<6.11.0,>=6.10.3->spacy==2.0.12) (4.41.1)\n",
            "Requirement already satisfied: msgpack<1.0.0,>=0.5.6 in /usr/local/lib/python3.6/dist-packages (from thinc<6.11.0,>=6.10.3->spacy==2.0.12) (0.6.2)\n",
            "Requirement already satisfied: wrapt<1.11.0,>=1.10.0 in /usr/local/lib/python3.6/dist-packages (from thinc<6.11.0,>=6.10.3->spacy==2.0.12) (1.10.11)\n",
            "Requirement already satisfied: certifi>=2017.4.17 in /usr/local/lib/python3.6/dist-packages (from requests<3.0.0,>=2.13.0->spacy==2.0.12) (2020.12.5)\n",
            "Requirement already satisfied: idna<3,>=2.5 in /usr/local/lib/python3.6/dist-packages (from requests<3.0.0,>=2.13.0->spacy==2.0.12) (2.10)\n",
            "Requirement already satisfied: chardet<4,>=3.0.2 in /usr/local/lib/python3.6/dist-packages (from requests<3.0.0,>=2.13.0->spacy==2.0.12) (3.0.4)\n",
            "Requirement already satisfied: urllib3!=1.25.0,!=1.25.1,<1.26,>=1.21.1 in /usr/local/lib/python3.6/dist-packages (from requests<3.0.0,>=2.13.0->spacy==2.0.12) (1.24.3)\n",
            "Requirement already satisfied: toolz>=0.8.0 in /usr/local/lib/python3.6/dist-packages (from cytoolz<0.10,>=0.9.0->thinc<6.11.0,>=6.10.3->spacy==2.0.12) (0.11.1)\n"
          ],
          "name": "stdout"
        }
      ]
    },
    {
      "cell_type": "code",
      "metadata": {
        "colab": {
          "base_uri": "https://localhost:8080/"
        },
        "id": "vZZZ9XWGO5Us",
        "outputId": "cb31d802-0e69-4aa5-fc04-c81561974418"
      },
      "source": [
        "!pip install {MODEL_URL}"
      ],
      "execution_count": 51,
      "outputs": [
        {
          "output_type": "stream",
          "text": [
            "Collecting https://github.com/huggingface/neuralcoref-models/releases/download/en_coref_md-3.0.0/en_coref_md-3.0.0.tar.gz\n",
            "\u001b[?25l  Downloading https://github.com/huggingface/neuralcoref-models/releases/download/en_coref_md-3.0.0/en_coref_md-3.0.0.tar.gz (161.3MB)\n",
            "\u001b[K     |████████████████████████████████| 161.3MB 84kB/s \n",
            "\u001b[?25hRequirement already satisfied (use --upgrade to upgrade): en-coref-md==3.0.0 from https://github.com/huggingface/neuralcoref-models/releases/download/en_coref_md-3.0.0/en_coref_md-3.0.0.tar.gz in /usr/local/lib/python3.6/dist-packages\n",
            "Requirement already satisfied: spacy>=>=2.0.0 in /usr/local/lib/python3.6/dist-packages (from en-coref-md==3.0.0) (2.0.12)\n",
            "Requirement already satisfied: thinc<6.11.0,>=6.10.3 in /usr/local/lib/python3.6/dist-packages (from spacy>=>=2.0.0->en-coref-md==3.0.0) (6.10.3)\n",
            "Requirement already satisfied: cymem<1.32,>=1.30 in /usr/local/lib/python3.6/dist-packages (from spacy>=>=2.0.0->en-coref-md==3.0.0) (1.31.2)\n",
            "Requirement already satisfied: numpy>=1.7 in /usr/local/lib/python3.6/dist-packages (from spacy>=>=2.0.0->en-coref-md==3.0.0) (1.19.5)\n",
            "Requirement already satisfied: murmurhash<0.29,>=0.28 in /usr/local/lib/python3.6/dist-packages (from spacy>=>=2.0.0->en-coref-md==3.0.0) (0.28.0)\n",
            "Requirement already satisfied: dill<0.3,>=0.2 in /usr/local/lib/python3.6/dist-packages (from spacy>=>=2.0.0->en-coref-md==3.0.0) (0.2.9)\n",
            "Requirement already satisfied: plac<1.0.0,>=0.9.6 in /usr/local/lib/python3.6/dist-packages (from spacy>=>=2.0.0->en-coref-md==3.0.0) (0.9.6)\n",
            "Requirement already satisfied: requests<3.0.0,>=2.13.0 in /usr/local/lib/python3.6/dist-packages (from spacy>=>=2.0.0->en-coref-md==3.0.0) (2.23.0)\n",
            "Requirement already satisfied: preshed<2.0.0,>=1.0.0 in /usr/local/lib/python3.6/dist-packages (from spacy>=>=2.0.0->en-coref-md==3.0.0) (1.0.1)\n",
            "Requirement already satisfied: ujson>=1.35 in /usr/local/lib/python3.6/dist-packages (from spacy>=>=2.0.0->en-coref-md==3.0.0) (4.0.2)\n",
            "Requirement already satisfied: regex==2017.4.5 in /usr/local/lib/python3.6/dist-packages (from spacy>=>=2.0.0->en-coref-md==3.0.0) (2017.4.5)\n",
            "Requirement already satisfied: msgpack-numpy<1.0.0,>=0.4.1 in /usr/local/lib/python3.6/dist-packages (from thinc<6.11.0,>=6.10.3->spacy>=>=2.0.0->en-coref-md==3.0.0) (0.4.7.1)\n",
            "Requirement already satisfied: tqdm<5.0.0,>=4.10.0 in /usr/local/lib/python3.6/dist-packages (from thinc<6.11.0,>=6.10.3->spacy>=>=2.0.0->en-coref-md==3.0.0) (4.41.1)\n",
            "Requirement already satisfied: six<2.0.0,>=1.10.0 in /usr/local/lib/python3.6/dist-packages (from thinc<6.11.0,>=6.10.3->spacy>=>=2.0.0->en-coref-md==3.0.0) (1.15.0)\n",
            "Requirement already satisfied: cytoolz<0.10,>=0.9.0 in /usr/local/lib/python3.6/dist-packages (from thinc<6.11.0,>=6.10.3->spacy>=>=2.0.0->en-coref-md==3.0.0) (0.9.0.1)\n",
            "Requirement already satisfied: wrapt<1.11.0,>=1.10.0 in /usr/local/lib/python3.6/dist-packages (from thinc<6.11.0,>=6.10.3->spacy>=>=2.0.0->en-coref-md==3.0.0) (1.10.11)\n",
            "Requirement already satisfied: msgpack<1.0.0,>=0.5.6 in /usr/local/lib/python3.6/dist-packages (from thinc<6.11.0,>=6.10.3->spacy>=>=2.0.0->en-coref-md==3.0.0) (0.6.2)\n",
            "Requirement already satisfied: chardet<4,>=3.0.2 in /usr/local/lib/python3.6/dist-packages (from requests<3.0.0,>=2.13.0->spacy>=>=2.0.0->en-coref-md==3.0.0) (3.0.4)\n",
            "Requirement already satisfied: idna<3,>=2.5 in /usr/local/lib/python3.6/dist-packages (from requests<3.0.0,>=2.13.0->spacy>=>=2.0.0->en-coref-md==3.0.0) (2.10)\n",
            "Requirement already satisfied: urllib3!=1.25.0,!=1.25.1,<1.26,>=1.21.1 in /usr/local/lib/python3.6/dist-packages (from requests<3.0.0,>=2.13.0->spacy>=>=2.0.0->en-coref-md==3.0.0) (1.24.3)\n",
            "Requirement already satisfied: certifi>=2017.4.17 in /usr/local/lib/python3.6/dist-packages (from requests<3.0.0,>=2.13.0->spacy>=>=2.0.0->en-coref-md==3.0.0) (2020.12.5)\n",
            "Requirement already satisfied: toolz>=0.8.0 in /usr/local/lib/python3.6/dist-packages (from cytoolz<0.10,>=0.9.0->thinc<6.11.0,>=6.10.3->spacy>=>=2.0.0->en-coref-md==3.0.0) (0.11.1)\n",
            "Building wheels for collected packages: en-coref-md\n",
            "  Building wheel for en-coref-md (setup.py) ... \u001b[?25l\u001b[?25hdone\n",
            "  Created wheel for en-coref-md: filename=en_coref_md-3.0.0-cp36-cp36m-linux_x86_64.whl size=163510678 sha256=aa39f1b684d4d910d9b9178b1621d17fb2e9e9ca5eb6feed7426187f0cf58bad\n",
            "  Stored in directory: /root/.cache/pip/wheels/aa/a3/8f/9df13c027b75169bcca62682563e9823bb213c72a2cc3efed8\n",
            "Successfully built en-coref-md\n"
          ],
          "name": "stdout"
        }
      ]
    },
    {
      "cell_type": "code",
      "metadata": {
        "colab": {
          "base_uri": "https://localhost:8080/"
        },
        "id": "i7bP1_S4PS8e",
        "outputId": "316b4c2a-4b5c-46ef-c2ea-ecf7c15fb69f"
      },
      "source": [
        "!python -m spacy download en_core_web_md"
      ],
      "execution_count": 52,
      "outputs": [
        {
          "output_type": "stream",
          "text": [
            "Requirement already satisfied: en_core_web_md==2.0.0 from https://github.com/explosion/spacy-models/releases/download/en_core_web_md-2.0.0/en_core_web_md-2.0.0.tar.gz#egg=en_core_web_md==2.0.0 in /usr/local/lib/python3.6/dist-packages (2.0.0)\n",
            "\n",
            "\u001b[93m    Linking successful\u001b[0m\n",
            "    /usr/local/lib/python3.6/dist-packages/en_core_web_md -->\n",
            "    /usr/local/lib/python3.6/dist-packages/spacy/data/en_core_web_md\n",
            "\n",
            "    You can now load the model via spacy.load('en_core_web_md')\n",
            "\n"
          ],
          "name": "stdout"
        }
      ]
    },
    {
      "cell_type": "code",
      "metadata": {
        "id": "a8d81nzMPnzI"
      },
      "source": [
        "import en_coref_md\r\n",
        "\r\n",
        "nlp = en_coref_md.load()"
      ],
      "execution_count": 53,
      "outputs": []
    },
    {
      "cell_type": "code",
      "metadata": {
        "id": "0x1nglZ2SM4q"
      },
      "source": [
        "ass_sent = (\"Xi Jinping is a Chinese politician who has served as General Secretary of the Chinese Communist Party (CCP) and Chairman of the Central Military Commission (CMC) since 2012, and President of the People's Republic of China (PRC) since 2013. He has been the paramount leader of China, the most prominent political leader in the country, since 2012. The son of Chinese Communist veteran Xi Zhongxun, he was exiled to rural Yanchuan County as a teenager following his father's purge during the Cultural Revolutionandlived in a cave in the village of Liangjiahe, where he joined the CCP and worked as the party secretary.\")"
      ],
      "execution_count": 54,
      "outputs": []
    },
    {
      "cell_type": "code",
      "metadata": {
        "id": "LMSKfuHYSiY9"
      },
      "source": [
        "doc = nlp(ass_sent)"
      ],
      "execution_count": 55,
      "outputs": []
    },
    {
      "cell_type": "code",
      "metadata": {
        "colab": {
          "base_uri": "https://localhost:8080/"
        },
        "id": "P9hjz3C-SuFo",
        "outputId": "43080837-3a40-4a42-9dcf-6ce434b6e419"
      },
      "source": [
        "doc._.has_coref"
      ],
      "execution_count": 56,
      "outputs": [
        {
          "output_type": "execute_result",
          "data": {
            "text/plain": [
              "True"
            ]
          },
          "metadata": {
            "tags": []
          },
          "execution_count": 56
        }
      ]
    },
    {
      "cell_type": "code",
      "metadata": {
        "colab": {
          "base_uri": "https://localhost:8080/"
        },
        "id": "ZfeW7s5bS3UQ",
        "outputId": "f85144a3-e8ce-4847-cb3c-e80dbe98ea28"
      },
      "source": [
        "doc._.coref_clusters"
      ],
      "execution_count": 57,
      "outputs": [
        {
          "output_type": "execute_result",
          "data": {
            "text/plain": [
              "[Xi Jinping: [Xi Jinping, He, he, his, he], China: [China, China, the country]]"
            ]
          },
          "metadata": {
            "tags": []
          },
          "execution_count": 57
        }
      ]
    },
    {
      "cell_type": "code",
      "metadata": {
        "colab": {
          "base_uri": "https://localhost:8080/"
        },
        "id": "c-o2WTHET-R_",
        "outputId": "d43c4032-db0d-4232-be76-6ad0b48ce910"
      },
      "source": [
        "doc._.coref_clusters[0].main"
      ],
      "execution_count": 58,
      "outputs": [
        {
          "output_type": "execute_result",
          "data": {
            "text/plain": [
              "Xi Jinping"
            ]
          },
          "metadata": {
            "tags": []
          },
          "execution_count": 58
        }
      ]
    },
    {
      "cell_type": "code",
      "metadata": {
        "colab": {
          "base_uri": "https://localhost:8080/"
        },
        "id": "s-9r-w5qUDrY",
        "outputId": "e5bbe086-7da0-4dd1-ce39-a5d92dccb79b"
      },
      "source": [
        "doc._.coref_clusters[0].mentions"
      ],
      "execution_count": 59,
      "outputs": [
        {
          "output_type": "execute_result",
          "data": {
            "text/plain": [
              "[Xi Jinping, He, he, his, he]"
            ]
          },
          "metadata": {
            "tags": []
          },
          "execution_count": 59
        }
      ]
    },
    {
      "cell_type": "markdown",
      "metadata": {
        "id": "-Z13BQ35YYCZ"
      },
      "source": [
        "## Lemmatization "
      ]
    },
    {
      "cell_type": "code",
      "metadata": {
        "colab": {
          "base_uri": "https://localhost:8080/"
        },
        "id": "aA-KPi_od0LJ",
        "outputId": "489ee359-ac12-4b9f-e8de-79f99d4c4536"
      },
      "source": [
        "import sys\r\n",
        "!{sys.executable} -m pip install spacy"
      ],
      "execution_count": 60,
      "outputs": [
        {
          "output_type": "stream",
          "text": [
            "Requirement already satisfied: spacy in /usr/local/lib/python3.6/dist-packages (2.0.12)\n",
            "Requirement already satisfied: ujson>=1.35 in /usr/local/lib/python3.6/dist-packages (from spacy) (4.0.2)\n",
            "Requirement already satisfied: thinc<6.11.0,>=6.10.3 in /usr/local/lib/python3.6/dist-packages (from spacy) (6.10.3)\n",
            "Requirement already satisfied: murmurhash<0.29,>=0.28 in /usr/local/lib/python3.6/dist-packages (from spacy) (0.28.0)\n",
            "Requirement already satisfied: numpy>=1.7 in /usr/local/lib/python3.6/dist-packages (from spacy) (1.19.5)\n",
            "Requirement already satisfied: requests<3.0.0,>=2.13.0 in /usr/local/lib/python3.6/dist-packages (from spacy) (2.23.0)\n",
            "Requirement already satisfied: preshed<2.0.0,>=1.0.0 in /usr/local/lib/python3.6/dist-packages (from spacy) (1.0.1)\n",
            "Requirement already satisfied: dill<0.3,>=0.2 in /usr/local/lib/python3.6/dist-packages (from spacy) (0.2.9)\n",
            "Requirement already satisfied: regex==2017.4.5 in /usr/local/lib/python3.6/dist-packages (from spacy) (2017.4.5)\n",
            "Requirement already satisfied: plac<1.0.0,>=0.9.6 in /usr/local/lib/python3.6/dist-packages (from spacy) (0.9.6)\n",
            "Requirement already satisfied: cymem<1.32,>=1.30 in /usr/local/lib/python3.6/dist-packages (from spacy) (1.31.2)\n",
            "Requirement already satisfied: wrapt<1.11.0,>=1.10.0 in /usr/local/lib/python3.6/dist-packages (from thinc<6.11.0,>=6.10.3->spacy) (1.10.11)\n",
            "Requirement already satisfied: msgpack-numpy<1.0.0,>=0.4.1 in /usr/local/lib/python3.6/dist-packages (from thinc<6.11.0,>=6.10.3->spacy) (0.4.7.1)\n",
            "Requirement already satisfied: tqdm<5.0.0,>=4.10.0 in /usr/local/lib/python3.6/dist-packages (from thinc<6.11.0,>=6.10.3->spacy) (4.41.1)\n",
            "Requirement already satisfied: six<2.0.0,>=1.10.0 in /usr/local/lib/python3.6/dist-packages (from thinc<6.11.0,>=6.10.3->spacy) (1.15.0)\n",
            "Requirement already satisfied: msgpack<1.0.0,>=0.5.6 in /usr/local/lib/python3.6/dist-packages (from thinc<6.11.0,>=6.10.3->spacy) (0.6.2)\n",
            "Requirement already satisfied: cytoolz<0.10,>=0.9.0 in /usr/local/lib/python3.6/dist-packages (from thinc<6.11.0,>=6.10.3->spacy) (0.9.0.1)\n",
            "Requirement already satisfied: urllib3!=1.25.0,!=1.25.1,<1.26,>=1.21.1 in /usr/local/lib/python3.6/dist-packages (from requests<3.0.0,>=2.13.0->spacy) (1.24.3)\n",
            "Requirement already satisfied: certifi>=2017.4.17 in /usr/local/lib/python3.6/dist-packages (from requests<3.0.0,>=2.13.0->spacy) (2020.12.5)\n",
            "Requirement already satisfied: chardet<4,>=3.0.2 in /usr/local/lib/python3.6/dist-packages (from requests<3.0.0,>=2.13.0->spacy) (3.0.4)\n",
            "Requirement already satisfied: idna<3,>=2.5 in /usr/local/lib/python3.6/dist-packages (from requests<3.0.0,>=2.13.0->spacy) (2.10)\n",
            "Requirement already satisfied: toolz>=0.8.0 in /usr/local/lib/python3.6/dist-packages (from cytoolz<0.10,>=0.9.0->thinc<6.11.0,>=6.10.3->spacy) (0.11.1)\n"
          ],
          "name": "stdout"
        }
      ]
    },
    {
      "cell_type": "code",
      "metadata": {
        "colab": {
          "base_uri": "https://localhost:8080/"
        },
        "id": "5_gNb4jnd5U1",
        "outputId": "2dc876a9-b7a5-406a-f93e-574f045fadee"
      },
      "source": [
        "!{sys.executable} -m spacy download en"
      ],
      "execution_count": 61,
      "outputs": [
        {
          "output_type": "stream",
          "text": [
            "Requirement already satisfied: en_core_web_sm==2.0.0 from https://github.com/explosion/spacy-models/releases/download/en_core_web_sm-2.0.0/en_core_web_sm-2.0.0.tar.gz#egg=en_core_web_sm==2.0.0 in /usr/local/lib/python3.6/dist-packages (2.0.0)\n",
            "\n",
            "\u001b[93m    Linking successful\u001b[0m\n",
            "    /usr/local/lib/python3.6/dist-packages/en_core_web_sm -->\n",
            "    /usr/local/lib/python3.6/dist-packages/spacy/data/en\n",
            "\n",
            "    You can now load the model via spacy.load('en')\n",
            "\n"
          ],
          "name": "stdout"
        }
      ]
    },
    {
      "cell_type": "code",
      "metadata": {
        "id": "XHVG2YrCdPNt"
      },
      "source": [
        "import spacy\r\n",
        "nlp = spacy.load('en', disable=['parser', 'ner'])"
      ],
      "execution_count": 62,
      "outputs": []
    },
    {
      "cell_type": "code",
      "metadata": {
        "id": "2wIJnUXkeHhi"
      },
      "source": [
        "task_text = \"Xi Jinping is a Chinese politician who has served as General Secretary of the Chinese Communist Party (CCP) and Chairman of the Central Military Commission (CMC) since 2012, and President of the People's Republic of China (PRC) since 2013. He has been the paramount leader of China, the most prominent political leader in the country, since 2012. The son of Chinese Communist veteran Xi Zhongxun, he was exiled to rural Yanchuan County as a teenager following his father's purge during the Cultural Revolutionandlived in a cave in the village of Liangjiahe, where he joined the CCP and worked as the party secretary.\""
      ],
      "execution_count": 63,
      "outputs": []
    },
    {
      "cell_type": "code",
      "metadata": {
        "id": "hSYDrWV4fiXO"
      },
      "source": [
        "doc = nlp(task_text)"
      ],
      "execution_count": 64,
      "outputs": []
    },
    {
      "cell_type": "code",
      "metadata": {
        "colab": {
          "base_uri": "https://localhost:8080/",
          "height": 102
        },
        "id": "N7of_pszfzRJ",
        "outputId": "335523f9-d48a-41d0-c83e-52fb83af1150"
      },
      "source": [
        "\" \".join([token.lemma_ for token in doc ])"
      ],
      "execution_count": 65,
      "outputs": [
        {
          "output_type": "execute_result",
          "data": {
            "application/vnd.google.colaboratory.intrinsic+json": {
              "type": "string"
            },
            "text/plain": [
              "\"xi jinping be a chinese politician who have serve as general secretary of the chinese communist party ( ccp ) and chairman of the central military commission ( cmc ) since 2012 , and president of the people 's republic of china ( prc ) since 2013 . -PRON- have be the paramount leader of china , the most prominent political leader in the country , since 2012 . the son of chinese communist veteran xi zhongxun , -PRON- be exile to rural yanchuan county as a teenager follow -PRON- father 's purge during the cultural revolutionandlived in a cave in the village of liangjiahe , where -PRON- join the ccp and work as the party secretary .\""
            ]
          },
          "metadata": {
            "tags": []
          },
          "execution_count": 65
        }
      ]
    },
    {
      "cell_type": "markdown",
      "metadata": {
        "id": "dB7m2qYWo_Ek"
      },
      "source": [
        "#Parsing \r\n",
        "##Noun chunks"
      ]
    },
    {
      "cell_type": "code",
      "metadata": {
        "id": "knN7SwuOpIeP"
      },
      "source": [
        "import spacy\r\n",
        "nlp = spacy.load(\"en_core_web_sm\")"
      ],
      "execution_count": 66,
      "outputs": []
    },
    {
      "cell_type": "code",
      "metadata": {
        "id": "H5deDFAOpcBb"
      },
      "source": [
        "doc = nlp(\"Xi Jinping is a Chinese politician who has served as General Secretary of the Chinese Communist Party (CCP) and Chairman of the Central Military Commission (CMC) since 2012, and President of the People's Republic of China (PRC) since 2013. He has been the paramount leader of China, the most prominent political leader in the country, since 2012. The son of Chinese Communist veteran Xi Zhongxun, he was exiled to rural Yanchuan County as a teenager following his father's purge during the Cultural Revolutionandlived in a cave in the village of Liangjiahe, where he joined the CCP and worked as the party secretary.\")"
      ],
      "execution_count": 67,
      "outputs": []
    },
    {
      "cell_type": "code",
      "metadata": {
        "colab": {
          "base_uri": "https://localhost:8080/"
        },
        "id": "VmrjWOIuppzB",
        "outputId": "d401a307-b942-4c7f-fe7f-a18decf51b15"
      },
      "source": [
        "for chunk in doc.noun_chunks:\r\n",
        "    print(chunk.text, chunk.root.text, chunk.root.dep_,\r\n",
        "            chunk.root.head.text)"
      ],
      "execution_count": 68,
      "outputs": [
        {
          "output_type": "stream",
          "text": [
            "Xi Jinping Jinping nsubj is\n",
            "a Chinese politician politician attr is\n",
            "who who nsubj served\n",
            "General Secretary Secretary pobj as\n",
            "the Chinese Communist Party Party pobj of\n",
            "CCP CCP appos Party\n",
            "Chairman Chairman conj is\n",
            "the Central Military Commission Commission pobj of\n",
            "CMC CMC appos Commission\n",
            "President President conj Chairman\n",
            "the People's Republic Republic pobj of\n",
            "China China pobj of\n",
            "PRC PRC appos Republic\n",
            "He He nsubj been\n",
            "the paramount leader leader attr been\n",
            "China China pobj of\n",
            "the most prominent political leader leader appos leader\n",
            "the country country pobj in\n",
            "Chinese Communist veteran Xi Zhongxun Zhongxun pobj of\n",
            "he he nsubj was\n",
            "rural Yanchuan County County pobj to\n",
            "a teenager teenager pobj as\n",
            "his father's purge purge dobj following\n",
            "the Cultural Revolutionandlived Revolutionandlived pobj during\n",
            "a cave cave pobj in\n",
            "the village village pobj in\n",
            "Liangjiahe Liangjiahe pobj of\n",
            "he he nsubj joined\n",
            "the CCP CCP dobj joined\n",
            "the party secretary secretary pobj as\n"
          ],
          "name": "stdout"
        }
      ]
    },
    {
      "cell_type": "markdown",
      "metadata": {
        "id": "LLYRLNjt2H8c"
      },
      "source": [
        "#Navigating the parse tree"
      ]
    },
    {
      "cell_type": "code",
      "metadata": {
        "colab": {
          "base_uri": "https://localhost:8080/"
        },
        "id": "MNCgZ5592RT0",
        "outputId": "13b4ac1f-3486-4832-d2fe-4cb92d2eb768"
      },
      "source": [
        "for token in doc:\r\n",
        "    print(token.text, token.dep_, token.head.text, token.head.pos_,\r\n",
        "            [child for child in token.children])"
      ],
      "execution_count": 70,
      "outputs": [
        {
          "output_type": "stream",
          "text": [
            "Xi compound Jinping PROPN []\n",
            "Jinping nsubj is VERB [Xi]\n",
            "is ROOT is VERB [Jinping, politician, and, Chairman, .]\n",
            "a det politician NOUN []\n",
            "Chinese amod politician NOUN []\n",
            "politician attr is VERB [a, Chinese, served]\n",
            "who nsubj served VERB []\n",
            "has aux served VERB []\n",
            "served relcl politician NOUN [who, has, as]\n",
            "as prep served VERB [Secretary]\n",
            "General compound Secretary PROPN []\n",
            "Secretary pobj as ADP [General, of]\n",
            "of prep Secretary PROPN [Party]\n",
            "the det Party PROPN []\n",
            "Chinese compound Party PROPN []\n",
            "Communist compound Party PROPN []\n",
            "Party pobj of ADP [the, Chinese, Communist, (, CCP, )]\n",
            "( punct Party PROPN []\n",
            "CCP appos Party PROPN []\n",
            ") punct Party PROPN []\n",
            "and cc is VERB []\n",
            "Chairman conj is VERB [of, since, ,, and, President]\n",
            "of prep Chairman PROPN [Commission]\n",
            "the det Commission PROPN []\n",
            "Central compound Commission PROPN []\n",
            "Military compound Commission PROPN []\n",
            "Commission pobj of ADP [the, Central, Military, (, CMC, )]\n",
            "( punct Commission PROPN []\n",
            "CMC appos Commission PROPN []\n",
            ") punct Commission PROPN []\n",
            "since prep Chairman PROPN [2012]\n",
            "2012 pobj since ADP []\n",
            ", punct Chairman PROPN []\n",
            "and cc Chairman PROPN []\n",
            "President conj Chairman PROPN [of, since]\n",
            "of prep President PROPN [Republic]\n",
            "the det People PROPN []\n",
            "People poss Republic PROPN [the, 's]\n",
            "'s case People PROPN []\n",
            "Republic pobj of ADP [People, of, (, PRC, )]\n",
            "of prep Republic PROPN [China]\n",
            "China pobj of ADP []\n",
            "( punct Republic PROPN []\n",
            "PRC appos Republic PROPN []\n",
            ") punct Republic PROPN []\n",
            "since prep President PROPN [2013]\n",
            "2013 pobj since ADP []\n",
            ". punct is VERB []\n",
            "He nsubj been VERB []\n",
            "has aux been VERB []\n",
            "been ROOT been VERB [He, has, leader, ,, since, .]\n",
            "the det leader NOUN []\n",
            "paramount amod leader NOUN []\n",
            "leader attr been VERB [the, paramount, of, ,, leader]\n",
            "of prep leader NOUN [China]\n",
            "China pobj of ADP []\n",
            ", punct leader NOUN []\n",
            "the det leader NOUN []\n",
            "most advmod prominent ADJ []\n",
            "prominent amod leader NOUN [most]\n",
            "political amod leader NOUN []\n",
            "leader appos leader NOUN [the, prominent, political, in]\n",
            "in prep leader NOUN [country]\n",
            "the det country NOUN []\n",
            "country pobj in ADP [the]\n",
            ", punct been VERB []\n",
            "since prep been VERB [2012]\n",
            "2012 pobj since ADP []\n",
            ". punct been VERB []\n",
            "The det son NOUN []\n",
            "son dep was VERB [The, of]\n",
            "of prep son NOUN [Zhongxun]\n",
            "Chinese amod veteran NOUN []\n",
            "Communist amod veteran NOUN []\n",
            "veteran compound Zhongxun PROPN [Chinese, Communist]\n",
            "Xi compound Zhongxun PROPN []\n",
            "Zhongxun pobj of ADP [veteran, Xi]\n",
            ", punct was VERB []\n",
            "he nsubj was VERB []\n",
            "was ROOT was VERB [son, ,, he, exiled, .]\n",
            "exiled acomp was VERB [to, as]\n",
            "to prep exiled VERB [County]\n",
            "rural amod County PROPN []\n",
            "Yanchuan compound County PROPN []\n",
            "County pobj to ADP [rural, Yanchuan]\n",
            "as prep exiled VERB [teenager]\n",
            "a det teenager NOUN []\n",
            "teenager pobj as ADP [a, following]\n",
            "following prep teenager NOUN [purge]\n",
            "his poss father NOUN []\n",
            "father poss purge NOUN [his, 's]\n",
            "'s case father NOUN []\n",
            "purge dobj following VERB [father, during]\n",
            "during prep purge NOUN [Revolutionandlived]\n",
            "the det Revolutionandlived PROPN []\n",
            "Cultural compound Revolutionandlived PROPN []\n",
            "Revolutionandlived pobj during ADP [the, Cultural, in, in]\n",
            "in prep Revolutionandlived PROPN [cave]\n",
            "a det cave NOUN []\n",
            "cave pobj in ADP [a]\n",
            "in prep Revolutionandlived PROPN [village]\n",
            "the det village NOUN []\n",
            "village pobj in ADP [the, of]\n",
            "of prep village NOUN [Liangjiahe]\n",
            "Liangjiahe pobj of ADP [,, joined]\n",
            ", punct Liangjiahe PROPN []\n",
            "where advmod joined VERB []\n",
            "he nsubj joined VERB []\n",
            "joined relcl Liangjiahe PROPN [where, he, CCP, and, worked]\n",
            "the det CCP PROPN []\n",
            "CCP dobj joined VERB [the]\n",
            "and cc joined VERB []\n",
            "worked conj joined VERB [as]\n",
            "as prep worked VERB [secretary]\n",
            "the det secretary NOUN []\n",
            "party compound secretary NOUN []\n",
            "secretary pobj as ADP [the, party]\n",
            ". punct was VERB []\n"
          ],
          "name": "stdout"
        }
      ]
    }
  ]
}