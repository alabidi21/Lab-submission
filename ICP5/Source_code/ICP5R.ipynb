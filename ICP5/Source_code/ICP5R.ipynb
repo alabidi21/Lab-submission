{
  "nbformat": 4,
  "nbformat_minor": 0,
  "metadata": {
    "colab": {
      "name": "ICP5R.ipynb",
      "provenance": []
    },
    "kernelspec": {
      "name": "python3",
      "display_name": "Python 3"
    }
  },
  "cells": [
    {
      "cell_type": "code",
      "metadata": {
        "colab": {
          "base_uri": "https://localhost:8080/"
        },
        "id": "WzZN1o6EAMuy",
        "outputId": "d57426b0-6e40-4d19-9992-636cb4963151"
      },
      "source": [
        "!pip install pyspark"
      ],
      "execution_count": 200,
      "outputs": [
        {
          "output_type": "stream",
          "text": [
            "Requirement already satisfied: pyspark in /usr/local/lib/python3.7/dist-packages (2.4.4)\n",
            "Requirement already satisfied: py4j==0.10.7 in /usr/local/lib/python3.7/dist-packages (from pyspark) (0.10.7)\n"
          ],
          "name": "stdout"
        }
      ]
    },
    {
      "cell_type": "code",
      "metadata": {
        "id": "8hDJ5ciVAscS"
      },
      "source": [
        "from __future__ import print_function\r\n",
        "from pyspark import SparkConf, SparkContext\r\n",
        "from pyspark.sql.functions import col, split \r\n",
        "from pyspark.ml.feature import HashingTF, IDF, Tokenizer\r\n",
        "from pyspark.sql import SparkSession\r\n",
        "from pyspark.ml.feature import NGram\r\n",
        "from pyspark.ml.feature import Word2Vec\r\n",
        "from pyspark.ml.feature import CountVectorizer\r\n",
        "from pyspark.ml import Pipeline\r\n",
        "import numpy as np"
      ],
      "execution_count": 229,
      "outputs": []
    },
    {
      "cell_type": "markdown",
      "metadata": {
        "id": "n-DhELpvJeHK"
      },
      "source": [
        "# Task 1: Finding the top 10 words of our 5 documents\r\n",
        "A. In this task we used spark dataframe to enter 5 inputs and creat dataframe  "
      ]
    },
    {
      "cell_type": "code",
      "metadata": {
        "id": "EEh6p6LVAfRA"
      },
      "source": [
        "# Start first spark session\r\n",
        "spark = SparkSession.builder.appName(\"assignment\").getOrCreate()"
      ],
      "execution_count": 202,
      "outputs": []
    },
    {
      "cell_type": "code",
      "metadata": {
        "id": "sSxyGSBp-SKG"
      },
      "source": [
        "# Enter 5 documents including text data\r\n",
        "sentenceData = spark.createDataFrame([\r\n",
        "    (0, \"In clinical trials, reactogenicity symptoms (side effects that happen within 7 days of getting vaccinated) were common but were mostly mild to moderate.Side effects (such as fever, chills, tiredness, and headache) throughout the body were more common after the second dose of the vaccine.\"),\r\n",
        "    (1, \"As people around the world receive COVID-19 vaccines, reports of temporary side effects such as headaches and fevers are rolling in. Much of this was expected — clinical-trial data for the vaccines authorized so far suggested as much. But now that millions of people are vaccinated, compared with the thousands enrolled in early studies, reports of some rare, allergic reactions are surfacing, and questions are arising about whether any deaths are linked to the shots.\"),\r\n",
        "    (2, \"A tracheostomy is a hole in the windpipe (trachea) created by a surgeon. This hole, called a stoma, replaces a person’s nose and mouth as the pathway for breathing. A tracheostomy tube is inserted into the stoma to keep the hole open and provide an entryway into the lungs.\"),\r\n",
        "    (3, \"Researchers conducted a retrospective analysis of an electronic health record database that included 72,585 patients with COPD who were hospitalized and mechanically ventilated between January 1, 2009, and June 29, 2018. The cohort was then restricted to patients receiving tracheostomy. Receiver operating characteristic (ROC) curve was used to define the most sensitive cut-off for tracheostomy timing to predict 90-day mortality, which was then implemented to create the early and late tracheostomy groups\"),\r\n",
        "    (4, \"In every state except two – Maine and Nebraska – the candidate that gets the most votes wins all of the state’s electoral college votes.Due to these rules, a candidate can win the election without getting the most votes at the national level.\")],\r\n",
        " [\"document\", \"sentence\"])"
      ],
      "execution_count": 203,
      "outputs": []
    },
    {
      "cell_type": "code",
      "metadata": {
        "colab": {
          "base_uri": "https://localhost:8080/"
        },
        "id": "gWJ1pW4nA11q",
        "outputId": "7a0dc71b-4124-4210-f989-c7f3fcdd6fbb"
      },
      "source": [
        "# Show the content of the data\r\n",
        "sentenceData.show(truncate=False)"
      ],
      "execution_count": 204,
      "outputs": [
        {
          "output_type": "stream",
          "text": [
            "+--------+----------------------------------------------------------------------------------------------------------------------------------------------------------------------------------------------------------------------------------------------------------------------------------------------------------------------------------------------------------------------------------------------------------------------------------------------------------------------------------------------------------------------------+\n",
            "|document|sentence                                                                                                                                                                                                                                                                                                                                                                                                                                                                                                                    |\n",
            "+--------+----------------------------------------------------------------------------------------------------------------------------------------------------------------------------------------------------------------------------------------------------------------------------------------------------------------------------------------------------------------------------------------------------------------------------------------------------------------------------------------------------------------------------+\n",
            "|0       |In clinical trials, reactogenicity symptoms (side effects that happen within 7 days of getting vaccinated) were common but were mostly mild to moderate.Side effects (such as fever, chills, tiredness, and headache) throughout the body were more common after the second dose of the vaccine.                                                                                                                                                                                                                            |\n",
            "|1       |As people around the world receive COVID-19 vaccines, reports of temporary side effects such as headaches and fevers are rolling in. Much of this was expected — clinical-trial data for the vaccines authorized so far suggested as much. But now that millions of people are vaccinated, compared with the thousands enrolled in early studies, reports of some rare, allergic reactions are surfacing, and questions are arising about whether any deaths are linked to the shots.                                       |\n",
            "|2       |A tracheostomy is a hole in the windpipe (trachea) created by a surgeon. This hole, called a stoma, replaces a person’s nose and mouth as the pathway for breathing. A tracheostomy tube is inserted into the stoma to keep the hole open and provide an entryway into the lungs.                                                                                                                                                                                                                                           |\n",
            "|3       |Researchers conducted a retrospective analysis of an electronic health record database that included 72,585 patients with COPD who were hospitalized and mechanically ventilated between January 1, 2009, and June 29, 2018. The cohort was then restricted to patients receiving tracheostomy. Receiver operating characteristic (ROC) curve was used to define the most sensitive cut-off for tracheostomy timing to predict 90-day mortality, which was then implemented to create the early and late tracheostomy groups|\n",
            "|4       |In every state except two – Maine and Nebraska – the candidate that gets the most votes wins all of the state’s electoral college votes.Due to these rules, a candidate can win the election without getting the most votes at the national level.                                                                                                                                                                                                                                                                          |\n",
            "+--------+----------------------------------------------------------------------------------------------------------------------------------------------------------------------------------------------------------------------------------------------------------------------------------------------------------------------------------------------------------------------------------------------------------------------------------------------------------------------------------------------------------------------------+\n",
            "\n"
          ],
          "name": "stdout"
        }
      ]
    },
    {
      "cell_type": "markdown",
      "metadata": {
        "id": "Rtp2vIuSKvmZ"
      },
      "source": [
        "B. Tokenization,vectorization, and finding TF-IDF of our input documents"
      ]
    },
    {
      "cell_type": "code",
      "metadata": {
        "id": "el4kqJPYBClO"
      },
      "source": [
        "# Tokenization and vectorization\r\n",
        "tokenizer = Tokenizer(inputCol=\"sentence\", outputCol=\"words\")\r\n",
        "vectorizer  = CountVectorizer(inputCol=\"words\", outputCol=\"rawFeatures\")\r\n",
        "\r\n",
        "idf = IDF(inputCol=\"rawFeatures\", outputCol=\"features\")\r\n",
        "\r\n",
        "pipeline = Pipeline(stages=[tokenizer, vectorizer, idf])\r\n",
        "\r\n",
        "model = pipeline.fit(sentenceData)"
      ],
      "execution_count": 205,
      "outputs": []
    },
    {
      "cell_type": "markdown",
      "metadata": {
        "id": "qv9UhdRzLSjE"
      },
      "source": [
        "C. Finding the top TF-IDF 10 words \r\n"
      ]
    },
    {
      "cell_type": "code",
      "metadata": {
        "colab": {
          "base_uri": "https://localhost:8080/"
        },
        "id": "RAk2obibBOpc",
        "outputId": "f9772cea-8d62-4b44-e426-e5c20e0bd01a"
      },
      "source": [
        "# Count top TF-IDF 10 words\r\n",
        "\r\n",
        "total_counts = model.transform(sentenceData)\\\r\n",
        "                    .select('rawFeatures').rdd\\\r\n",
        "                    .map(lambda row: row['rawFeatures'].toArray())\\\r\n",
        "                    .reduce(lambda x,y: [x[i]+y[i] for i in range(len(y))])\r\n",
        "\r\n",
        "vocabList = model.stages[1].vocabulary\r\n",
        "d = {'vocabList':vocabList,'counts':total_counts}\r\n",
        "\r\n",
        "spark.createDataFrame(np.array(list(d.values())).T.tolist(),list(d.keys())).show(10)"
      ],
      "execution_count": 206,
      "outputs": [
        {
          "output_type": "stream",
          "text": [
            "+------------+------+\n",
            "|   vocabList|counts|\n",
            "+------------+------+\n",
            "|         the|  21.0|\n",
            "|         and|   9.0|\n",
            "|           a|   8.0|\n",
            "|          to|   8.0|\n",
            "|          of|   8.0|\n",
            "|         are|   5.0|\n",
            "|          as|   5.0|\n",
            "|        were|   4.0|\n",
            "|tracheostomy|   4.0|\n",
            "|         was|   4.0|\n",
            "+------------+------+\n",
            "only showing top 10 rows\n",
            "\n"
          ],
          "name": "stdout"
        }
      ]
    },
    {
      "cell_type": "code",
      "metadata": {
        "colab": {
          "base_uri": "https://localhost:8080/"
        },
        "id": "a3SfWOIhBrLP",
        "outputId": "e845b45c-4ee3-466c-9295-c3b819cf1954"
      },
      "source": [
        "# Check of our data\r\n",
        "model.transform(sentenceData).show(truncate=False)"
      ],
      "execution_count": 207,
      "outputs": [
        {
          "output_type": "stream",
          "text": [
            "+--------+----------------------------------------------------------------------------------------------------------------------------------------------------------------------------------------------------------------------------------------------------------------------------------------------------------------------------------------------------------------------------------------------------------------------------------------------------------------------------------------------------------------------------+-----------------------------------------------------------------------------------------------------------------------------------------------------------------------------------------------------------------------------------------------------------------------------------------------------------------------------------------------------------------------------------------------------------------------------------------------------------------------------------------------------------------------------------------------------------------------------------------------------+----------------------------------------------------------------------------------------------------------------------------------------------------------------------------------------------------------------------------------------------------------------------------------------------------------------------------------------------------------------------------------------------------------------------------------------------------------------+------------------------------------------------------------------------------------------------------------------------------------------------------------------------------------------------------------------------------------------------------------------------------------------------------------------------------------------------------------------------------------------------------------------------------------------------------------------------------------------------------------------------------------------------------------------------------------------------------------------------------------------------------------------------------------------------------------------------------------------------------------------------------------------------------------------------------------------------------------------------------------------------------------------------------------------------------------------------------------------------------------------------------------------------------------------------------------------------------------------------------------------------------------------------------------------------------------------------------------------------------------------------------------------------------------------------------------------------------+\n",
            "|document|sentence                                                                                                                                                                                                                                                                                                                                                                                                                                                                                                                    |words                                                                                                                                                                                                                                                                                                                                                                                                                                                                                                                                                                                                |rawFeatures                                                                                                                                                                                                                                                                                                                                                                                                                                                     |features                                                                                                                                                                                                                                                                                                                                                                                                                                                                                                                                                                                                                                                                                                                                                                                                                                                                                                                                                                                                                                                                                                                                                                                                                                                                                                                                              |\n",
            "+--------+----------------------------------------------------------------------------------------------------------------------------------------------------------------------------------------------------------------------------------------------------------------------------------------------------------------------------------------------------------------------------------------------------------------------------------------------------------------------------------------------------------------------------+-----------------------------------------------------------------------------------------------------------------------------------------------------------------------------------------------------------------------------------------------------------------------------------------------------------------------------------------------------------------------------------------------------------------------------------------------------------------------------------------------------------------------------------------------------------------------------------------------------+----------------------------------------------------------------------------------------------------------------------------------------------------------------------------------------------------------------------------------------------------------------------------------------------------------------------------------------------------------------------------------------------------------------------------------------------------------------+------------------------------------------------------------------------------------------------------------------------------------------------------------------------------------------------------------------------------------------------------------------------------------------------------------------------------------------------------------------------------------------------------------------------------------------------------------------------------------------------------------------------------------------------------------------------------------------------------------------------------------------------------------------------------------------------------------------------------------------------------------------------------------------------------------------------------------------------------------------------------------------------------------------------------------------------------------------------------------------------------------------------------------------------------------------------------------------------------------------------------------------------------------------------------------------------------------------------------------------------------------------------------------------------------------------------------------------------------+\n",
            "|0       |In clinical trials, reactogenicity symptoms (side effects that happen within 7 days of getting vaccinated) were common but were mostly mild to moderate.Side effects (such as fever, chills, tiredness, and headache) throughout the body were more common after the second dose of the vaccine.                                                                                                                                                                                                                            |[in, clinical, trials,, reactogenicity, symptoms, (side, effects, that, happen, within, 7, days, of, getting, vaccinated), were, common, but, were, mostly, mild, to, moderate.side, effects, (such, as, fever,, chills,, tiredness,, and, headache), throughout, the, body, were, more, common, after, the, second, dose, of, the, vaccine.]                                                                                                                                                                                                                                                        |(188,[0,1,3,4,6,7,10,11,13,17,23,30,36,39,44,50,65,71,72,80,82,84,85,91,97,119,124,130,136,147,160,164,168,175,176,180,187],[3.0,1.0,1.0,2.0,1.0,3.0,1.0,1.0,2.0,1.0,1.0,2.0,1.0,1.0,1.0,1.0,1.0,1.0,1.0,1.0,1.0,1.0,1.0,1.0,1.0,1.0,1.0,1.0,1.0,1.0,1.0,1.0,1.0,1.0,1.0,1.0,1.0])                                                                                                                                                                              |(188,[0,1,3,4,6,7,10,11,13,17,23,30,36,39,44,50,65,71,72,80,82,84,85,91,97,119,124,130,136,147,160,164,168,175,176,180,187],[0.0,0.0,0.0,0.3646431135879092,0.4054651081081644,2.0794415416798357,0.1823215567939546,0.1823215567939546,1.3862943611198906,0.6931471805599453,0.6931471805599453,2.1972245773362196,1.0986122886681098,1.0986122886681098,1.0986122886681098,1.0986122886681098,1.0986122886681098,1.0986122886681098,1.0986122886681098,1.0986122886681098,1.0986122886681098,1.0986122886681098,1.0986122886681098,1.0986122886681098,1.0986122886681098,1.0986122886681098,1.0986122886681098,1.0986122886681098,1.0986122886681098,1.0986122886681098,1.0986122886681098,1.0986122886681098,1.0986122886681098,1.0986122886681098,1.0986122886681098,1.0986122886681098,1.0986122886681098])                                                                                                                                                                                                                                                                                                                                                                                                                                                                                                                                      |\n",
            "|1       |As people around the world receive COVID-19 vaccines, reports of temporary side effects such as headaches and fevers are rolling in. Much of this was expected — clinical-trial data for the vaccines authorized so far suggested as much. But now that millions of people are vaccinated, compared with the thousands enrolled in early studies, reports of some rare, allergic reactions are surfacing, and questions are arising about whether any deaths are linked to the shots.                                       |[as, people, around, the, world, receive, covid-19, vaccines,, reports, of, temporary, side, effects, such, as, headaches, and, fevers, are, rolling, in., much, of, this, was, expected, —, clinical-trial, data, for, the, vaccines, authorized, so, far, suggested, as, much., but, now, that, millions, of, people, are, vaccinated,, compared, with, the, thousands, enrolled, in, early, studies,, reports, of, some, rare,, allergic, reactions, are, surfacing,, and, questions, are, arising, about, whether, any, deaths, are, linked, to, the, shots.]                                    |(188,[0,1,3,4,5,6,9,10,11,13,14,15,19,20,21,23,24,33,37,41,49,52,54,55,56,58,59,63,68,69,76,95,98,99,100,102,112,113,114,115,118,120,127,135,137,139,141,143,144,145,149,151,155,158,167,170,173,177,179,182],[4.0,2.0,1.0,4.0,5.0,3.0,1.0,1.0,1.0,1.0,1.0,1.0,2.0,1.0,2.0,1.0,1.0,1.0,1.0,1.0,1.0,1.0,1.0,1.0,1.0,1.0,1.0,1.0,1.0,1.0,1.0,1.0,1.0,1.0,1.0,1.0,1.0,1.0,1.0,1.0,1.0,1.0,1.0,1.0,1.0,1.0,1.0,1.0,1.0,1.0,1.0,1.0,1.0,1.0,1.0,1.0,1.0,1.0,1.0,1.0])|(188,[0,1,3,4,5,6,9,10,11,13,14,15,19,20,21,23,24,33,37,41,49,52,54,55,56,58,59,63,68,69,76,95,98,99,100,102,112,113,114,115,118,120,127,135,137,139,141,143,144,145,149,151,155,158,167,170,173,177,179,182],[0.0,0.0,0.0,0.7292862271758184,5.493061443340549,1.2163953243244932,0.6931471805599453,0.1823215567939546,0.1823215567939546,0.6931471805599453,0.4054651081081644,0.6931471805599453,2.1972245773362196,0.6931471805599453,2.1972245773362196,0.6931471805599453,0.6931471805599453,1.0986122886681098,1.0986122886681098,1.0986122886681098,1.0986122886681098,1.0986122886681098,1.0986122886681098,1.0986122886681098,1.0986122886681098,1.0986122886681098,1.0986122886681098,1.0986122886681098,1.0986122886681098,1.0986122886681098,1.0986122886681098,1.0986122886681098,1.0986122886681098,1.0986122886681098,1.0986122886681098,1.0986122886681098,1.0986122886681098,1.0986122886681098,1.0986122886681098,1.0986122886681098,1.0986122886681098,1.0986122886681098,1.0986122886681098,1.0986122886681098,1.0986122886681098,1.0986122886681098,1.0986122886681098,1.0986122886681098,1.0986122886681098,1.0986122886681098,1.0986122886681098,1.0986122886681098,1.0986122886681098,1.0986122886681098,1.0986122886681098,1.0986122886681098,1.0986122886681098,1.0986122886681098,1.0986122886681098,1.0986122886681098])|\n",
            "|2       |A tracheostomy is a hole in the windpipe (trachea) created by a surgeon. This hole, called a stoma, replaces a person’s nose and mouth as the pathway for breathing. A tracheostomy tube is inserted into the stoma to keep the hole open and provide an entryway into the lungs.                                                                                                                                                                                                                                           |[a, tracheostomy, is, a, hole, in, the, windpipe, (trachea), created, by, a, surgeon., this, hole,, called, a, stoma,, replaces, a, person’s, nose, and, mouth, as, the, pathway, for, breathing., a, tracheostomy, tube, is, inserted, into, the, stoma, to, keep, the, hole, open, and, provide, an, entryway, into, the, lungs.]                                                                                                                                                                                                                                                                  |(188,[0,1,2,3,6,8,11,14,15,16,22,28,31,34,35,46,51,53,61,73,77,81,92,96,108,129,134,153,154,159,161,163,171,174,181],[5.0,2.0,6.0,1.0,1.0,2.0,1.0,1.0,1.0,2.0,1.0,2.0,2.0,1.0,1.0,1.0,1.0,1.0,1.0,1.0,1.0,1.0,1.0,1.0,1.0,1.0,1.0,1.0,1.0,1.0,1.0,1.0,1.0,1.0,1.0])                                                                                                                                                                                             |(188,[0,1,2,3,6,8,11,14,15,16,22,28,31,34,35,46,51,53,61,73,77,81,92,96,108,129,134,153,154,159,161,163,171,174,181],[0.0,0.0,2.4327906486489863,0.0,0.4054651081081644,1.3862943611198906,0.1823215567939546,0.4054651081081644,0.6931471805599453,2.1972245773362196,0.6931471805599453,2.1972245773362196,2.1972245773362196,1.0986122886681098,1.0986122886681098,1.0986122886681098,1.0986122886681098,1.0986122886681098,1.0986122886681098,1.0986122886681098,1.0986122886681098,1.0986122886681098,1.0986122886681098,1.0986122886681098,1.0986122886681098,1.0986122886681098,1.0986122886681098,1.0986122886681098,1.0986122886681098,1.0986122886681098,1.0986122886681098,1.0986122886681098,1.0986122886681098,1.0986122886681098,1.0986122886681098])                                                                                                                                                                                                                                                                                                                                                                                                                                                                                                                                                                                   |\n",
            "|3       |Researchers conducted a retrospective analysis of an electronic health record database that included 72,585 patients with COPD who were hospitalized and mechanically ventilated between January 1, 2009, and June 29, 2018. The cohort was then restricted to patients receiving tracheostomy. Receiver operating characteristic (ROC) curve was used to define the most sensitive cut-off for tracheostomy timing to predict 90-day mortality, which was then implemented to create the early and late tracheostomy groups|[researchers, conducted, a, retrospective, analysis, of, an, electronic, health, record, database, that, included, 72,585, patients, with, copd, who, were, hospitalized, and, mechanically, ventilated, between, january, 1,, 2009,, and, june, 29,, 2018., the, cohort, was, then, restricted, to, patients, receiving, tracheostomy., receiver, operating, characteristic, (roc), curve, was, used, to, define, the, most, sensitive, cut-off, for, tracheostomy, timing, to, predict, 90-day, mortality,, which, was, then, implemented, to, create, the, early, and, late, tracheostomy, groups]|(188,[0,1,2,3,4,7,8,9,10,12,14,18,20,22,24,27,32,38,40,42,43,45,60,64,67,70,74,75,78,79,86,90,93,94,101,104,105,106,107,109,116,121,122,123,125,126,128,131,132,133,138,140,142,152,162,165,166,169,184,185],[3.0,3.0,1.0,4.0,1.0,1.0,2.0,3.0,1.0,1.0,1.0,2.0,1.0,1.0,1.0,2.0,1.0,1.0,1.0,1.0,1.0,1.0,1.0,1.0,1.0,1.0,1.0,1.0,1.0,1.0,1.0,1.0,1.0,1.0,1.0,1.0,1.0,1.0,1.0,1.0,1.0,1.0,1.0,1.0,1.0,1.0,1.0,1.0,1.0,1.0,1.0,1.0,1.0,1.0,1.0,1.0,1.0,1.0,1.0,1.0]) |(188,[0,1,2,3,4,7,8,9,10,12,14,18,20,22,24,27,32,38,40,42,43,45,60,64,67,70,74,75,78,79,86,90,93,94,101,104,105,106,107,109,116,121,122,123,125,126,128,131,132,133,138,140,142,152,162,165,166,169,184,185],[0.0,0.0,0.4054651081081644,0.0,0.1823215567939546,0.6931471805599453,1.3862943611198906,2.0794415416798357,0.1823215567939546,0.6931471805599453,0.4054651081081644,2.1972245773362196,0.6931471805599453,0.6931471805599453,0.6931471805599453,2.1972245773362196,1.0986122886681098,1.0986122886681098,1.0986122886681098,1.0986122886681098,1.0986122886681098,1.0986122886681098,1.0986122886681098,1.0986122886681098,1.0986122886681098,1.0986122886681098,1.0986122886681098,1.0986122886681098,1.0986122886681098,1.0986122886681098,1.0986122886681098,1.0986122886681098,1.0986122886681098,1.0986122886681098,1.0986122886681098,1.0986122886681098,1.0986122886681098,1.0986122886681098,1.0986122886681098,1.0986122886681098,1.0986122886681098,1.0986122886681098,1.0986122886681098,1.0986122886681098,1.0986122886681098,1.0986122886681098,1.0986122886681098,1.0986122886681098,1.0986122886681098,1.0986122886681098,1.0986122886681098,1.0986122886681098,1.0986122886681098,1.0986122886681098,1.0986122886681098,1.0986122886681098,1.0986122886681098,1.0986122886681098,1.0986122886681098,1.0986122886681098])|\n",
            "|4       |In every state except two – Maine and Nebraska – the candidate that gets the most votes wins all of the state’s electoral college votes.Due to these rules, a candidate can win the election without getting the most votes at the national level.                                                                                                                                                                                                                                                                          |[in, every, state, except, two, –, maine, and, nebraska, –, the, candidate, that, gets, the, most, votes, wins, all, of, the, state’s, electoral, college, votes.due, to, these, rules,, a, candidate, can, win, the, election, without, getting, the, most, votes, at, the, national, level.]                                                                                                                                                                                                                                                                                                       |(188,[0,1,2,3,4,10,11,12,17,25,26,29,47,48,57,62,66,83,87,88,89,103,110,111,117,146,148,150,156,157,172,178,183,186],[6.0,1.0,1.0,1.0,1.0,1.0,1.0,2.0,1.0,2.0,2.0,2.0,1.0,1.0,1.0,1.0,1.0,1.0,1.0,1.0,1.0,1.0,1.0,1.0,1.0,1.0,1.0,1.0,1.0,1.0,1.0,1.0,1.0,1.0])                                                                                                                                                                                                 |(188,[0,1,2,3,4,10,11,12,17,25,26,29,47,48,57,62,66,83,87,88,89,103,110,111,117,146,148,150,156,157,172,178,183,186],[0.0,0.0,0.4054651081081644,0.0,0.1823215567939546,0.1823215567939546,0.1823215567939546,1.3862943611198906,0.6931471805599453,2.1972245773362196,2.1972245773362196,2.1972245773362196,1.0986122886681098,1.0986122886681098,1.0986122886681098,1.0986122886681098,1.0986122886681098,1.0986122886681098,1.0986122886681098,1.0986122886681098,1.0986122886681098,1.0986122886681098,1.0986122886681098,1.0986122886681098,1.0986122886681098,1.0986122886681098,1.0986122886681098,1.0986122886681098,1.0986122886681098,1.0986122886681098,1.0986122886681098,1.0986122886681098,1.0986122886681098,1.0986122886681098])                                                                                                                                                                                                                                                                                                                                                                                                                                                                                                                                                                                                      |\n",
            "+--------+----------------------------------------------------------------------------------------------------------------------------------------------------------------------------------------------------------------------------------------------------------------------------------------------------------------------------------------------------------------------------------------------------------------------------------------------------------------------------------------------------------------------------+-----------------------------------------------------------------------------------------------------------------------------------------------------------------------------------------------------------------------------------------------------------------------------------------------------------------------------------------------------------------------------------------------------------------------------------------------------------------------------------------------------------------------------------------------------------------------------------------------------+----------------------------------------------------------------------------------------------------------------------------------------------------------------------------------------------------------------------------------------------------------------------------------------------------------------------------------------------------------------------------------------------------------------------------------------------------------------+------------------------------------------------------------------------------------------------------------------------------------------------------------------------------------------------------------------------------------------------------------------------------------------------------------------------------------------------------------------------------------------------------------------------------------------------------------------------------------------------------------------------------------------------------------------------------------------------------------------------------------------------------------------------------------------------------------------------------------------------------------------------------------------------------------------------------------------------------------------------------------------------------------------------------------------------------------------------------------------------------------------------------------------------------------------------------------------------------------------------------------------------------------------------------------------------------------------------------------------------------------------------------------------------------------------------------------------------------+\n",
            "\n"
          ],
          "name": "stdout"
        }
      ]
    },
    {
      "cell_type": "code",
      "metadata": {
        "id": "HEyYDogpB_fx"
      },
      "source": [
        "from pyspark.sql.types import ArrayType, StringType\r\n",
        "\r\n",
        "def termsIdx2Term(vocabulary):\r\n",
        "    def termsIdx2Term(termIndices):\r\n",
        "        return [vocabulary[int(index)] for index in termIndices]\r\n",
        "    return udf(termsIdx2Term, ArrayType(StringType()))\r\n",
        "\r\n",
        "vectorizerModel = model.stages[1]\r\n",
        "vocabList = vectorizerModel.vocabulary\r\n",
        "vocabList"
      ],
      "execution_count": null,
      "outputs": []
    },
    {
      "cell_type": "code",
      "metadata": {
        "colab": {
          "base_uri": "https://localhost:8080/"
        },
        "id": "rCt4CFJOCEj2",
        "outputId": "329152f9-4fff-435e-f7e1-e467a000ad56"
      },
      "source": [
        "rawFeatures = model.transform(sentenceData).select('rawFeatures')\r\n",
        "rawFeatures.show()\r\n",
        "\r\n"
      ],
      "execution_count": 209,
      "outputs": [
        {
          "output_type": "stream",
          "text": [
            "+--------------------+\n",
            "|         rawFeatures|\n",
            "+--------------------+\n",
            "|(188,[0,1,3,4,6,7...|\n",
            "|(188,[0,1,3,4,5,6...|\n",
            "|(188,[0,1,2,3,6,8...|\n",
            "|(188,[0,1,2,3,4,7...|\n",
            "|(188,[0,1,2,3,4,1...|\n",
            "+--------------------+\n",
            "\n"
          ],
          "name": "stdout"
        }
      ]
    },
    {
      "cell_type": "markdown",
      "metadata": {
        "id": "KdT337TfRLvF"
      },
      "source": [
        "#Task2. Finding the top 10 TF-IDF lemmatized words\r\n",
        "First install spark nlp package which need special setting in Google Colab"
      ]
    },
    {
      "cell_type": "code",
      "metadata": {
        "colab": {
          "base_uri": "https://localhost:8080/"
        },
        "id": "LJ-IUTf4P8JG",
        "outputId": "1c40bba3-1e0e-4f55-abb5-c5b1459b8d67"
      },
      "source": [
        "import os\r\n",
        "\r\n",
        "# Install java\r\n",
        "! apt-get update -qq\r\n",
        "! apt-get install -y openjdk-8-jdk-headless -qq > /dev/null\r\n",
        "\r\n",
        "os.environ[\"JAVA_HOME\"] = \"/usr/lib/jvm/java-8-openjdk-amd64\"\r\n",
        "os.environ[\"PATH\"] = os.environ[\"JAVA_HOME\"] + \"/bin:\" + os.environ[\"PATH\"]\r\n",
        "! java -version\r\n",
        "\r\n",
        "# Install pyspark\r\n",
        "! pip install --ignore-installed -q pyspark==2.4.4\r\n",
        "! pip install --ignore-installed -q spark-nlp==2.7.1\r\n",
        "# Install Spark NLP\r\n",
        "! pip install --ignore-installed spark-nlp\r\n",
        "\r\n"
      ],
      "execution_count": 1,
      "outputs": [
        {
          "output_type": "stream",
          "text": [
            "openjdk version \"1.8.0_282\"\n",
            "OpenJDK Runtime Environment (build 1.8.0_282-8u282-b08-0ubuntu1~18.04-b08)\n",
            "OpenJDK 64-Bit Server VM (build 25.282-b08, mixed mode)\n",
            "\u001b[K     |████████████████████████████████| 215.7MB 72kB/s \n",
            "\u001b[K     |████████████████████████████████| 204kB 23.3MB/s \n",
            "\u001b[?25h  Building wheel for pyspark (setup.py) ... \u001b[?25l\u001b[?25hdone\n",
            "\u001b[K     |████████████████████████████████| 143kB 6.9MB/s \n",
            "\u001b[?25hCollecting spark-nlp\n",
            "\u001b[?25l  Downloading https://files.pythonhosted.org/packages/8d/a5/a5130215b43f3bd0e98bd16c471d36dafeab8855ca17789d4927337fa7dc/spark_nlp-2.7.4-py2.py3-none-any.whl (139kB)\n",
            "\u001b[K     |████████████████████████████████| 143kB 8.9MB/s \n",
            "\u001b[?25hInstalling collected packages: spark-nlp\n",
            "Successfully installed spark-nlp-2.7.4\n"
          ],
          "name": "stdout"
        }
      ]
    },
    {
      "cell_type": "code",
      "metadata": {
        "colab": {
          "base_uri": "https://localhost:8080/",
          "height": 36
        },
        "id": "b7dmW1yNRqU5",
        "outputId": "69199282-2889-4282-dc50-cf2d5a982098"
      },
      "source": [
        "# Import the dependency packages \r\n",
        "import sparknlp\r\n",
        "\r\n",
        "spark = sparknlp.start()\r\n",
        "from pyspark.ml import Pipeline\r\n",
        "import string\r\n",
        "string.punctuation"
      ],
      "execution_count": 211,
      "outputs": [
        {
          "output_type": "execute_result",
          "data": {
            "application/vnd.google.colaboratory.intrinsic+json": {
              "type": "string"
            },
            "text/plain": [
              "'!\"#$%&\\'()*+,-./:;<=>?@[\\\\]^_`{|}~'"
            ]
          },
          "metadata": {
            "tags": []
          },
          "execution_count": 211
        }
      ]
    },
    {
      "cell_type": "code",
      "metadata": {
        "id": "s7pQ_3AP-yxq"
      },
      "source": [
        "from sparknlp.base import* \r\n",
        "from sparknlp.annotator import*"
      ],
      "execution_count": 212,
      "outputs": []
    },
    {
      "cell_type": "code",
      "metadata": {
        "colab": {
          "base_uri": "https://localhost:8080/",
          "height": 71
        },
        "id": "3c6EJSQb_cQ1",
        "outputId": "5aabe8e5-c7e6-40fb-fa9b-62b4da0dc073"
      },
      "source": [
        "print(\"Spark NLP version\")\r\n",
        "sparknlp.version()\r\n",
        "\r\n",
        "print(\"Apache Spark version\")\r\n",
        "spark.version"
      ],
      "execution_count": 213,
      "outputs": [
        {
          "output_type": "stream",
          "text": [
            "Spark NLP version\n",
            "Apache Spark version\n"
          ],
          "name": "stdout"
        },
        {
          "output_type": "execute_result",
          "data": {
            "application/vnd.google.colaboratory.intrinsic+json": {
              "type": "string"
            },
            "text/plain": [
              "'2.4.4'"
            ]
          },
          "metadata": {
            "tags": []
          },
          "execution_count": 213
        }
      ]
    },
    {
      "cell_type": "code",
      "metadata": {
        "colab": {
          "base_uri": "https://localhost:8080/"
        },
        "id": "9OGWJ-Lx_jjZ",
        "outputId": "74ed50f3-a139-4591-b121-9ee9e9d58bb3"
      },
      "source": [
        "# Configuration of old Spark version with Google Colab to allow NLP package work\r\n",
        "SparkSession.builder.config(\"spark.jars\", \"hdfs://somepath/sparknlp.jar\")"
      ],
      "execution_count": 214,
      "outputs": [
        {
          "output_type": "execute_result",
          "data": {
            "text/plain": [
              "<pyspark.sql.session.SparkSession.Builder at 0x7f69f241f450>"
            ]
          },
          "metadata": {
            "tags": []
          },
          "execution_count": 214
        }
      ]
    },
    {
      "cell_type": "code",
      "metadata": {
        "id": "aWwk8Iw4BezI"
      },
      "source": [
        "#Stacking Spark NLP Annotators in Spark ML Pipeline\r\n",
        "\r\n",
        "documentAssembler = DocumentAssembler()\\\r\n",
        ".setInputCol(\"sentence\")\\\r\n",
        ".setOutputCol(\"document\")\r\n",
        "\r\n",
        "tokenizer = Tokenizer() \\\r\n",
        "    .setInputCols([\"document\"]) \\\r\n",
        "    .setOutputCol(\"token\")\r\n",
        "    \r\n",
        "normalizer = Normalizer() \\\r\n",
        "    .setInputCols([\"token\"]) \\\r\n",
        "    .setOutputCol(\"normalized\")\\\r\n",
        "    .setLowercase(True)\\\r\n",
        "    .setCleanupPatterns([\"[^\\w\\d\\s]\"])"
      ],
      "execution_count": 215,
      "outputs": []
    },
    {
      "cell_type": "code",
      "metadata": {
        "id": "KK7eGcWxDOey"
      },
      "source": [
        "#Pipleine document, tokenizer, and normalizer\r\n",
        "nlpPipeline = Pipeline(stages=[\r\n",
        " documentAssembler, \r\n",
        " tokenizer,\r\n",
        " normalizer\r\n",
        " ])\r\n",
        "\r\n",
        "empty_df = spark.createDataFrame([['']]).toDF(\"sentence\")\r\n",
        "\r\n",
        "pipelineModel = nlpPipeline.fit(empty_df)"
      ],
      "execution_count": 216,
      "outputs": []
    },
    {
      "cell_type": "code",
      "metadata": {
        "id": "xQl9IrFpIkU8"
      },
      "source": [
        "result1 = pipelineModel.transform(sentenceData)"
      ],
      "execution_count": 217,
      "outputs": []
    },
    {
      "cell_type": "code",
      "metadata": {
        "colab": {
          "base_uri": "https://localhost:8080/"
        },
        "id": "cw3mudAqI1mp",
        "outputId": "1bb9fdd3-b042-4c71-b3b3-e9e7fd792834"
      },
      "source": [
        "# Check for results\r\n",
        "result1.show(truncate=50)"
      ],
      "execution_count": 365,
      "outputs": [
        {
          "output_type": "stream",
          "text": [
            "+--------+--------------------------------------------------+--------------------------------------------------+--------------------------------------------------+\n",
            "|document|                                          sentence|                                             words|                                           feature|\n",
            "+--------+--------------------------------------------------+--------------------------------------------------+--------------------------------------------------+\n",
            "|       0|In clinical trials, reactogenicity symptoms (si...|[in, clinical, trials,, reactogenicity, symptom...|[0.011457055860029703,-0.0368499701355838,-0.01...|\n",
            "|       1|As people around the world receive COVID-19 vac...|[as, people, around, the, world, receive, covid...|[0.013541094850127897,-0.015294229711095493,0.0...|\n",
            "|       2|A tracheostomy is a hole in the windpipe (trach...|[a, tracheostomy, is, a, hole, in, the, windpip...|[-0.015882298530896705,-0.02551314291753331,-0....|\n",
            "|       3|Researchers conducted a retrospective analysis ...|[researchers, conducted, a, retrospective, anal...|[0.02061817072131412,-0.051247035414336194,-0.0...|\n",
            "|       4|In every state except two – Maine and Nebraska ...|[in, every, state, except, two, –, maine, and, ...|[0.012961227457623842,-0.020533123205220976,-0....|\n",
            "+--------+--------------------------------------------------+--------------------------------------------------+--------------------------------------------------+\n",
            "\n"
          ],
          "name": "stdout"
        }
      ]
    },
    {
      "cell_type": "code",
      "metadata": {
        "id": "wglWdeco_3iw"
      },
      "source": [
        "#Retrieves lemmas out of words with the objective of returning a base dictionary word\r\n",
        "!wget -q https://raw.githubusercontent.com/mahavivo/vocabulary/master/lemmas/AntBNC_lemmas_ver_001.txt"
      ],
      "execution_count": 219,
      "outputs": []
    },
    {
      "cell_type": "code",
      "metadata": {
        "id": "ffD1GegP_-LE"
      },
      "source": [
        "lemmatizer = Lemmatizer() \\\r\n",
        "    .setInputCols([\"token\"]) \\\r\n",
        "    .setOutputCol(\"lemma\") \\\r\n",
        "    .setDictionary(\"./AntBNC_lemmas_ver_001.txt\", value_delimiter =\"\\t\", key_delimiter = \"->\")"
      ],
      "execution_count": 220,
      "outputs": []
    },
    {
      "cell_type": "code",
      "metadata": {
        "id": "K9E13uaeAAGt"
      },
      "source": [
        "documentAssembler = DocumentAssembler()\\\r\n",
        ".setInputCol(\"sentence\")\\\r\n",
        ".setOutputCol(\"document\")\r\n",
        "\r\n",
        "tokenizer = Tokenizer() \\\r\n",
        "    .setInputCols([\"document\"]) \\\r\n",
        "    .setOutputCol(\"token\")\r\n",
        "\r\n",
        "nlpPipeline = Pipeline(stages=[\r\n",
        " documentAssembler, \r\n",
        " tokenizer,\r\n",
        " lemmatizer\r\n",
        " ])\r\n",
        "\r\n",
        "empty_df = spark.createDataFrame([['']]).toDF(\"sentence\")\r\n",
        "\r\n",
        "pipelineModel = nlpPipeline.fit(empty_df)"
      ],
      "execution_count": 221,
      "outputs": []
    },
    {
      "cell_type": "code",
      "metadata": {
        "colab": {
          "base_uri": "https://localhost:8080/"
        },
        "id": "f6QJNFBsAhEl",
        "outputId": "7e63ff2d-dedd-432f-99b7-daeb8f682b0e"
      },
      "source": [
        "# Check for results\r\n",
        "result = pipelineModel.transform(sentenceData)\r\n",
        "\r\n",
        "result.show()"
      ],
      "execution_count": 291,
      "outputs": [
        {
          "output_type": "stream",
          "text": [
            "+--------------------+--------------------+--------------------+--------------------+\n",
            "|            document|            sentence|               token|               lemma|\n",
            "+--------------------+--------------------+--------------------+--------------------+\n",
            "|[[document, 0, 28...|In clinical trial...|[[token, 0, 1, In...|[[token, 0, 1, In...|\n",
            "|[[document, 0, 46...|As people around ...|[[token, 0, 1, As...|[[token, 0, 1, As...|\n",
            "|[[document, 0, 27...|A tracheostomy is...|[[token, 0, 0, A,...|[[token, 0, 0, A,...|\n",
            "|[[document, 0, 50...|Researchers condu...|[[token, 0, 10, R...|[[token, 0, 10, R...|\n",
            "|[[document, 0, 24...|In every state ex...|[[token, 0, 1, In...|[[token, 0, 1, In...|\n",
            "+--------------------+--------------------+--------------------+--------------------+\n",
            "\n"
          ],
          "name": "stdout"
        }
      ]
    },
    {
      "cell_type": "code",
      "metadata": {
        "colab": {
          "base_uri": "https://localhost:8080/",
          "height": 340
        },
        "id": "ljC88IB1TQcR",
        "outputId": "bf9a450d-8a34-47e0-b582-b8877b085814"
      },
      "source": [
        "#Check for top 10 lemmatized words\r\n",
        "import pyspark.sql.functions as F\r\n",
        "result_df = result.select(F.explode(F.arrays_zip('token.result',  'lemma.result')).alias(\"cols\")) \\\r\n",
        ".select(F.expr(\"cols['0']\").alias(\"token\"),\r\n",
        "        F.expr(\"cols['1']\").alias(\"lemma\")).toPandas()\r\n",
        "\r\n",
        "result_df.head(10)"
      ],
      "execution_count": 292,
      "outputs": [
        {
          "output_type": "execute_result",
          "data": {
            "text/html": [
              "<div>\n",
              "<style scoped>\n",
              "    .dataframe tbody tr th:only-of-type {\n",
              "        vertical-align: middle;\n",
              "    }\n",
              "\n",
              "    .dataframe tbody tr th {\n",
              "        vertical-align: top;\n",
              "    }\n",
              "\n",
              "    .dataframe thead th {\n",
              "        text-align: right;\n",
              "    }\n",
              "</style>\n",
              "<table border=\"1\" class=\"dataframe\">\n",
              "  <thead>\n",
              "    <tr style=\"text-align: right;\">\n",
              "      <th></th>\n",
              "      <th>token</th>\n",
              "      <th>lemma</th>\n",
              "    </tr>\n",
              "  </thead>\n",
              "  <tbody>\n",
              "    <tr>\n",
              "      <th>0</th>\n",
              "      <td>In</td>\n",
              "      <td>In</td>\n",
              "    </tr>\n",
              "    <tr>\n",
              "      <th>1</th>\n",
              "      <td>clinical</td>\n",
              "      <td>clinical</td>\n",
              "    </tr>\n",
              "    <tr>\n",
              "      <th>2</th>\n",
              "      <td>trials</td>\n",
              "      <td>trial</td>\n",
              "    </tr>\n",
              "    <tr>\n",
              "      <th>3</th>\n",
              "      <td>,</td>\n",
              "      <td>,</td>\n",
              "    </tr>\n",
              "    <tr>\n",
              "      <th>4</th>\n",
              "      <td>reactogenicity</td>\n",
              "      <td>reactogenicity</td>\n",
              "    </tr>\n",
              "    <tr>\n",
              "      <th>5</th>\n",
              "      <td>symptoms</td>\n",
              "      <td>symptom</td>\n",
              "    </tr>\n",
              "    <tr>\n",
              "      <th>6</th>\n",
              "      <td>(</td>\n",
              "      <td>(</td>\n",
              "    </tr>\n",
              "    <tr>\n",
              "      <th>7</th>\n",
              "      <td>side</td>\n",
              "      <td>side</td>\n",
              "    </tr>\n",
              "    <tr>\n",
              "      <th>8</th>\n",
              "      <td>effects</td>\n",
              "      <td>effect</td>\n",
              "    </tr>\n",
              "    <tr>\n",
              "      <th>9</th>\n",
              "      <td>that</td>\n",
              "      <td>that</td>\n",
              "    </tr>\n",
              "  </tbody>\n",
              "</table>\n",
              "</div>"
            ],
            "text/plain": [
              "            token           lemma\n",
              "0              In              In\n",
              "1        clinical        clinical\n",
              "2          trials           trial\n",
              "3               ,               ,\n",
              "4  reactogenicity  reactogenicity\n",
              "5        symptoms         symptom\n",
              "6               (               (\n",
              "7            side            side\n",
              "8         effects          effect\n",
              "9            that            that"
            ]
          },
          "metadata": {
            "tags": []
          },
          "execution_count": 292
        }
      ]
    },
    {
      "cell_type": "code",
      "metadata": {
        "colab": {
          "base_uri": "https://localhost:8080/"
        },
        "id": "9OJRjxxpPnLN",
        "outputId": "46e59c23-f411-47d7-c7f9-f07642444c9a"
      },
      "source": [
        "# Change the data from string to array type\r\n",
        "from pyspark.sql.types import StringType\r\n",
        "from pyspark.sql.functions import array\r\n",
        "df_new4 = sentenceData.withColumn(\"sentence\", array(sentenceData[\"sentence\"]))\r\n",
        "df_new4.printSchema"
      ],
      "execution_count": 348,
      "outputs": [
        {
          "output_type": "execute_result",
          "data": {
            "text/plain": [
              "<bound method DataFrame.printSchema of DataFrame[document: bigint, sentence: array<string>]>"
            ]
          },
          "metadata": {
            "tags": []
          },
          "execution_count": 348
        }
      ]
    },
    {
      "cell_type": "code",
      "metadata": {
        "id": "YP3KVSqQQCe7"
      },
      "source": [
        "# applying tf on the df_new4\r\n",
        "hashingTF2 = HashingTF(inputCol=\"sentence\", outputCol=\"intFeatures\", numFeatures=20)\r\n",
        "featurizedDatalema = hashingTF2.transform(df_new4)"
      ],
      "execution_count": 349,
      "outputs": []
    },
    {
      "cell_type": "code",
      "metadata": {
        "id": "t_TAtENbQLiV"
      },
      "source": [
        "#calculating the IDF\r\n",
        "idf2 = IDF(inputCol=\"intFeatures\", outputCol=\"lemfeatures\")\r\n",
        "idfModellem = idf2.fit(featurizedDatalema)\r\n",
        "rescaledDatalem = idfModellem.transform(featurizedDatalema)"
      ],
      "execution_count": 352,
      "outputs": []
    },
    {
      "cell_type": "code",
      "metadata": {
        "colab": {
          "base_uri": "https://localhost:8080/"
        },
        "id": "lFMRexaN5ymj",
        "outputId": "75d6b1e0-7b49-45fd-e85c-cb3b9fa090c9"
      },
      "source": [
        "# Check the results\r\n",
        "rescaledDatalem.show()"
      ],
      "execution_count": 353,
      "outputs": [
        {
          "output_type": "stream",
          "text": [
            "+--------+--------------------+---------------+--------------------+\n",
            "|document|            sentence|    intFeatures|         lemfeatures|\n",
            "+--------+--------------------+---------------+--------------------+\n",
            "|       0|[In clinical tria...| (20,[2],[1.0])|(20,[2],[0.693147...|\n",
            "|       1|[As people around...|(20,[12],[1.0])|(20,[12],[1.09861...|\n",
            "|       2|[A tracheostomy i...| (20,[2],[1.0])|(20,[2],[0.693147...|\n",
            "|       3|[Researchers cond...|(20,[14],[1.0])|(20,[14],[1.09861...|\n",
            "|       4|[In every state e...|(20,[15],[1.0])|(20,[15],[1.09861...|\n",
            "+--------+--------------------+---------------+--------------------+\n",
            "\n"
          ],
          "name": "stdout"
        }
      ]
    },
    {
      "cell_type": "code",
      "metadata": {
        "id": "o17QMqytPzjA"
      },
      "source": [
        ""
      ],
      "execution_count": null,
      "outputs": []
    },
    {
      "cell_type": "markdown",
      "metadata": {
        "id": "t1reiv2ZSQj7"
      },
      "source": [
        "#Task3. Finding the top 10 TF_IDF ngrams words"
      ]
    },
    {
      "cell_type": "code",
      "metadata": {
        "id": "XR_8w7ORSeky"
      },
      "source": [
        "#Creating the spark2 object \r\n",
        "spark3 = SparkSession.builder.appName(\"Ngrams\").getOrCreate()"
      ],
      "execution_count": 316,
      "outputs": []
    },
    {
      "cell_type": "code",
      "metadata": {
        "id": "2DAvKgbLS8wV"
      },
      "source": [
        "ngramData = spark3.createDataFrame([\r\n",
        "    (0, \"In clinical trials, reactogenicity symptoms (side effects that happen within 7 days of getting vaccinated) were common but were mostly mild to moderate.Side effects (such as fever, chills, tiredness, and headache) throughout the body were more common after the second dose of the vaccine.\"),\r\n",
        "    (1, \"As people around the world receive COVID-19 vaccines, reports of temporary side effects such as headaches and fevers are rolling in. Much of this was expected — clinical-trial data for the vaccines authorized so far suggested as much. But now that millions of people are vaccinated, compared with the thousands enrolled in early studies, reports of some rare, allergic reactions are surfacing, and questions are arising about whether any deaths are linked to the shots.\"),\r\n",
        "    (2, \"A tracheostomy is a hole in the windpipe (trachea) created by a surgeon. This hole, called a stoma, replaces a person’s nose and mouth as the pathway for breathing. A tracheostomy tube is inserted into the stoma to keep the hole open and provide an entryway into the lungs.\"),\r\n",
        "    (3, \"Researchers conducted a retrospective analysis of an electronic health record database that included 72,585 patients with COPD who were hospitalized and mechanically ventilated between January 1, 2009, and June 29, 2018. The cohort was then restricted to patients receiving tracheostomy. Receiver operating characteristic (ROC) curve was used to define the most sensitive cut-off for tracheostomy timing to predict 90-day mortality, which was then implemented to create the early and late tracheostomy groups\"),\r\n",
        "    (4, \"In every state except two – Maine and Nebraska – the candidate that gets the most votes wins all of the state’s electoral college votes.Due to these rules, a candidate can win the election without getting the most votes at the national level.\")],\r\n",
        " [\"label\", \"rawdata\"])"
      ],
      "execution_count": 317,
      "outputs": []
    },
    {
      "cell_type": "code",
      "metadata": {
        "colab": {
          "base_uri": "https://localhost:8080/"
        },
        "id": "MT4Pl8lyVv9l",
        "outputId": "95fb3bdd-0c3d-4dbd-8db7-7900e2d0f9ed"
      },
      "source": [
        "# Check data\r\n",
        "ngramData.show()"
      ],
      "execution_count": 318,
      "outputs": [
        {
          "output_type": "stream",
          "text": [
            "+-----+--------------------+\n",
            "|label|             rawdata|\n",
            "+-----+--------------------+\n",
            "|    0|In clinical trial...|\n",
            "|    1|As people around ...|\n",
            "|    2|A tracheostomy is...|\n",
            "|    3|Researchers condu...|\n",
            "|    4|In every state ex...|\n",
            "+-----+--------------------+\n",
            "\n"
          ],
          "name": "stdout"
        }
      ]
    },
    {
      "cell_type": "code",
      "metadata": {
        "colab": {
          "base_uri": "https://localhost:8080/"
        },
        "id": "FGQnrM0QTT86",
        "outputId": "9172c3ce-f900-4728-b69c-2900197024ea"
      },
      "source": [
        "# Tokenization of ngramData\r\n",
        "tokenizer = Tokenizer(inputCol=\"rawdata\", outputCol=\"words\")\r\n",
        "ngram = NGram(n=2, inputCol=\"words\", outputCol=\"ngrams\")\r\n",
        "\r\n",
        "idf = IDF(inputCol=\"ngrams\", outputCol=\"ngramfeatures\")\r\n",
        "\r\n",
        "pipeline = Pipeline(stages=[tokenizer, ngram])\r\n",
        "\r\n",
        "model = pipeline.fit(ngramData)\r\n",
        "\r\n",
        "result= model.transform(ngramData)\r\n",
        "result3 = result.show(truncate=False)"
      ],
      "execution_count": 334,
      "outputs": [
        {
          "output_type": "stream",
          "text": [
            "+-----+----------------------------------------------------------------------------------------------------------------------------------------------------------------------------------------------------------------------------------------------------------------------------------------------------------------------------------------------------------------------------------------------------------------------------------------------------------------------------------------------------------------------------+-----------------------------------------------------------------------------------------------------------------------------------------------------------------------------------------------------------------------------------------------------------------------------------------------------------------------------------------------------------------------------------------------------------------------------------------------------------------------------------------------------------------------------------------------------------------------------------------------------+--------------------------------------------------------------------------------------------------------------------------------------------------------------------------------------------------------------------------------------------------------------------------------------------------------------------------------------------------------------------------------------------------------------------------------------------------------------------------------------------------------------------------------------------------------------------------------------------------------------------------------------------------------------------------------------------------------------------------------------------------------------------------------------------------------------------------------------------------------------------------------------------------------------------------------------------------------------------------------------------------------------------------------------------------------------------------------------------------------------+\n",
            "|label|rawdata                                                                                                                                                                                                                                                                                                                                                                                                                                                                                                                     |words                                                                                                                                                                                                                                                                                                                                                                                                                                                                                                                                                                                                |ngrams                                                                                                                                                                                                                                                                                                                                                                                                                                                                                                                                                                                                                                                                                                                                                                                                                                                                                                                                                                                                                                                                                                        |\n",
            "+-----+----------------------------------------------------------------------------------------------------------------------------------------------------------------------------------------------------------------------------------------------------------------------------------------------------------------------------------------------------------------------------------------------------------------------------------------------------------------------------------------------------------------------------+-----------------------------------------------------------------------------------------------------------------------------------------------------------------------------------------------------------------------------------------------------------------------------------------------------------------------------------------------------------------------------------------------------------------------------------------------------------------------------------------------------------------------------------------------------------------------------------------------------+--------------------------------------------------------------------------------------------------------------------------------------------------------------------------------------------------------------------------------------------------------------------------------------------------------------------------------------------------------------------------------------------------------------------------------------------------------------------------------------------------------------------------------------------------------------------------------------------------------------------------------------------------------------------------------------------------------------------------------------------------------------------------------------------------------------------------------------------------------------------------------------------------------------------------------------------------------------------------------------------------------------------------------------------------------------------------------------------------------------+\n",
            "|0    |In clinical trials, reactogenicity symptoms (side effects that happen within 7 days of getting vaccinated) were common but were mostly mild to moderate.Side effects (such as fever, chills, tiredness, and headache) throughout the body were more common after the second dose of the vaccine.                                                                                                                                                                                                                            |[in, clinical, trials,, reactogenicity, symptoms, (side, effects, that, happen, within, 7, days, of, getting, vaccinated), were, common, but, were, mostly, mild, to, moderate.side, effects, (such, as, fever,, chills,, tiredness,, and, headache), throughout, the, body, were, more, common, after, the, second, dose, of, the, vaccine.]                                                                                                                                                                                                                                                        |[in clinical, clinical trials,, trials, reactogenicity, reactogenicity symptoms, symptoms (side, (side effects, effects that, that happen, happen within, within 7, 7 days, days of, of getting, getting vaccinated), vaccinated) were, were common, common but, but were, were mostly, mostly mild, mild to, to moderate.side, moderate.side effects, effects (such, (such as, as fever,, fever, chills,, chills, tiredness,, tiredness, and, and headache), headache) throughout, throughout the, the body, body were, were more, more common, common after, after the, the second, second dose, dose of, of the, the vaccine.]                                                                                                                                                                                                                                                                                                                                                                                                                                                                             |\n",
            "|1    |As people around the world receive COVID-19 vaccines, reports of temporary side effects such as headaches and fevers are rolling in. Much of this was expected — clinical-trial data for the vaccines authorized so far suggested as much. But now that millions of people are vaccinated, compared with the thousands enrolled in early studies, reports of some rare, allergic reactions are surfacing, and questions are arising about whether any deaths are linked to the shots.                                       |[as, people, around, the, world, receive, covid-19, vaccines,, reports, of, temporary, side, effects, such, as, headaches, and, fevers, are, rolling, in., much, of, this, was, expected, —, clinical-trial, data, for, the, vaccines, authorized, so, far, suggested, as, much., but, now, that, millions, of, people, are, vaccinated,, compared, with, the, thousands, enrolled, in, early, studies,, reports, of, some, rare,, allergic, reactions, are, surfacing,, and, questions, are, arising, about, whether, any, deaths, are, linked, to, the, shots.]                                    |[as people, people around, around the, the world, world receive, receive covid-19, covid-19 vaccines,, vaccines, reports, reports of, of temporary, temporary side, side effects, effects such, such as, as headaches, headaches and, and fevers, fevers are, are rolling, rolling in., in. much, much of, of this, this was, was expected, expected —, — clinical-trial, clinical-trial data, data for, for the, the vaccines, vaccines authorized, authorized so, so far, far suggested, suggested as, as much., much. but, but now, now that, that millions, millions of, of people, people are, are vaccinated,, vaccinated, compared, compared with, with the, the thousands, thousands enrolled, enrolled in, in early, early studies,, studies, reports, reports of, of some, some rare,, rare, allergic, allergic reactions, reactions are, are surfacing,, surfacing, and, and questions, questions are, are arising, arising about, about whether, whether any, any deaths, deaths are, are linked, linked to, to the, the shots.]                                                                  |\n",
            "|2    |A tracheostomy is a hole in the windpipe (trachea) created by a surgeon. This hole, called a stoma, replaces a person’s nose and mouth as the pathway for breathing. A tracheostomy tube is inserted into the stoma to keep the hole open and provide an entryway into the lungs.                                                                                                                                                                                                                                           |[a, tracheostomy, is, a, hole, in, the, windpipe, (trachea), created, by, a, surgeon., this, hole,, called, a, stoma,, replaces, a, person’s, nose, and, mouth, as, the, pathway, for, breathing., a, tracheostomy, tube, is, inserted, into, the, stoma, to, keep, the, hole, open, and, provide, an, entryway, into, the, lungs.]                                                                                                                                                                                                                                                                  |[a tracheostomy, tracheostomy is, is a, a hole, hole in, in the, the windpipe, windpipe (trachea), (trachea) created, created by, by a, a surgeon., surgeon. this, this hole,, hole, called, called a, a stoma,, stoma, replaces, replaces a, a person’s, person’s nose, nose and, and mouth, mouth as, as the, the pathway, pathway for, for breathing., breathing. a, a tracheostomy, tracheostomy tube, tube is, is inserted, inserted into, into the, the stoma, stoma to, to keep, keep the, the hole, hole open, open and, and provide, provide an, an entryway, entryway into, into the, the lungs.]                                                                                                                                                                                                                                                                                                                                                                                                                                                                                                   |\n",
            "|3    |Researchers conducted a retrospective analysis of an electronic health record database that included 72,585 patients with COPD who were hospitalized and mechanically ventilated between January 1, 2009, and June 29, 2018. The cohort was then restricted to patients receiving tracheostomy. Receiver operating characteristic (ROC) curve was used to define the most sensitive cut-off for tracheostomy timing to predict 90-day mortality, which was then implemented to create the early and late tracheostomy groups|[researchers, conducted, a, retrospective, analysis, of, an, electronic, health, record, database, that, included, 72,585, patients, with, copd, who, were, hospitalized, and, mechanically, ventilated, between, january, 1,, 2009,, and, june, 29,, 2018., the, cohort, was, then, restricted, to, patients, receiving, tracheostomy., receiver, operating, characteristic, (roc), curve, was, used, to, define, the, most, sensitive, cut-off, for, tracheostomy, timing, to, predict, 90-day, mortality,, which, was, then, implemented, to, create, the, early, and, late, tracheostomy, groups]|[researchers conducted, conducted a, a retrospective, retrospective analysis, analysis of, of an, an electronic, electronic health, health record, record database, database that, that included, included 72,585, 72,585 patients, patients with, with copd, copd who, who were, were hospitalized, hospitalized and, and mechanically, mechanically ventilated, ventilated between, between january, january 1,, 1, 2009,, 2009, and, and june, june 29,, 29, 2018., 2018. the, the cohort, cohort was, was then, then restricted, restricted to, to patients, patients receiving, receiving tracheostomy., tracheostomy. receiver, receiver operating, operating characteristic, characteristic (roc), (roc) curve, curve was, was used, used to, to define, define the, the most, most sensitive, sensitive cut-off, cut-off for, for tracheostomy, tracheostomy timing, timing to, to predict, predict 90-day, 90-day mortality,, mortality, which, which was, was then, then implemented, implemented to, to create, create the, the early, early and, and late, late tracheostomy, tracheostomy groups]|\n",
            "|4    |In every state except two – Maine and Nebraska – the candidate that gets the most votes wins all of the state’s electoral college votes.Due to these rules, a candidate can win the election without getting the most votes at the national level.                                                                                                                                                                                                                                                                          |[in, every, state, except, two, –, maine, and, nebraska, –, the, candidate, that, gets, the, most, votes, wins, all, of, the, state’s, electoral, college, votes.due, to, these, rules,, a, candidate, can, win, the, election, without, getting, the, most, votes, at, the, national, level.]                                                                                                                                                                                                                                                                                                       |[in every, every state, state except, except two, two –, – maine, maine and, and nebraska, nebraska –, – the, the candidate, candidate that, that gets, gets the, the most, most votes, votes wins, wins all, all of, of the, the state’s, state’s electoral, electoral college, college votes.due, votes.due to, to these, these rules,, rules, a, a candidate, candidate can, can win, win the, the election, election without, without getting, getting the, the most, most votes, votes at, at the, the national, national level.]                                                                                                                                                                                                                                                                                                                                                                                                                                                                                                                                                                        |\n",
            "+-----+----------------------------------------------------------------------------------------------------------------------------------------------------------------------------------------------------------------------------------------------------------------------------------------------------------------------------------------------------------------------------------------------------------------------------------------------------------------------------------------------------------------------------+-----------------------------------------------------------------------------------------------------------------------------------------------------------------------------------------------------------------------------------------------------------------------------------------------------------------------------------------------------------------------------------------------------------------------------------------------------------------------------------------------------------------------------------------------------------------------------------------------------+--------------------------------------------------------------------------------------------------------------------------------------------------------------------------------------------------------------------------------------------------------------------------------------------------------------------------------------------------------------------------------------------------------------------------------------------------------------------------------------------------------------------------------------------------------------------------------------------------------------------------------------------------------------------------------------------------------------------------------------------------------------------------------------------------------------------------------------------------------------------------------------------------------------------------------------------------------------------------------------------------------------------------------------------------------------------------------------------------------------+\n",
            "\n"
          ],
          "name": "stdout"
        }
      ]
    },
    {
      "cell_type": "code",
      "metadata": {
        "colab": {
          "base_uri": "https://localhost:8080/"
        },
        "id": "G_njWC8g3kcg",
        "outputId": "533b0a36-36ae-4965-fc3a-9a4cfa09fff0"
      },
      "source": [
        "# Change the text from string character to array\r\n",
        "from pyspark.sql.types import StringType\r\n",
        "from pyspark.sql.functions import array\r\n",
        "df_new5 = ngramData.withColumn(\"rawdata\", array(ngramData[\"rawdata\"]))\r\n",
        "df_new5.printSchema"
      ],
      "execution_count": 340,
      "outputs": [
        {
          "output_type": "execute_result",
          "data": {
            "text/plain": [
              "<bound method DataFrame.printSchema of DataFrame[label: bigint, rawdata: array<string>]>"
            ]
          },
          "metadata": {
            "tags": []
          },
          "execution_count": 340
        }
      ]
    },
    {
      "cell_type": "code",
      "metadata": {
        "id": "Y2EhWAx42bBU"
      },
      "source": [
        "# applying tf on the words data\r\n",
        "hashingTFn = HashingTF(inputCol=\"rawdata\", outputCol=\"ngramrawFeatures\", numFeatures=20)\r\n",
        "featurizedDatan = hashingTFn.transform(df_new5)"
      ],
      "execution_count": 342,
      "outputs": []
    },
    {
      "cell_type": "code",
      "metadata": {
        "id": "ynNfsZ1p39F3"
      },
      "source": [
        "#calculating the IDF\r\n",
        "idfn = IDF(inputCol=\"ngramrawFeatures\", outputCol=\"ngramfeatures\")\r\n",
        "idfModeln = idfn.fit(featurizedDatan)\r\n",
        "rescaledDatan = idfModeln.transform(featurizedDatan)"
      ],
      "execution_count": 343,
      "outputs": []
    },
    {
      "cell_type": "code",
      "metadata": {
        "colab": {
          "base_uri": "https://localhost:8080/"
        },
        "id": "Q3QE08oE4e6x",
        "outputId": "1611ea4c-cdb5-4614-c94e-db69612796b8"
      },
      "source": [
        "# Check the result\r\n",
        "rescaledDatan.show()"
      ],
      "execution_count": 359,
      "outputs": [
        {
          "output_type": "stream",
          "text": [
            "+-----+--------------------+----------------+--------------------+\n",
            "|label|             rawdata|ngramrawFeatures|       ngramfeatures|\n",
            "+-----+--------------------+----------------+--------------------+\n",
            "|    0|[In clinical tria...|  (20,[2],[1.0])|(20,[2],[0.693147...|\n",
            "|    1|[As people around...| (20,[12],[1.0])|(20,[12],[1.09861...|\n",
            "|    2|[A tracheostomy i...|  (20,[2],[1.0])|(20,[2],[0.693147...|\n",
            "|    3|[Researchers cond...| (20,[14],[1.0])|(20,[14],[1.09861...|\n",
            "|    4|[In every state e...| (20,[15],[1.0])|(20,[15],[1.09861...|\n",
            "+-----+--------------------+----------------+--------------------+\n",
            "\n"
          ],
          "name": "stdout"
        }
      ]
    },
    {
      "cell_type": "markdown",
      "metadata": {
        "id": "jJlZFV31NmMw"
      },
      "source": [
        "# Task2.A Using the Word2Vec to creat word embedding model for documents without NLP"
      ]
    },
    {
      "cell_type": "code",
      "metadata": {
        "id": "Iie1ZNWFDA-N"
      },
      "source": [
        "# Creating word embedding model \r\n",
        "tokenizer = Tokenizer(inputCol=\"sentence\", outputCol=\"words\")\r\n",
        "word2Vec = Word2Vec(vectorSize=3, minCount=0, inputCol=\"words\", outputCol=\"feature\")\r\n",
        "\r\n",
        "pipeline = Pipeline(stages=[tokenizer, word2Vec])\r\n",
        "\r\n",
        "\r\n",
        "model = pipeline.fit(sentenceData)\r\n",
        "result = model.transform(sentenceData)"
      ],
      "execution_count": 299,
      "outputs": []
    },
    {
      "cell_type": "code",
      "metadata": {
        "colab": {
          "base_uri": "https://localhost:8080/"
        },
        "id": "c8ddLahxDH3L",
        "outputId": "17ac36fc-24a5-463c-c724-f92457263b38"
      },
      "source": [
        "# Check for model results\r\n",
        "result.show()"
      ],
      "execution_count": 300,
      "outputs": [
        {
          "output_type": "stream",
          "text": [
            "+--------+--------------------+--------------------+--------------------+\n",
            "|document|            sentence|               words|             feature|\n",
            "+--------+--------------------+--------------------+--------------------+\n",
            "|       0|In clinical trial...|[in, clinical, tr...|[0.01145705586002...|\n",
            "|       1|As people around ...|[as, people, arou...|[0.01354109485012...|\n",
            "|       2|A tracheostomy is...|[a, tracheostomy,...|[-0.0158822985308...|\n",
            "|       3|Researchers condu...|[researchers, con...|[0.02061817072131...|\n",
            "|       4|In every state ex...|[in, every, state...|[0.01296122745762...|\n",
            "+--------+--------------------+--------------------+--------------------+\n",
            "\n"
          ],
          "name": "stdout"
        }
      ]
    },
    {
      "cell_type": "code",
      "metadata": {
        "colab": {
          "base_uri": "https://localhost:8080/"
        },
        "id": "jA8ku9-fDMdM",
        "outputId": "875fff87-dfac-41b0-917b-7f871a472c77"
      },
      "source": [
        "# Show the vectors of the words\r\n",
        "w2v = model.stages[1]\r\n",
        "w2v.getVectors().show(10)"
      ],
      "execution_count": 301,
      "outputs": [
        {
          "output_type": "stream",
          "text": [
            "+------------+--------------------+\n",
            "|        word|              vector|\n",
            "+------------+--------------------+\n",
            "|mechanically|[-0.1389172822237...|\n",
            "|        used|[0.07984109967947...|\n",
            "|        side|[-0.0675490051507...|\n",
            "|      health|[-0.0470000840723...|\n",
            "|     rolling|[0.13018737733364...|\n",
            "| vaccinated)|[-0.0144791118800...|\n",
            "|         for|[-0.1083322539925...|\n",
            "|    database|[0.07516460865736...|\n",
            "|        june|[0.09108892828226...|\n",
            "|  mortality,|[0.09504242241382...|\n",
            "+------------+--------------------+\n",
            "only showing top 10 rows\n",
            "\n"
          ],
          "name": "stdout"
        }
      ]
    },
    {
      "cell_type": "code",
      "metadata": {
        "colab": {
          "base_uri": "https://localhost:8080/"
        },
        "id": "YZJhVfWPEXGs",
        "outputId": "5df9f22a-a078-4b12-9c87-2c7c91864ba4"
      },
      "source": [
        "# showing the synonyms and cosine similarity of the word in input data\r\n",
        "synonyms = w2v.findSynonyms(\"health\", 10)  \r\n",
        "synonyms.show(10)"
      ],
      "execution_count": 302,
      "outputs": [
        {
          "output_type": "stream",
          "text": [
            "+---------+------------------+\n",
            "|     word|        similarity|\n",
            "+---------+------------------+\n",
            "|   stoma,|0.9905773997306824|\n",
            "| vaccines|0.9840749502182007|\n",
            "|candidate|0.9829673767089844|\n",
            "| person’s|0.9622843861579895|\n",
            "|     keep|0.9610600471496582|\n",
            "|reactions|0.9148192405700684|\n",
            "|   people|0.9031999111175537|\n",
            "|     side|0.8847343325614929|\n",
            "|   except|0.8423463702201843|\n",
            "|      two|0.8401006460189819|\n",
            "+---------+------------------+\n",
            "\n"
          ],
          "name": "stdout"
        }
      ]
    },
    {
      "cell_type": "markdown",
      "metadata": {
        "id": "770NIrAkK-E0"
      },
      "source": [
        "#Task2.B Using the Word2Vec to creat word embedding model for documents with lemmatized words\r\n"
      ]
    },
    {
      "cell_type": "code",
      "metadata": {
        "id": "0ZmkK5z7LMDi"
      },
      "source": [
        "# Creat word embedding model for documents with lemmatized words\r\n",
        "tokenizer2 = Tokenizer(inputCol=\"lemma\", outputCol=\"words\")\r\n",
        "word2Vec2 = Word2Vec(vectorSize=3, minCount=0, inputCol=\"words\", outputCol=\"feature\")\r\n",
        "\r\n",
        "pipeline2 = Pipeline(stages=[tokenizer, word2Vec])\r\n",
        "\r\n",
        "\r\n",
        "model2 = pipeline.fit(sentenceData)\r\n",
        "result1 = model2.transform(sentenceData)"
      ],
      "execution_count": 311,
      "outputs": []
    },
    {
      "cell_type": "code",
      "metadata": {
        "colab": {
          "base_uri": "https://localhost:8080/"
        },
        "id": "Hp7O-oGTbhQ1",
        "outputId": "f0809fec-5a54-49d8-837f-431f29b887b2"
      },
      "source": [
        "# Check the results \r\n",
        "result.show()"
      ],
      "execution_count": 312,
      "outputs": [
        {
          "output_type": "stream",
          "text": [
            "+--------+--------------------+--------------------+--------------------+\n",
            "|document|            sentence|               words|             feature|\n",
            "+--------+--------------------+--------------------+--------------------+\n",
            "|       0|In clinical trial...|[in, clinical, tr...|[0.01145705586002...|\n",
            "|       1|As people around ...|[as, people, arou...|[0.01354109485012...|\n",
            "|       2|A tracheostomy is...|[a, tracheostomy,...|[-0.0158822985308...|\n",
            "|       3|Researchers condu...|[researchers, con...|[0.02061817072131...|\n",
            "|       4|In every state ex...|[in, every, state...|[0.01296122745762...|\n",
            "+--------+--------------------+--------------------+--------------------+\n",
            "\n"
          ],
          "name": "stdout"
        }
      ]
    },
    {
      "cell_type": "code",
      "metadata": {
        "colab": {
          "base_uri": "https://localhost:8080/"
        },
        "id": "GkNr5JKIblKB",
        "outputId": "4009b98d-d1db-4299-de66-e780570caf8a"
      },
      "source": [
        "# Creat vectors \r\n",
        "w2v2 = model2.stages[1]\r\n",
        "w2v2.getVectors().show(10)"
      ],
      "execution_count": 313,
      "outputs": [
        {
          "output_type": "stream",
          "text": [
            "+------------+--------------------+\n",
            "|        word|              vector|\n",
            "+------------+--------------------+\n",
            "|mechanically|[-0.1389172822237...|\n",
            "|        used|[0.07984109967947...|\n",
            "|        side|[-0.0675490051507...|\n",
            "|      health|[-0.0470000840723...|\n",
            "|     rolling|[0.13018737733364...|\n",
            "| vaccinated)|[-0.0144791118800...|\n",
            "|         for|[-0.1083322539925...|\n",
            "|    database|[0.07516460865736...|\n",
            "|        june|[0.09108892828226...|\n",
            "|  mortality,|[0.09504242241382...|\n",
            "+------------+--------------------+\n",
            "only showing top 10 rows\n",
            "\n"
          ],
          "name": "stdout"
        }
      ]
    },
    {
      "cell_type": "code",
      "metadata": {
        "colab": {
          "base_uri": "https://localhost:8080/"
        },
        "id": "V0LnGSeibzef",
        "outputId": "900ad75d-21d0-4499-b8b2-7fc1404e0dca"
      },
      "source": [
        "#showing the synonyms and cosine similarity of the word in input data\r\n",
        "synonyms = w2v2.findSynonyms(\"health\", 10)  \r\n",
        "synonyms.show(10)"
      ],
      "execution_count": 314,
      "outputs": [
        {
          "output_type": "stream",
          "text": [
            "+---------+------------------+\n",
            "|     word|        similarity|\n",
            "+---------+------------------+\n",
            "|   stoma,|0.9905773997306824|\n",
            "| vaccines|0.9840749502182007|\n",
            "|candidate|0.9829673767089844|\n",
            "| person’s|0.9622843861579895|\n",
            "|     keep|0.9610600471496582|\n",
            "|reactions|0.9148192405700684|\n",
            "|   people|0.9031999111175537|\n",
            "|     side|0.8847343325614929|\n",
            "|   except|0.8423463702201843|\n",
            "|      two|0.8401006460189819|\n",
            "+---------+------------------+\n",
            "\n"
          ],
          "name": "stdout"
        }
      ]
    },
    {
      "cell_type": "markdown",
      "metadata": {
        "id": "7JYRLKEHUhKl"
      },
      "source": [
        "#Task2.C Using the Word2Vec to creat word embedding model for documents with Ngrams"
      ]
    },
    {
      "cell_type": "code",
      "metadata": {
        "id": "1XmV7DD6Uswi"
      },
      "source": [
        "#Creating embedding word model for ngrams\r\n",
        "tokenizer3 = Tokenizer(inputCol=\"rawdata\", outputCol=\"words\")\r\n",
        "word2Vec3 = Word2Vec(vectorSize=3, minCount=0, inputCol=\"words\", outputCol=\"feature\")\r\n",
        "\r\n",
        "pipeline3 = Pipeline(stages=[tokenizer, word2Vec])\r\n",
        "\r\n",
        "\r\n",
        "model3 = pipeline.fit(ngramData)\r\n",
        "result4 = model3.transform(ngramData)"
      ],
      "execution_count": 363,
      "outputs": []
    },
    {
      "cell_type": "code",
      "metadata": {
        "colab": {
          "base_uri": "https://localhost:8080/"
        },
        "id": "07K5dXrgYamL",
        "outputId": "6021dfef-6688-43a4-fa20-d14ae64b9222"
      },
      "source": [
        "#Check the result\r\n",
        "result4.show()"
      ],
      "execution_count": 364,
      "outputs": [
        {
          "output_type": "stream",
          "text": [
            "+-----+--------------------+--------------------+--------------------+\n",
            "|label|             rawdata|               words|              ngrams|\n",
            "+-----+--------------------+--------------------+--------------------+\n",
            "|    0|In clinical trial...|[in, clinical, tr...|[in clinical, cli...|\n",
            "|    1|As people around ...|[as, people, arou...|[as people, peopl...|\n",
            "|    2|A tracheostomy is...|[a, tracheostomy,...|[a tracheostomy, ...|\n",
            "|    3|Researchers condu...|[researchers, con...|[researchers cond...|\n",
            "|    4|In every state ex...|[in, every, state...|[in every, every ...|\n",
            "+-----+--------------------+--------------------+--------------------+\n",
            "\n"
          ],
          "name": "stdout"
        }
      ]
    },
    {
      "cell_type": "code",
      "metadata": {
        "colab": {
          "base_uri": "https://localhost:8080/",
          "height": 204
        },
        "id": "SWXCnqNeVFpi",
        "outputId": "beae6ecc-d0f1-42ad-ee8c-95e8b35c8bb0"
      },
      "source": [
        "#Creating the vector \r\n",
        "w2v3 = model3.stages[1]\r\n",
        "w2v3.getVectors().show()\r\n"
      ],
      "execution_count": 329,
      "outputs": [
        {
          "output_type": "error",
          "ename": "AttributeError",
          "evalue": "ignored",
          "traceback": [
            "\u001b[0;31m---------------------------------------------------------------------------\u001b[0m",
            "\u001b[0;31mAttributeError\u001b[0m                            Traceback (most recent call last)",
            "\u001b[0;32m<ipython-input-329-ef95ce8ff7a6>\u001b[0m in \u001b[0;36m<module>\u001b[0;34m()\u001b[0m\n\u001b[1;32m      1\u001b[0m \u001b[0;31m#Creating the vector\u001b[0m\u001b[0;34m\u001b[0m\u001b[0;34m\u001b[0m\u001b[0;34m\u001b[0m\u001b[0m\n\u001b[1;32m      2\u001b[0m \u001b[0mw2v3\u001b[0m \u001b[0;34m=\u001b[0m \u001b[0mmodel3\u001b[0m\u001b[0;34m.\u001b[0m\u001b[0mstages\u001b[0m\u001b[0;34m[\u001b[0m\u001b[0;36m1\u001b[0m\u001b[0;34m]\u001b[0m\u001b[0;34m\u001b[0m\u001b[0;34m\u001b[0m\u001b[0m\n\u001b[0;32m----> 3\u001b[0;31m \u001b[0mw2v3\u001b[0m\u001b[0;34m.\u001b[0m\u001b[0mgetVectors\u001b[0m\u001b[0;34m(\u001b[0m\u001b[0;34m)\u001b[0m\u001b[0;34m.\u001b[0m\u001b[0mshow\u001b[0m\u001b[0;34m(\u001b[0m\u001b[0;34m)\u001b[0m\u001b[0;34m\u001b[0m\u001b[0;34m\u001b[0m\u001b[0m\n\u001b[0m",
            "\u001b[0;31mAttributeError\u001b[0m: 'NGram' object has no attribute 'getVectors'"
          ]
        }
      ]
    },
    {
      "cell_type": "code",
      "metadata": {
        "colab": {
          "base_uri": "https://localhost:8080/",
          "height": 204
        },
        "id": "VQyFSf0nVpH9",
        "outputId": "18940273-301c-47e5-c6ed-ca6a805d980e"
      },
      "source": [
        "# showing the synonyms and cosine similarity of the word in input data\r\n",
        "synonyms = w2v3.findSynonyms(\"health\", 10)  \r\n",
        "synonyms.show(10)"
      ],
      "execution_count": 162,
      "outputs": [
        {
          "output_type": "error",
          "ename": "AttributeError",
          "evalue": "ignored",
          "traceback": [
            "\u001b[0;31m---------------------------------------------------------------------------\u001b[0m",
            "\u001b[0;31mAttributeError\u001b[0m                            Traceback (most recent call last)",
            "\u001b[0;32m<ipython-input-162-c72401785eb8>\u001b[0m in \u001b[0;36m<module>\u001b[0;34m()\u001b[0m\n\u001b[1;32m      1\u001b[0m \u001b[0;31m# showing the synonyms and cosine similarity of the word in input data\u001b[0m\u001b[0;34m\u001b[0m\u001b[0;34m\u001b[0m\u001b[0;34m\u001b[0m\u001b[0m\n\u001b[0;32m----> 2\u001b[0;31m \u001b[0msynonyms\u001b[0m \u001b[0;34m=\u001b[0m \u001b[0mw2v3\u001b[0m\u001b[0;34m.\u001b[0m\u001b[0mfindSynonyms\u001b[0m\u001b[0;34m(\u001b[0m\u001b[0;34m\"health\"\u001b[0m\u001b[0;34m,\u001b[0m \u001b[0;36m10\u001b[0m\u001b[0;34m)\u001b[0m\u001b[0;34m\u001b[0m\u001b[0;34m\u001b[0m\u001b[0m\n\u001b[0m\u001b[1;32m      3\u001b[0m \u001b[0msynonyms\u001b[0m\u001b[0;34m.\u001b[0m\u001b[0mshow\u001b[0m\u001b[0;34m(\u001b[0m\u001b[0;36m10\u001b[0m\u001b[0;34m)\u001b[0m\u001b[0;34m\u001b[0m\u001b[0;34m\u001b[0m\u001b[0m\n",
            "\u001b[0;31mAttributeError\u001b[0m: 'NGram' object has no attribute 'findSynonyms'"
          ]
        }
      ]
    }
  ]
}