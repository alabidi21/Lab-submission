{
  "nbformat": 4,
  "nbformat_minor": 0,
  "metadata": {
    "colab": {
      "name": "Untitled6.ICP11",
      "provenance": []
    },
    "kernelspec": {
      "name": "python3",
      "display_name": "Python 3"
    },
    "language_info": {
      "name": "python"
    },
    "accelerator": "GPU"
  },
  "cells": [
    {
      "cell_type": "markdown",
      "metadata": {
        "id": "TpuV70Ti-B8R"
      },
      "source": [
        "#Import required packages\n"
      ]
    },
    {
      "cell_type": "code",
      "metadata": {
        "id": "O4jiy3vSUX2S"
      },
      "source": [
        "import numpy as np\n",
        "import tensorflow as tf\n",
        "from keras.datasets import cifar10\n",
        "from keras.models import Sequential\n",
        "from keras.layers import Conv2D, MaxPooling2D, Dense, Flatten, Dropout\n",
        "from keras.utils import to_categorical\n",
        "import matplotlib.pyplot as plt"
      ],
      "execution_count": 88,
      "outputs": []
    },
    {
      "cell_type": "markdown",
      "metadata": {
        "id": "uednuGaF-M7q"
      },
      "source": [
        "#Load the dataset (cifar10)"
      ]
    },
    {
      "cell_type": "code",
      "metadata": {
        "id": "phPByZidUkz-"
      },
      "source": [
        "(x_train, y_train), (x_test, y_test) = cifar10.load_data()"
      ],
      "execution_count": 89,
      "outputs": []
    },
    {
      "cell_type": "markdown",
      "metadata": {
        "id": "2CkB8zSq-ZLB"
      },
      "source": [
        "#Check for shape of dataset "
      ]
    },
    {
      "cell_type": "code",
      "metadata": {
        "colab": {
          "base_uri": "https://localhost:8080/"
        },
        "id": "XFJwIDvjiV3g",
        "outputId": "9a965c35-91db-4f5b-8a99-dbb18e69e553"
      },
      "source": [
        "print(x_train.shape)\n",
        "print(y_train.shape)\n",
        "print(x_test.shape)\n",
        "print(y_test.shape)"
      ],
      "execution_count": 90,
      "outputs": [
        {
          "output_type": "stream",
          "text": [
            "(50000, 32, 32, 3)\n",
            "(50000, 1)\n",
            "(10000, 32, 32, 3)\n",
            "(10000, 1)\n"
          ],
          "name": "stdout"
        }
      ]
    },
    {
      "cell_type": "markdown",
      "metadata": {
        "id": "HnpVqZhh-jYZ"
      },
      "source": [
        "#Normalize the image "
      ]
    },
    {
      "cell_type": "code",
      "metadata": {
        "id": "39cswJfOUutP"
      },
      "source": [
        "x_train = (x_train / 255)- 0.5\n",
        "x_test = (x_test / 255) - 0.5 "
      ],
      "execution_count": 91,
      "outputs": []
    },
    {
      "cell_type": "code",
      "metadata": {
        "colab": {
          "base_uri": "https://localhost:8080/"
        },
        "id": "QBXPAPK9n-6l",
        "outputId": "34a6feff-edaf-4a12-eba8-000ff4b191d6"
      },
      "source": [
        "x_train.shape"
      ],
      "execution_count": 69,
      "outputs": [
        {
          "output_type": "execute_result",
          "data": {
            "text/plain": [
              "(50000, 32, 32, 3)"
            ]
          },
          "metadata": {
            "tags": []
          },
          "execution_count": 69
        }
      ]
    },
    {
      "cell_type": "markdown",
      "metadata": {
        "id": "WLQ2IW1f_BFI"
      },
      "source": [
        "# Value for paramter used in the model"
      ]
    },
    {
      "cell_type": "code",
      "metadata": {
        "id": "Cd2rj9RDVAky"
      },
      "source": [
        "num_filters = 8\n",
        "filter_size = 2\n",
        "pool_size = 2\n"
      ],
      "execution_count": 92,
      "outputs": []
    },
    {
      "cell_type": "markdown",
      "metadata": {
        "id": "hdzvLJyv_LBi"
      },
      "source": [
        "# Build the model "
      ]
    },
    {
      "cell_type": "code",
      "metadata": {
        "id": "tXn4iyJBVC78"
      },
      "source": [
        "model = Sequential([\n",
        "  Conv2D(num_filters, filter_size, input_shape=(32, 32, 3)),\n",
        "  MaxPooling2D(pool_size=pool_size),\n",
        "  Flatten(),\n",
        "  Dense(64, activation='relu'),\n",
        "  Dropout(0.2),\n",
        "  Dense(32, activation='relu'),\n",
        "  Dropout(0.2),\n",
        "  Dense(10, activation='softmax'),])"
      ],
      "execution_count": 93,
      "outputs": []
    },
    {
      "cell_type": "markdown",
      "metadata": {
        "id": "7o3oMoME_Rfk"
      },
      "source": [
        "# Compile the model"
      ]
    },
    {
      "cell_type": "code",
      "metadata": {
        "id": "hmyK0ImRVLPA"
      },
      "source": [
        "model.compile(\n",
        "         'adam',\n",
        "        loss='categorical_crossentropy',\n",
        "         metrics=['accuracy'],)"
      ],
      "execution_count": 94,
      "outputs": []
    },
    {
      "cell_type": "markdown",
      "metadata": {
        "id": "kSwbIhDA_XyU"
      },
      "source": [
        "# Train the model"
      ]
    },
    {
      "cell_type": "code",
      "metadata": {
        "colab": {
          "base_uri": "https://localhost:8080/"
        },
        "id": "n1kocWdSV2ZI",
        "outputId": "8cc19b9a-1c6e-4c0b-a745-59577297589c"
      },
      "source": [
        "model.fit(\n",
        "        x_train,\n",
        "        to_categorical(y_train),\n",
        "    \n",
        "        epochs=30,\n",
        "        validation_data=(x_test,to_categorical( y_test))\n",
        "        )"
      ],
      "execution_count": 95,
      "outputs": [
        {
          "output_type": "stream",
          "text": [
            "Epoch 1/30\n",
            "1563/1563 [==============================] - 7s 4ms/step - loss: 1.8356 - accuracy: 0.3371 - val_loss: 1.3921 - val_accuracy: 0.5034\n",
            "Epoch 2/30\n",
            "1563/1563 [==============================] - 6s 4ms/step - loss: 1.4587 - accuracy: 0.4775 - val_loss: 1.2748 - val_accuracy: 0.5407\n",
            "Epoch 3/30\n",
            "1563/1563 [==============================] - 6s 4ms/step - loss: 1.3243 - accuracy: 0.5276 - val_loss: 1.2220 - val_accuracy: 0.5614\n",
            "Epoch 4/30\n",
            "1563/1563 [==============================] - 6s 4ms/step - loss: 1.2573 - accuracy: 0.5538 - val_loss: 1.1969 - val_accuracy: 0.5760\n",
            "Epoch 5/30\n",
            "1563/1563 [==============================] - 6s 4ms/step - loss: 1.1919 - accuracy: 0.5752 - val_loss: 1.1760 - val_accuracy: 0.5795\n",
            "Epoch 6/30\n",
            "1563/1563 [==============================] - 6s 4ms/step - loss: 1.1535 - accuracy: 0.5882 - val_loss: 1.1665 - val_accuracy: 0.5833\n",
            "Epoch 7/30\n",
            "1563/1563 [==============================] - 6s 4ms/step - loss: 1.1229 - accuracy: 0.6010 - val_loss: 1.1532 - val_accuracy: 0.5921\n",
            "Epoch 8/30\n",
            "1563/1563 [==============================] - 6s 4ms/step - loss: 1.0817 - accuracy: 0.6179 - val_loss: 1.1435 - val_accuracy: 0.5939\n",
            "Epoch 9/30\n",
            "1563/1563 [==============================] - 6s 4ms/step - loss: 1.0650 - accuracy: 0.6211 - val_loss: 1.1471 - val_accuracy: 0.5922\n",
            "Epoch 10/30\n",
            "1563/1563 [==============================] - 6s 4ms/step - loss: 1.0305 - accuracy: 0.6332 - val_loss: 1.1601 - val_accuracy: 0.5886\n",
            "Epoch 11/30\n",
            "1563/1563 [==============================] - 6s 4ms/step - loss: 1.0239 - accuracy: 0.6349 - val_loss: 1.1448 - val_accuracy: 0.5969\n",
            "Epoch 12/30\n",
            "1563/1563 [==============================] - 6s 4ms/step - loss: 0.9919 - accuracy: 0.6489 - val_loss: 1.1550 - val_accuracy: 0.5926\n",
            "Epoch 13/30\n",
            "1563/1563 [==============================] - 6s 4ms/step - loss: 0.9743 - accuracy: 0.6557 - val_loss: 1.1457 - val_accuracy: 0.5986\n",
            "Epoch 14/30\n",
            "1563/1563 [==============================] - 6s 4ms/step - loss: 0.9639 - accuracy: 0.6574 - val_loss: 1.1634 - val_accuracy: 0.5952\n",
            "Epoch 15/30\n",
            "1563/1563 [==============================] - 6s 4ms/step - loss: 0.9442 - accuracy: 0.6627 - val_loss: 1.1649 - val_accuracy: 0.5946\n",
            "Epoch 16/30\n",
            "1563/1563 [==============================] - 6s 4ms/step - loss: 0.9241 - accuracy: 0.6703 - val_loss: 1.1672 - val_accuracy: 0.5925\n",
            "Epoch 17/30\n",
            "1563/1563 [==============================] - 6s 4ms/step - loss: 0.9121 - accuracy: 0.6747 - val_loss: 1.1610 - val_accuracy: 0.5980\n",
            "Epoch 18/30\n",
            "1563/1563 [==============================] - 6s 4ms/step - loss: 0.9089 - accuracy: 0.6750 - val_loss: 1.1526 - val_accuracy: 0.5959\n",
            "Epoch 19/30\n",
            "1563/1563 [==============================] - 6s 4ms/step - loss: 0.8727 - accuracy: 0.6891 - val_loss: 1.1732 - val_accuracy: 0.5974\n",
            "Epoch 20/30\n",
            "1563/1563 [==============================] - 6s 4ms/step - loss: 0.8699 - accuracy: 0.6913 - val_loss: 1.1845 - val_accuracy: 0.5920\n",
            "Epoch 21/30\n",
            "1563/1563 [==============================] - 6s 4ms/step - loss: 0.8558 - accuracy: 0.6968 - val_loss: 1.1713 - val_accuracy: 0.5976\n",
            "Epoch 22/30\n",
            "1563/1563 [==============================] - 6s 4ms/step - loss: 0.8566 - accuracy: 0.6896 - val_loss: 1.1942 - val_accuracy: 0.5977\n",
            "Epoch 23/30\n",
            "1563/1563 [==============================] - 6s 4ms/step - loss: 0.8489 - accuracy: 0.7003 - val_loss: 1.1910 - val_accuracy: 0.6002\n",
            "Epoch 24/30\n",
            "1563/1563 [==============================] - 6s 4ms/step - loss: 0.8352 - accuracy: 0.7011 - val_loss: 1.2111 - val_accuracy: 0.5995\n",
            "Epoch 25/30\n",
            "1563/1563 [==============================] - 6s 4ms/step - loss: 0.8189 - accuracy: 0.7056 - val_loss: 1.2380 - val_accuracy: 0.5883\n",
            "Epoch 26/30\n",
            "1563/1563 [==============================] - 6s 4ms/step - loss: 0.8135 - accuracy: 0.7110 - val_loss: 1.2228 - val_accuracy: 0.5873\n",
            "Epoch 27/30\n",
            "1563/1563 [==============================] - 6s 4ms/step - loss: 0.8101 - accuracy: 0.7088 - val_loss: 1.2060 - val_accuracy: 0.5976\n",
            "Epoch 28/30\n",
            "1563/1563 [==============================] - 6s 4ms/step - loss: 0.7963 - accuracy: 0.7139 - val_loss: 1.2125 - val_accuracy: 0.5951\n",
            "Epoch 29/30\n",
            "1563/1563 [==============================] - 6s 4ms/step - loss: 0.7949 - accuracy: 0.7163 - val_loss: 1.2196 - val_accuracy: 0.5979\n",
            "Epoch 30/30\n",
            "1563/1563 [==============================] - 6s 4ms/step - loss: 0.7804 - accuracy: 0.7171 - val_loss: 1.2340 - val_accuracy: 0.5975\n"
          ],
          "name": "stdout"
        },
        {
          "output_type": "execute_result",
          "data": {
            "text/plain": [
              "<tensorflow.python.keras.callbacks.History at 0x7f0ca8402950>"
            ]
          },
          "metadata": {
            "tags": []
          },
          "execution_count": 95
        }
      ]
    },
    {
      "cell_type": "markdown",
      "metadata": {
        "id": "_6gPeBzR_lyU"
      },
      "source": [
        "# Predict on the first 10 test images."
      ]
    },
    {
      "cell_type": "code",
      "metadata": {
        "id": "KoWDME_Qs6kg"
      },
      "source": [
        "predictions = model.predict(x_test[:10])"
      ],
      "execution_count": 96,
      "outputs": []
    },
    {
      "cell_type": "markdown",
      "metadata": {
        "id": "iZb8A7tg_wrm"
      },
      "source": [
        "# Print our model's predictions."
      ]
    },
    {
      "cell_type": "code",
      "metadata": {
        "colab": {
          "base_uri": "https://localhost:8080/"
        },
        "id": "Dl3LGVnBtH2Z",
        "outputId": "adb9ed6c-a726-4a4e-8aa8-5108730aa5a2"
      },
      "source": [
        "print(\"These are the model predictions :\")\n",
        "print(np.argmax(predictions, axis=1)) \n",
        "print(\"\\n\")"
      ],
      "execution_count": 97,
      "outputs": [
        {
          "output_type": "stream",
          "text": [
            "These are the model predictions :\n",
            "[3 8 8 0 4 6 1 6 5 1]\n",
            "\n",
            "\n"
          ],
          "name": "stdout"
        }
      ]
    },
    {
      "cell_type": "markdown",
      "metadata": {
        "id": "lR2cEmsH_zBH"
      },
      "source": [
        "# Check our predictions against the ground truth"
      ]
    },
    {
      "cell_type": "code",
      "metadata": {
        "colab": {
          "base_uri": "https://localhost:8080/"
        },
        "id": "N0QSznfBtTxs",
        "outputId": "23fb5a22-5eb7-4862-9008-5cbc7150de34"
      },
      "source": [
        "print(\"These are the corresponding labels :\")\n",
        "print(y_test[:10])"
      ],
      "execution_count": 98,
      "outputs": [
        {
          "output_type": "stream",
          "text": [
            "These are the corresponding labels :\n",
            "[[3]\n",
            " [8]\n",
            " [8]\n",
            " [0]\n",
            " [6]\n",
            " [6]\n",
            " [1]\n",
            " [6]\n",
            " [3]\n",
            " [1]]\n"
          ],
          "name": "stdout"
        }
      ]
    }
  ]
}